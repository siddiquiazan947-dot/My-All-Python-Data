{
 "cells": [
  {
   "cell_type": "code",
   "execution_count": 30,
   "id": "bba5335e-13da-4eae-b4eb-36f4236f5b44",
   "metadata": {},
   "outputs": [
    {
     "name": "stdout",
     "output_type": "stream",
     "text": [
      "My Name is Azan.\n"
     ]
    }
   ],
   "source": [
    "with open(\"C:\\\\Users\\\\H S COMPUTER S HYD\\\\Documents\\\\myname.txt\",\"r\") as file:\n",
    "    content=file.read()\n",
    "    print(content)\n",
    "        "
   ]
  },
  {
   "cell_type": "code",
   "execution_count": 31,
   "id": "e29941f5-6f6e-4a5d-8aa2-013e3b469130",
   "metadata": {},
   "outputs": [],
   "source": [
    "with open(\"C:\\\\Users\\\\H S COMPUTER S HYD\\\\Documents\\\\myname.txt\",\"a\") as file:\n",
    "    file.write(\"My age is 16.\")"
   ]
  },
  {
   "cell_type": "code",
   "execution_count": 32,
   "id": "3613fa1d-dadc-4c30-8d43-d9b48d13a6a8",
   "metadata": {},
   "outputs": [
    {
     "name": "stdout",
     "output_type": "stream",
     "text": [
      "My Name is Azan.My age is 16.\n"
     ]
    }
   ],
   "source": [
    "with open(\"C:\\\\Users\\\\H S COMPUTER S HYD\\\\Documents\\\\myname.txt\",\"r\") as file:\n",
    "    content=file.read()\n",
    "    print(content)"
   ]
  },
  {
   "cell_type": "code",
   "execution_count": 33,
   "id": "dfc6f636-ef6c-412a-9d33-b41c73855dad",
   "metadata": {},
   "outputs": [],
   "source": [
    "with open(\"C:\\\\Users\\\\H S COMPUTER S HYD\\\\Documents\\\\myname.txt\",\"w\") as file:\n",
    "    file.write(\"My Favorite Movie is Housefull\")\n",
    "    file.write(\"My 2 Favorite Movie is 1920\")\n",
    "    file.write(\"My 3 Favorite Movie is BAhubali\")"
   ]
  },
  {
   "cell_type": "code",
   "execution_count": 34,
   "id": "8f0d5514-99b4-48a5-9046-997005ea7028",
   "metadata": {},
   "outputs": [
    {
     "name": "stdout",
     "output_type": "stream",
     "text": [
      "My Favorite Movie is HousefullMy 2 Favorite Movie is 1920My 3 Favorite Movie is BAhubali\n"
     ]
    }
   ],
   "source": [
    "with open(\"C:\\\\Users\\\\H S COMPUTER S HYD\\\\Documents\\\\myname.txt\",\"r\") as file:\n",
    "    content=file.read()\n",
    "    print(content)"
   ]
  },
  {
   "cell_type": "code",
   "execution_count": 35,
   "id": "2ff70ff8-0856-4b89-9e1f-ab18cb475d24",
   "metadata": {},
   "outputs": [],
   "source": [
    "with open(\"C:\\\\Users\\\\H S COMPUTER S HYD\\\\Documents\\\\myname.txt\",\"a\") as file:\n",
    "    file.write(\"Date:08-07-2025\")\n",
    "    file.write(\"Time=03:46\")\n",
    "    "
   ]
  },
  {
   "cell_type": "code",
   "execution_count": 36,
   "id": "3252a80d-2d1a-4bc5-99ae-90f0a74bea97",
   "metadata": {},
   "outputs": [
    {
     "name": "stdout",
     "output_type": "stream",
     "text": [
      "My Favorite Movie is HousefullMy 2 Favorite Movie is 1920My 3 Favorite Movie is BAhubaliDate:08-07-2025Time=03:46\n"
     ]
    }
   ],
   "source": [
    "with open(\"C:\\\\Users\\\\H S COMPUTER S HYD\\\\Documents\\\\myname.txt\",\"r\") as file:\n",
    "    content=file.read()\n",
    "    print(content)"
   ]
  },
  {
   "cell_type": "code",
   "execution_count": 38,
   "id": "78b62a1d-806f-40e0-9e11-42d96b346aaa",
   "metadata": {},
   "outputs": [],
   "source": [
    "import os"
   ]
  },
  {
   "cell_type": "code",
   "execution_count": 42,
   "id": "34a42468-6280-4c29-b248-3b6666e14817",
   "metadata": {},
   "outputs": [
    {
     "name": "stdout",
     "output_type": "stream",
     "text": [
      "not found\n"
     ]
    }
   ],
   "source": [
    "if os.path.exists(\"myname,txt\"):\n",
    "    print(\"file found\")\n",
    "else:\n",
    "    print(\"not found\")"
   ]
  },
  {
   "cell_type": "code",
   "execution_count": 43,
   "id": "d5c28564-f921-44cc-9207-7f821ed2a0cc",
   "metadata": {},
   "outputs": [],
   "source": [
    "#New work"
   ]
  }
 ],
 "metadata": {
  "kernelspec": {
   "display_name": "Python 3 (ipykernel)",
   "language": "python",
   "name": "python3"
  },
  "language_info": {
   "codemirror_mode": {
    "name": "ipython",
    "version": 3
   },
   "file_extension": ".py",
   "mimetype": "text/x-python",
   "name": "python",
   "nbconvert_exporter": "python",
   "pygments_lexer": "ipython3",
   "version": "3.13.3"
  }
 },
 "nbformat": 4,
 "nbformat_minor": 5
}
