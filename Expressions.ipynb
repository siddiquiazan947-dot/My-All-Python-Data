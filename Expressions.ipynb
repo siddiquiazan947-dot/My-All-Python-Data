{
 "cells": [
  {
   "cell_type": "code",
   "execution_count": 3,
   "id": "0bb6ba0b-535e-46c7-8153-6f5b50245139",
   "metadata": {},
   "outputs": [
    {
     "name": "stdout",
     "output_type": "stream",
     "text": [
      "Found\n"
     ]
    }
   ],
   "source": [
    "import re                               #Search=full mai search or return true and false\n",
    "text=\"My Name is Azan\"                  #match=text ke start me find karta hai\n",
    "pattern=r\"Azan\"                         #findall=puray text mai search karega and return in [List]\n",
    "match=re.search(pattern,text)\n",
    "if match:\n",
    "    print(\"Found\")\n",
    "else:\n",
    "    print(\"Not Found\")"
   ]
  },
  {
   "cell_type": "code",
   "execution_count": 4,
   "id": "be0bc8f2-3a2e-4755-a05e-16a4578f5f6b",
   "metadata": {},
   "outputs": [
    {
     "ename": "KeyboardInterrupt",
     "evalue": "Interrupted by user",
     "output_type": "error",
     "traceback": [
      "\u001b[31m---------------------------------------------------------------------------\u001b[39m",
      "\u001b[31mKeyboardInterrupt\u001b[39m                         Traceback (most recent call last)",
      "\u001b[36mCell\u001b[39m\u001b[36m \u001b[39m\u001b[32mIn[4]\u001b[39m\u001b[32m, line 2\u001b[39m\n\u001b[32m      1\u001b[39m \u001b[38;5;28;01mimport\u001b[39;00m\u001b[38;5;250m \u001b[39m\u001b[34;01mre\u001b[39;00m\n\u001b[32m----> \u001b[39m\u001b[32m2\u001b[39m text=\u001b[38;5;28;43minput\u001b[39;49m\u001b[43m(\u001b[49m\u001b[33;43m\"\u001b[39;49m\u001b[33;43mEnter your Name\u001b[39;49m\u001b[33;43m\"\u001b[39;49m\u001b[43m)\u001b[49m\n\u001b[32m      3\u001b[39m pattern=\u001b[33mr\u001b[39m\u001b[33m\"\u001b[39m\u001b[33mAzan\u001b[39m\u001b[33m\"\u001b[39m\n\u001b[32m      4\u001b[39m match=re.search(pattern,text)\n",
      "\u001b[36mFile \u001b[39m\u001b[32m~\\AppData\\Local\\Programs\\Python\\Python313\\Lib\\site-packages\\ipykernel\\kernelbase.py:1282\u001b[39m, in \u001b[36mKernel.raw_input\u001b[39m\u001b[34m(self, prompt)\u001b[39m\n\u001b[32m   1280\u001b[39m     msg = \u001b[33m\"\u001b[39m\u001b[33mraw_input was called, but this frontend does not support input requests.\u001b[39m\u001b[33m\"\u001b[39m\n\u001b[32m   1281\u001b[39m     \u001b[38;5;28;01mraise\u001b[39;00m StdinNotImplementedError(msg)\n\u001b[32m-> \u001b[39m\u001b[32m1282\u001b[39m \u001b[38;5;28;01mreturn\u001b[39;00m \u001b[38;5;28;43mself\u001b[39;49m\u001b[43m.\u001b[49m\u001b[43m_input_request\u001b[49m\u001b[43m(\u001b[49m\n\u001b[32m   1283\u001b[39m \u001b[43m    \u001b[49m\u001b[38;5;28;43mstr\u001b[39;49m\u001b[43m(\u001b[49m\u001b[43mprompt\u001b[49m\u001b[43m)\u001b[49m\u001b[43m,\u001b[49m\n\u001b[32m   1284\u001b[39m \u001b[43m    \u001b[49m\u001b[38;5;28;43mself\u001b[39;49m\u001b[43m.\u001b[49m\u001b[43m_parent_ident\u001b[49m\u001b[43m[\u001b[49m\u001b[33;43m\"\u001b[39;49m\u001b[33;43mshell\u001b[39;49m\u001b[33;43m\"\u001b[39;49m\u001b[43m]\u001b[49m\u001b[43m,\u001b[49m\n\u001b[32m   1285\u001b[39m \u001b[43m    \u001b[49m\u001b[38;5;28;43mself\u001b[39;49m\u001b[43m.\u001b[49m\u001b[43mget_parent\u001b[49m\u001b[43m(\u001b[49m\u001b[33;43m\"\u001b[39;49m\u001b[33;43mshell\u001b[39;49m\u001b[33;43m\"\u001b[39;49m\u001b[43m)\u001b[49m\u001b[43m,\u001b[49m\n\u001b[32m   1286\u001b[39m \u001b[43m    \u001b[49m\u001b[43mpassword\u001b[49m\u001b[43m=\u001b[49m\u001b[38;5;28;43;01mFalse\u001b[39;49;00m\u001b[43m,\u001b[49m\n\u001b[32m   1287\u001b[39m \u001b[43m\u001b[49m\u001b[43m)\u001b[49m\n",
      "\u001b[36mFile \u001b[39m\u001b[32m~\\AppData\\Local\\Programs\\Python\\Python313\\Lib\\site-packages\\ipykernel\\kernelbase.py:1325\u001b[39m, in \u001b[36mKernel._input_request\u001b[39m\u001b[34m(self, prompt, ident, parent, password)\u001b[39m\n\u001b[32m   1322\u001b[39m \u001b[38;5;28;01mexcept\u001b[39;00m \u001b[38;5;167;01mKeyboardInterrupt\u001b[39;00m:\n\u001b[32m   1323\u001b[39m     \u001b[38;5;66;03m# re-raise KeyboardInterrupt, to truncate traceback\u001b[39;00m\n\u001b[32m   1324\u001b[39m     msg = \u001b[33m\"\u001b[39m\u001b[33mInterrupted by user\u001b[39m\u001b[33m\"\u001b[39m\n\u001b[32m-> \u001b[39m\u001b[32m1325\u001b[39m     \u001b[38;5;28;01mraise\u001b[39;00m \u001b[38;5;167;01mKeyboardInterrupt\u001b[39;00m(msg) \u001b[38;5;28;01mfrom\u001b[39;00m\u001b[38;5;250m \u001b[39m\u001b[38;5;28;01mNone\u001b[39;00m\n\u001b[32m   1326\u001b[39m \u001b[38;5;28;01mexcept\u001b[39;00m \u001b[38;5;167;01mException\u001b[39;00m:\n\u001b[32m   1327\u001b[39m     \u001b[38;5;28mself\u001b[39m.log.warning(\u001b[33m\"\u001b[39m\u001b[33mInvalid Message:\u001b[39m\u001b[33m\"\u001b[39m, exc_info=\u001b[38;5;28;01mTrue\u001b[39;00m)\n",
      "\u001b[31mKeyboardInterrupt\u001b[39m: Interrupted by user"
     ]
    }
   ],
   "source": [
    "import re\n",
    "text=input(\"Enter your Name\")\n",
    "pattern=r\"Azan\"\n",
    "match=re.search(pattern,text)\n",
    "if match:\n",
    "    print(\"Found\")\n",
    "else:\n",
    "    print(\"Not Found\")"
   ]
  },
  {
   "cell_type": "code",
   "execution_count": 13,
   "id": "ae36f143-ade1-4e7c-878e-d5539e8c2579",
   "metadata": {},
   "outputs": [
    {
     "name": "stdout",
     "output_type": "stream",
     "text": [
      "['03144506042']\n"
     ]
    }
   ],
   "source": [
    "text=\"My Phone Number is 03144506042\"\n",
    "pattern=r\"\\d+\"\n",
    "numbers=re.findall(pattern,text)\n",
    "print(numbers)"
   ]
  },
  {
   "cell_type": "code",
   "execution_count": 21,
   "id": "fb096e2d-081e-4298-90f8-e9a6863f2e7d",
   "metadata": {},
   "outputs": [
    {
     "name": "stdin",
     "output_type": "stream",
     "text": [
      "Enter your Email siddiquiazan947@gmail.com\n"
     ]
    },
    {
     "name": "stdout",
     "output_type": "stream",
     "text": [
      "Email is Correct: siddiquiazan947@gmail.com\n"
     ]
    }
   ],
   "source": [
    "email=input(\"Enter your Email\")\n",
    "pattern=r\"[a-zA-Z0-9._]+@[a-z]+\\.[a-z]+\"\n",
    "check=re.search(pattern,email)\n",
    "if check:\n",
    "    print(\"Email is Correct:\",check.group())\n",
    "else:\n",
    "    print(\"Email Not Found\")"
   ]
  },
  {
   "cell_type": "code",
   "execution_count": 22,
   "id": "d9d7f7f4-5247-4e8b-9e6a-5720d10adcb2",
   "metadata": {},
   "outputs": [
    {
     "name": "stdout",
     "output_type": "stream",
     "text": [
      "he is a Good footballer\n"
     ]
    }
   ],
   "source": [
    "text=\"he is a bad footballer\"\n",
    "pattern=r\"bad\"\n",
    "match=re.sub(pattern,\"Good\",text)   \n",
    "print(match)                                               #sub=replace"
   ]
  },
  {
   "cell_type": "code",
   "execution_count": 23,
   "id": "7ea4ade0-4e96-421b-b79d-f2902b2edf10",
   "metadata": {},
   "outputs": [
    {
     "name": "stdin",
     "output_type": "stream",
     "text": [
      "Fill your Word Best\n"
     ]
    },
    {
     "name": "stdout",
     "output_type": "stream",
     "text": [
      "he is a Best footballer\n"
     ]
    }
   ],
   "source": [
    "text=\"he is a ____ footballer\"\n",
    "pattern=r\"____\"\n",
    "user=input(\"Fill your Word\")\n",
    "match=re.sub(pattern,user,text)   \n",
    "print(match)                                               #sub=replace"
   ]
  },
  {
   "cell_type": "code",
   "execution_count": 24,
   "id": "1c3cddec-b2da-4b6b-bca1-870543282407",
   "metadata": {},
   "outputs": [
    {
     "name": "stdout",
     "output_type": "stream",
     "text": [
      "['2', '350']\n"
     ]
    }
   ],
   "source": [
    "text=\"he bought 2 books for 350 rupees\"\n",
    "pattern=r\"\\d+\"\n",
    "check=re.findall(pattern,text)\n",
    "print(check)"
   ]
  },
  {
   "cell_type": "code",
   "execution_count": 31,
   "id": "ec01986d-dc9a-46e4-8f38-6f91b1184b57",
   "metadata": {},
   "outputs": [
    {
     "name": "stdin",
     "output_type": "stream",
     "text": [
      "Enter your Sentence: i bought 2.5 book at rs:599.9\n"
     ]
    },
    {
     "name": "stdout",
     "output_type": "stream",
     "text": [
      "['2', '5', '599', '9']\n"
     ]
    }
   ],
   "source": [
    "text=input(\"Enter your Sentence:\")\n",
    "pattern=r\"\\d+\"\n",
    "check=re.findall(pattern,text)\n",
    "print(check)"
   ]
  },
  {
   "cell_type": "code",
   "execution_count": 39,
   "id": "797f78ae-810b-4042-a804-60f49f7e8282",
   "metadata": {},
   "outputs": [
    {
     "name": "stdout",
     "output_type": "stream",
     "text": [
      "['2.5', '499.9']\n"
     ]
    }
   ],
   "source": [
    "text=\"he bought 2.5 books for 499.9 rupees\"\n",
    "pattern=r\"[\\d..]+\"\n",
    "check=re.findall(pattern,text)\n",
    "print(check)"
   ]
  },
  {
   "cell_type": "code",
   "execution_count": 53,
   "id": "b0b57deb-b86b-496a-a0ab-929b096b012a",
   "metadata": {},
   "outputs": [
    {
     "name": "stdout",
     "output_type": "stream",
     "text": [
      "['25.8']\n"
     ]
    }
   ],
   "source": [
    "text=\"my age is 25.8\"\n",
    "pattern=r\"[\\d\\.]+\\.\\d+\"                        #Floor\n",
    "check=re.findall(pattern,text)\n",
    "print(check)"
   ]
  },
  {
   "cell_type": "code",
   "execution_count": 62,
   "id": "16c8ab12-a5a1-43e9-bdc7-f27e4a31d6ed",
   "metadata": {},
   "outputs": [
    {
     "name": "stdin",
     "output_type": "stream",
     "text": [
      "Enter your Password Hello@123\n"
     ]
    },
    {
     "name": "stdout",
     "output_type": "stream",
     "text": [
      "Correct Password: Hello@123\n"
     ]
    }
   ],
   "source": [
    "password=input(\"Enter your Password\")\n",
    "pattern=r\"[A-z]+[a-z]*[A-Za-z0-9!@#$%&]+\"\n",
    "check=re.search(pattern,password)\n",
    "if check:\n",
    "    print(\"Correct Password:\",check.group())\n",
    "else:\n",
    "    print(\"Incorrect\")"
   ]
  },
  {
   "cell_type": "code",
   "execution_count": 66,
   "id": "e5da7696-9c4a-4b15-afad-1fdc276f7ac9",
   "metadata": {},
   "outputs": [
    {
     "name": "stdout",
     "output_type": "stream",
     "text": [
      "['#Hard', '#Morning2k25']\n"
     ]
    }
   ],
   "source": [
    "text=\"I have Been Working #Hard Since #Morning2k25\"\n",
    "pattern=r\"#\\w+\"\n",
    "check=re.findall(pattern,text)\n",
    "print(check)"
   ]
  },
  {
   "cell_type": "code",
   "execution_count": 87,
   "id": "a4c92429-898a-4420-bd9d-4137b12122cd",
   "metadata": {},
   "outputs": [
    {
     "name": "stdout",
     "output_type": "stream",
     "text": [
      "['0342-3617061', '0314-4505042']\n"
     ]
    }
   ],
   "source": [
    "text=\"I have Two Numbers,0342-3617061 and 0314-4505042\"\n",
    "pattern=r\"03\\d{2}-\\d{7}\"\n",
    "check=re.findall(pattern,text)\n",
    "print(check)"
   ]
  },
  {
   "cell_type": "code",
   "execution_count": 89,
   "id": "ce0bd7c8-5bac-43c5-9c8f-edc6769446d2",
   "metadata": {},
   "outputs": [
    {
     "name": "stdin",
     "output_type": "stream",
     "text": [
      "Enter your Number 0314-4506042\n"
     ]
    },
    {
     "name": "stdout",
     "output_type": "stream",
     "text": [
      "['0314-4506042']\n"
     ]
    }
   ],
   "source": [
    "text=input(\"Enter your Number\")\n",
    "if(len(text)<13):\n",
    "    pattern=r\"03\\d{2}-\\d{7}\"\n",
    "    check=re.findall(pattern,text)\n",
    "    print(check)\n",
    "else:\n",
    "    print(\"Number Can not be more than 12\")"
   ]
  },
  {
   "cell_type": "code",
   "execution_count": 5,
   "id": "89ca219f-2669-46d0-806e-9caff4c4b4d6",
   "metadata": {},
   "outputs": [
    {
     "name": "stdout",
     "output_type": "stream",
     "text": [
      "['he', 'bought', 'books', 'for', 'rupees']\n"
     ]
    }
   ],
   "source": [
    "text=\"he bought 2 books for 500 rupees azan13siddiqui\"\n",
    "pattern=r\"\\b[A-Za-z]+\\b\"                                         #\\b=start and end\n",
    "check=re.findall(pattern,text)\n",
    "print(check)"
   ]
  },
  {
   "cell_type": "code",
   "execution_count": 6,
   "id": "ee819ccf-f292-4089-a937-3234a90bf352",
   "metadata": {},
   "outputs": [],
   "source": [
    "#NEW"
   ]
  },
  {
   "cell_type": "code",
   "execution_count": 31,
   "id": "d97640ab-a591-4c0b-af39-934d2f04c37c",
   "metadata": {},
   "outputs": [
    {
     "name": "stdout",
     "output_type": "stream",
     "text": [
      "My name is Muhammad Azan and My Email Address is siddiquiazan947@gmail.com My Contact Number is 0314-4506042 My CNIC Number is 41504-06106-589\n",
      "My name is Muhammad Azan and My Email Address is siddiquiazan947@gmail.com My Contact Number is 0314-4506042 My CNIC Number is 41504-06106-589\n",
      "My name is Muhammad Azan and My Email Address is siddiquiazan947@gmail.com My Contact Number is 0314-4506042 My CNIC Number is 41504-06106-589\n"
     ]
    }
   ],
   "source": [
    "with open(\"C:\\\\Users\\\\H S COMPUTER S HYD\\\\Documents\\\\data.txt\",\"r\") as file:\n",
    "    content=file.read()\n",
    "    print(content)"
   ]
  },
  {
   "cell_type": "code",
   "execution_count": 25,
   "id": "3e55767d-31b0-4d7a-839b-6cf1a256667a",
   "metadata": {},
   "outputs": [
    {
     "name": "stdout",
     "output_type": "stream",
     "text": [
      "['siddiquiazan947@gmail.com']\n"
     ]
    }
   ],
   "source": [
    "import re\n",
    "email_r=r\"[a-zA-Z0-9._]+@[a-z]+\\.[a-z]+\"\n",
    "match=re.findall(email_r,content)\n",
    "print(match)\n"
   ]
  },
  {
   "cell_type": "code",
   "execution_count": 26,
   "id": "a4cedeaf-097b-4497-9125-da77fd0222cc",
   "metadata": {},
   "outputs": [
    {
     "name": "stdout",
     "output_type": "stream",
     "text": [
      "['0314-4506042']\n"
     ]
    }
   ],
   "source": [
    "phone_r=r\"03\\d{2}-\\d{7}\"\n",
    "match1=re.findall(phone_r,content)\n",
    "print(match1)"
   ]
  },
  {
   "cell_type": "code",
   "execution_count": 27,
   "id": "9e950bd0-c449-4cde-a8e7-13bf711de5c1",
   "metadata": {},
   "outputs": [
    {
     "name": "stdout",
     "output_type": "stream",
     "text": [
      "['2314-4506042']\n"
     ]
    }
   ],
   "source": [
    "Pak_num=r\"[+92]\\d{3}-\\d{7}\"\n",
    "match2=re.findall(Pak_num,content)\n",
    "print(match2)"
   ]
  },
  {
   "cell_type": "code",
   "execution_count": 28,
   "id": "2dd23a64-b1c1-42eb-8576-a2e7e345ab4b",
   "metadata": {},
   "outputs": [
    {
     "name": "stdout",
     "output_type": "stream",
     "text": [
      "['41504-06106-589']\n"
     ]
    }
   ],
   "source": [
    "CNIC_r=r\"\\d{5}-\\d{5}-\\d{3}\"\n",
    "match3=re.findall(CNIC_r,content)\n",
    "print(match3)"
   ]
  },
  {
   "cell_type": "code",
   "execution_count": 30,
   "id": "34fba7f9-6ed8-4082-bbaa-56a0128610ad",
   "metadata": {},
   "outputs": [],
   "source": [
    "with open(\"C:\\\\Users\\\\H S COMPUTER S HYD\\\\New_Data.txt\",\"w\") as file:\n",
    "        file.write(f\"{match}\\n\")"
   ]
  },
  {
   "cell_type": "code",
   "execution_count": 32,
   "id": "eaf89bb5-af1a-46a1-b5cf-9065e53df687",
   "metadata": {},
   "outputs": [
    {
     "name": "stdout",
     "output_type": "stream",
     "text": [
      "My name is Muhammad Azan and My Email Address is siddiquiazan947@gmail.com My Contact Number is 0314-4506042 My CNIC Number is 41504-06106-589\n",
      "My name is Muhammad Azan and My Email Address is siddiquiazan947@gmail.com My Contact Number is 0314-4506042 My CNIC Number is 41504-06106-589\n",
      "My name is Muhammad Azan and My Email Address is siddiquiazan947@gmail.com My Contact Number is 0314-4506042 My CNIC Number is 41504-06106-589\n"
     ]
    }
   ],
   "source": [
    "with open(\"C:\\\\Users\\\\H S COMPUTER S HYD\\\\Documents\\\\data.txt\",\"r\") as file:\n",
    "    content=file.read()\n",
    "    print(content)"
   ]
  },
  {
   "cell_type": "code",
   "execution_count": 33,
   "id": "f83399d1-b516-4825-87a2-ad8005511e8e",
   "metadata": {},
   "outputs": [],
   "source": [
    "email_r=r\"[a-zA-Z0-9._]+@[a-z]+\\.[a-z]+\"\n",
    "phone_r=r\"03\\d{2}-\\d{7}\"\n",
    "CNIC_r=r\"\\d{5}-\\d{5}-\\d{3}\""
   ]
  },
  {
   "cell_type": "code",
   "execution_count": 34,
   "id": "424764c9-d0e0-4a07-a731-d678439896f7",
   "metadata": {},
   "outputs": [
    {
     "ename": "_IncompleteInputError",
     "evalue": "incomplete input (3629937027.py, line 1)",
     "output_type": "error",
     "traceback": [
      "  \u001b[36mCell\u001b[39m\u001b[36m \u001b[39m\u001b[32mIn[34]\u001b[39m\u001b[32m, line 1\u001b[39m\n\u001b[31m    \u001b[39m\u001b[31mmatch1=re.findall(\u001b[39m\n                      ^\n\u001b[31m_IncompleteInputError\u001b[39m\u001b[31m:\u001b[39m incomplete input\n"
     ]
    }
   ],
   "source": [
    "match1=re.findall(email_r,content)\n",
    "match2=re."
   ]
  },
  {
   "cell_type": "code",
   "execution_count": null,
   "id": "920d671d-0b97-48c8-996b-5275881ac94a",
   "metadata": {},
   "outputs": [],
   "source": []
  },
  {
   "cell_type": "code",
   "execution_count": null,
   "id": "76009018-05af-45d9-8e17-c40523899f0d",
   "metadata": {},
   "outputs": [],
   "source": []
  },
  {
   "cell_type": "code",
   "execution_count": null,
   "id": "81555c6b-ecf6-4aef-b7dc-028d47dc1d83",
   "metadata": {},
   "outputs": [],
   "source": []
  },
  {
   "cell_type": "code",
   "execution_count": 35,
   "id": "c2b42b6e-8c21-4a31-90e9-5fac8cdf4f9d",
   "metadata": {},
   "outputs": [
    {
     "name": "stdout",
     "output_type": "stream",
     "text": [
      "My name is Muhammad Azan and My Email Address is siddiquiazan947@gmail.com My Contact Number is 0314-4506042 My CNIC Number is 41504-06106-589\n",
      "My name is Muhammad Azan and My Email Address is siddiquiazan947@gmail.com My Contact Number is 0314-4506042 My CNIC Number is 41504-06106-589\n",
      "My name is Muhammad Azan and My Email Address is siddiquiazan947@gmail.com My Contact Number is 0314-4506042 My CNIC Number is 41504-06106-589\n",
      "House No #1037.\n"
     ]
    }
   ],
   "source": [
    "with open(\"C:\\\\Users\\\\H S COMPUTER S HYD\\\\Documents\\\\data.txt\",\"r\") as file:\n",
    "    content=file.read()\n",
    "    print(content)"
   ]
  },
  {
   "cell_type": "code",
   "execution_count": 37,
   "id": "edd20980-333f-4475-ac1e-2e7691fcc535",
   "metadata": {},
   "outputs": [
    {
     "name": "stdout",
     "output_type": "stream",
     "text": [
      "['#1037']\n"
     ]
    }
   ],
   "source": [
    "house_no=r\"[#]\\d+\"\n",
    "find=re.findall(house_no,content)\n",
    "print(find)"
   ]
  },
  {
   "cell_type": "code",
   "execution_count": 38,
   "id": "c4889da2-95a7-4110-8c3c-7b6ca5efd4ea",
   "metadata": {},
   "outputs": [],
   "source": [
    "#Tasks"
   ]
  },
  {
   "cell_type": "code",
   "execution_count": 59,
   "id": "6d48e177-bf56-4d1d-ac3b-eae96994356c",
   "metadata": {},
   "outputs": [],
   "source": [
    "a=[]\n",
    "b=[]\n",
    "def list():\n",
    "    user=int(input(\"Enter a List of Number\"))\n",
    "    if(user%2==0):\n",
    "        a.append(user)\n",
    "    else:\n",
    "        b.append(user)\n",
    "    print([a],[b])"
   ]
  },
  {
   "cell_type": "code",
   "execution_count": 60,
   "id": "beaffe35-58aa-4a6c-8b68-2dac3a340a7a",
   "metadata": {},
   "outputs": [
    {
     "name": "stdin",
     "output_type": "stream",
     "text": [
      "Enter a List of Number 2\n"
     ]
    },
    {
     "name": "stdout",
     "output_type": "stream",
     "text": [
      "[[2]] [[]]\n"
     ]
    }
   ],
   "source": [
    "list()"
   ]
  },
  {
   "cell_type": "code",
   "execution_count": 81,
   "id": "001ea68c-707c-4729-9af3-1eeb3fc21b62",
   "metadata": {},
   "outputs": [],
   "source": [
    "def function():\n",
    "    email=input(\"Enter your Email\")\n",
    "    pattern=r\"[a-zA-Z0-9._]+@[a-z]+\\.[a-z]+\"\n",
    "    check=re.search(pattern,email)\n",
    "    if check:\n",
    "        print(\"Email is Correct:\",check.group())\n",
    "    else:\n",
    "        print(\"Email Not Found\")"
   ]
  },
  {
   "cell_type": "code",
   "execution_count": 83,
   "id": "cf61f87e-d1ab-47b6-8a20-21c7e60e02de",
   "metadata": {},
   "outputs": [
    {
     "name": "stdin",
     "output_type": "stream",
     "text": [
      "Enter your Email siddiquiazan947@2gmail.com\n"
     ]
    },
    {
     "name": "stdout",
     "output_type": "stream",
     "text": [
      "Email Not Found\n"
     ]
    }
   ],
   "source": [
    "function()"
   ]
  },
  {
   "cell_type": "code",
   "execution_count": 85,
   "id": "795411ae-f72b-49bd-bfb4-32b7b89821a0",
   "metadata": {},
   "outputs": [
    {
     "name": "stdin",
     "output_type": "stream",
     "text": [
      "Enter your Name Azan\n",
      " 90\n",
      "Enter your Name azan\n",
      " 99\n"
     ]
    }
   ],
   "source": [
    "with open(\"C:\\\\Users\\\\H S COMPUTER S HYD\\\\Documents\\\\Grades.txt\",\"w\") as file:\n",
    "    for x in range(2):\n",
    "        Name=input(\"Enter your Name\")\n",
    "        Marks=int(input())\n",
    "        if(Marks>80 and Marks<100):\n",
    "            file.write(f\"Name:{Name}|Marks{Marks}|Grade:A \\n\")"
   ]
  },
  {
   "cell_type": "code",
   "execution_count": 1,
   "id": "cd28e9c4-c8de-4e68-8ef9-28786b7f7499",
   "metadata": {},
   "outputs": [],
   "source": [
    "#NEW TASKS"
   ]
  },
  {
   "cell_type": "code",
   "execution_count": 22,
   "id": "9eeb142d-9f07-4aa2-a86a-7dcdb37250e6",
   "metadata": {},
   "outputs": [
    {
     "name": "stdin",
     "output_type": "stream",
     "text": [
      "Enter Your Number 4\n"
     ]
    },
    {
     "name": "stdout",
     "output_type": "stream",
     "text": [
      "Found\n"
     ]
    },
    {
     "name": "stdin",
     "output_type": "stream",
     "text": [
      "Enter Number to replace 5\n"
     ]
    },
    {
     "name": "stdout",
     "output_type": "stream",
     "text": [
      "[1, 2, 3, 5.0, 5, 6, 7, 8, 9]\n"
     ]
    }
   ],
   "source": [
    "import re\n",
    "a=[1,2,3,4,5,6,7,8,9]\n",
    "user=int(input(\"Enter Your Number\"))\n",
    "for x in range(len(a)):\n",
    "    if(user==a[x]):\n",
    "        print(\"Found\")\n",
    "        user2=float(input(\"Enter Number to replace\"))\n",
    "        a[x]=user2       \n",
    "        print(a)\n",
    "        break\n",
    "    else:\n",
    "        pass"
   ]
  },
  {
   "cell_type": "code",
   "execution_count": 64,
   "id": "f9a75dd6-c39a-4d58-8a06-1f338982efcb",
   "metadata": {},
   "outputs": [
    {
     "name": "stdout",
     "output_type": "stream",
     "text": [
      "[8, 6, 5, 2, 7, 4, 3, 1, 9, 0]\n"
     ]
    }
   ],
   "source": [
    "b=[9,8,6,5,0,7,4,3,1,2]\n",
    "for x in range(len(b)):\n",
    "    for y in range(x+1,len(b)):\n",
    "        if(b[x]>b[y]):\n",
    "            b[x],b[y]=b[y],b[x]\n",
    "        else:                                 #Sort\n",
    "            pass\n",
    "print(b)\n",
    "    \n",
    "    \n",
    "    "
   ]
  },
  {
   "cell_type": "code",
   "execution_count": 41,
   "id": "4932f3a8-b62b-4261-b9a8-f35fa92c6b28",
   "metadata": {},
   "outputs": [
    {
     "name": "stdout",
     "output_type": "stream",
     "text": [
      "([1, 2, 3, 4, 5], [6, 7, 8, 9, 10])\n"
     ]
    }
   ],
   "source": [
    "a=[1,2,3,4,5]\n",
    "b=[6,7,8,9,10]\n",
    "c=a,b\n",
    "print(c)"
   ]
  },
  {
   "cell_type": "code",
   "execution_count": 53,
   "id": "c4e850eb-1a6b-4eba-81e5-372f6e575b03",
   "metadata": {},
   "outputs": [
    {
     "name": "stdout",
     "output_type": "stream",
     "text": [
      "[1, 2, 3, 4, 5, 6, 7, 8, 9, 10]\n"
     ]
    }
   ],
   "source": [
    "a=[1,2,3,4,5]\n",
    "b=[6,7,8,9,10]\n",
    "c=[]\n",
    "for x in a:                      #Without + operator\n",
    "    c.append(x)\n",
    "for y in b:\n",
    "    c.append(y)\n",
    "print(c)"
   ]
  },
  {
   "cell_type": "code",
   "execution_count": 67,
   "id": "dc17fa23-6dce-43f1-b1d8-1949d2e36957",
   "metadata": {},
   "outputs": [
    {
     "name": "stdout",
     "output_type": "stream",
     "text": [
      "[9, 8, 7, 6, 5, 4, 3, 2, 1, 0]\n"
     ]
    }
   ],
   "source": [
    "a=[9,8,6,5,0,7,4,3,1,2]\n",
    "for x in range(len(b)):\n",
    "    for y in range(x+1,len(a)):\n",
    "        if(a[x]<a[y]):\n",
    "            a[x],a[y]=a[y],a[x]\n",
    "        else:\n",
    "            pass\n",
    "print(a)"
   ]
  },
  {
   "cell_type": "code",
   "execution_count": 74,
   "id": "b438c9f3-4e69-4ec5-9123-f6debef65cdd",
   "metadata": {},
   "outputs": [
    {
     "name": "stdout",
     "output_type": "stream",
     "text": [
      "{'String': 'Azan', 'Integer': 23, 'Float': 23.5, 'Boolean': True}\n"
     ]
    }
   ],
   "source": [
    "a=[23,\"Azan\",23.5,True]\n",
    "b={\"String\":a[1],\"Integer\":a[0],\"Float\":a[2],\"Boolean\":a[-1]}\n",
    "print(b)"
   ]
  },
  {
   "cell_type": "code",
   "execution_count": 79,
   "id": "11921bb2-e955-4047-9105-38274126d29d",
   "metadata": {},
   "outputs": [
    {
     "name": "stdout",
     "output_type": "stream",
     "text": [
      "{'int': [2, 3], 'str': ['Azan', 'Hello'], 'float': [23.5, 1.5], 'bool': [True, False]}\n"
     ]
    }
   ],
   "source": [
    "a=[2,3,\"Azan\",\"Hello\",23.5,1.5,True,False]\n",
    "dict={}\n",
    "for item in a:                                      #Task 6\n",
    "    item_type=type(item).__name__\n",
    "    if item_type not in dict:\n",
    "        dict[item_type]=[]\n",
    "    dict[item_type].append(item)\n",
    "print(dict)"
   ]
  },
  {
   "cell_type": "code",
   "execution_count": null,
   "id": "7601f2b1-55d1-491d-a530-942bf24af483",
   "metadata": {},
   "outputs": [],
   "source": []
  }
 ],
 "metadata": {
  "kernelspec": {
   "display_name": "Python 3 (ipykernel)",
   "language": "python",
   "name": "python3"
  },
  "language_info": {
   "codemirror_mode": {
    "name": "ipython",
    "version": 3
   },
   "file_extension": ".py",
   "mimetype": "text/x-python",
   "name": "python",
   "nbconvert_exporter": "python",
   "pygments_lexer": "ipython3",
   "version": "3.13.3"
  }
 },
 "nbformat": 4,
 "nbformat_minor": 5
}
