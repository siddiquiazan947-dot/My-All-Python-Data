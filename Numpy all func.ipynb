{
 "cells": [
  {
   "cell_type": "code",
   "execution_count": 24,
   "id": "a96c6746-5199-497b-adc5-979ef071a204",
   "metadata": {},
   "outputs": [],
   "source": [
    "import numpy as np"
   ]
  },
  {
   "cell_type": "code",
   "execution_count": 2,
   "id": "7457de53-ba41-48f3-9295-3df33aebb489",
   "metadata": {},
   "outputs": [
    {
     "data": {
      "text/plain": [
       "array([], shape=(2, 4, 5, 7, 8, 9, 0, 4, 3), dtype=float64)"
      ]
     },
     "execution_count": 2,
     "metadata": {},
     "output_type": "execute_result"
    }
   ],
   "source": [
    "my_array=np.ndarray([2,4,5,7,8,9,0,4,3])\n",
    "my_array"
   ]
  },
  {
   "cell_type": "code",
   "execution_count": 3,
   "id": "fc9bad94-7faa-4312-bd9e-df1bf854446c",
   "metadata": {},
   "outputs": [
    {
     "data": {
      "text/plain": [
       "array([1, 2, 3, 4, 5, 6, 7, 8, 9])"
      ]
     },
     "execution_count": 3,
     "metadata": {},
     "output_type": "execute_result"
    }
   ],
   "source": [
    "my_array1=np.arange(1,10)\n",
    "my_array1"
   ]
  },
  {
   "cell_type": "code",
   "execution_count": 4,
   "id": "5fcd47e5-3b75-4c5f-af29-5edfa7fab486",
   "metadata": {},
   "outputs": [
    {
     "data": {
      "text/plain": [
       "array([1., 2., 3., 4., 5.])"
      ]
     },
     "execution_count": 4,
     "metadata": {},
     "output_type": "execute_result"
    }
   ],
   "source": [
    "list_1=[1,2,3,4,5]\n",
    "list_1=np.array(list_1,dtype=np.float64)\n",
    "list_1"
   ]
  },
  {
   "cell_type": "code",
   "execution_count": 5,
   "id": "6fcc41bb-ed44-411c-a402-070222b78526",
   "metadata": {},
   "outputs": [
    {
     "data": {
      "text/plain": [
       "np.str_('b')"
      ]
     },
     "execution_count": 5,
     "metadata": {},
     "output_type": "execute_result"
    }
   ],
   "source": [
    "my_multi_array=np.array([[1,2,3],[\"a\",\"b\",\"c\"],[True,False,True]])\n",
    "my_multi_array[1][1]"
   ]
  },
  {
   "cell_type": "code",
   "execution_count": 6,
   "id": "ec2bf684-620c-4e8f-9a6d-157146f9d319",
   "metadata": {},
   "outputs": [
    {
     "data": {
      "text/plain": [
       "array([0.        , 0.11111111, 0.22222222, 0.33333333, 0.44444444,\n",
       "       0.55555556, 0.66666667, 0.77777778, 0.88888889, 1.        ])"
      ]
     },
     "execution_count": 6,
     "metadata": {},
     "output_type": "execute_result"
    }
   ],
   "source": [
    "np.linspace(0,1,10)"
   ]
  },
  {
   "cell_type": "code",
   "execution_count": 7,
   "id": "1d7121f9-06a7-4be1-a688-06f579049b3f",
   "metadata": {},
   "outputs": [
    {
     "data": {
      "text/plain": [
       "\u001b[31mDocstring:\u001b[39m\n",
       "zeros(shape, dtype=float, order='C', *, like=None)\n",
       "\n",
       "Return a new array of given shape and type, filled with zeros.\n",
       "\n",
       "Parameters\n",
       "----------\n",
       "shape : int or tuple of ints\n",
       "    Shape of the new array, e.g., ``(2, 3)`` or ``2``.\n",
       "dtype : data-type, optional\n",
       "    The desired data-type for the array, e.g., `numpy.int8`.  Default is\n",
       "    `numpy.float64`.\n",
       "order : {'C', 'F'}, optional, default: 'C'\n",
       "    Whether to store multi-dimensional data in row-major\n",
       "    (C-style) or column-major (Fortran-style) order in\n",
       "    memory.\n",
       "like : array_like, optional\n",
       "    Reference object to allow the creation of arrays which are not\n",
       "    NumPy arrays. If an array-like passed in as ``like`` supports\n",
       "    the ``__array_function__`` protocol, the result will be defined\n",
       "    by it. In this case, it ensures the creation of an array object\n",
       "    compatible with that passed in via this argument.\n",
       "\n",
       "    .. versionadded:: 1.20.0\n",
       "\n",
       "Returns\n",
       "-------\n",
       "out : ndarray\n",
       "    Array of zeros with the given shape, dtype, and order.\n",
       "\n",
       "See Also\n",
       "--------\n",
       "zeros_like : Return an array of zeros with shape and type of input.\n",
       "empty : Return a new uninitialized array.\n",
       "ones : Return a new array setting values to one.\n",
       "full : Return a new array of given shape filled with value.\n",
       "\n",
       "Examples\n",
       "--------\n",
       ">>> import numpy as np\n",
       ">>> np.zeros(5)\n",
       "array([ 0.,  0.,  0.,  0.,  0.])\n",
       "\n",
       ">>> np.zeros((5,), dtype=int)\n",
       "array([0, 0, 0, 0, 0])\n",
       "\n",
       ">>> np.zeros((2, 1))\n",
       "array([[ 0.],\n",
       "       [ 0.]])\n",
       "\n",
       ">>> s = (2,2)\n",
       ">>> np.zeros(s)\n",
       "array([[ 0.,  0.],\n",
       "       [ 0.,  0.]])\n",
       "\n",
       ">>> np.zeros((2,), dtype=[('x', 'i4'), ('y', 'i4')]) # custom dtype\n",
       "array([(0, 0), (0, 0)],\n",
       "      dtype=[('x', '<i4'), ('y', '<i4')])\n",
       "\u001b[31mType:\u001b[39m      builtin_function_or_method"
      ]
     },
     "metadata": {},
     "output_type": "display_data"
    }
   ],
   "source": [
    "np.zeros?"
   ]
  },
  {
   "cell_type": "code",
   "execution_count": 8,
   "id": "1acc8e6f-efa5-42b5-8138-9a9d414797dc",
   "metadata": {},
   "outputs": [
    {
     "data": {
      "text/plain": [
       "array([0., 0., 0., 0.])"
      ]
     },
     "execution_count": 8,
     "metadata": {},
     "output_type": "execute_result"
    }
   ],
   "source": [
    "np.zeros(4)"
   ]
  },
  {
   "cell_type": "code",
   "execution_count": 9,
   "id": "bca45c2c-9df4-48ed-865b-9e637e74af89",
   "metadata": {},
   "outputs": [
    {
     "data": {
      "text/plain": [
       "array([[0., 0., 0.],\n",
       "       [0., 0., 0.],\n",
       "       [0., 0., 0.]])"
      ]
     },
     "execution_count": 9,
     "metadata": {},
     "output_type": "execute_result"
    }
   ],
   "source": [
    "np.zeros((3,3))"
   ]
  },
  {
   "cell_type": "code",
   "execution_count": 10,
   "id": "afbfbd0c-3650-4961-8b71-2ac15111f932",
   "metadata": {},
   "outputs": [
    {
     "data": {
      "text/plain": [
       "array([1., 1., 1., 1., 1.])"
      ]
     },
     "execution_count": 10,
     "metadata": {},
     "output_type": "execute_result"
    }
   ],
   "source": [
    "np.ones(5)"
   ]
  },
  {
   "cell_type": "code",
   "execution_count": 19,
   "id": "c63b1f42-45b9-4ed8-b181-df029e9b78aa",
   "metadata": {},
   "outputs": [
    {
     "data": {
      "text/plain": [
       "25"
      ]
     },
     "execution_count": 19,
     "metadata": {},
     "output_type": "execute_result"
    }
   ],
   "source": [
    "np.ones((5,5)).size\n",
    "#len(np.ones((5,5)))"
   ]
  },
  {
   "cell_type": "code",
   "execution_count": 15,
   "id": "730a25e6-d901-44f5-89e4-b9bb12659b6d",
   "metadata": {},
   "outputs": [
    {
     "data": {
      "text/plain": [
       "array([ 1,  2,  3,  4,  5,  6,  7,  8,  9, 10, 11, 12, 13, 14, 15, 16, 17,\n",
       "       18, 19, 20, 21, 22, 23, 24, 25, 26, 27, 28, 29, 30, 31, 32, 33, 34,\n",
       "       35, 36, 37, 38, 39, 40, 41, 42, 43, 44, 45, 46, 47, 48, 49, 50, 51,\n",
       "       52, 53, 54, 55, 56, 57, 58, 59, 60, 61, 62, 63, 64, 65, 66, 67, 68,\n",
       "       69, 70, 71, 72, 73, 74, 75, 76, 77, 78, 79, 80, 81, 82, 83, 84, 85,\n",
       "       86, 87, 88, 89, 90, 91, 92, 93, 94, 95, 96, 97, 98, 99])"
      ]
     },
     "execution_count": 15,
     "metadata": {},
     "output_type": "execute_result"
    }
   ],
   "source": [
    "myarray=np.arange(1,100)\n",
    "myarray"
   ]
  },
  {
   "cell_type": "code",
   "execution_count": 16,
   "id": "edd27edf-e72f-4537-b5c4-6e987b8a24db",
   "metadata": {},
   "outputs": [
    {
     "data": {
      "text/plain": [
       "99"
      ]
     },
     "execution_count": 16,
     "metadata": {},
     "output_type": "execute_result"
    }
   ],
   "source": [
    "myarray.size"
   ]
  },
  {
   "cell_type": "code",
   "execution_count": 20,
   "id": "e42dc93f-157c-4435-9f39-ba3b367bfea9",
   "metadata": {},
   "outputs": [
    {
     "data": {
      "text/plain": [
       "dtype('int64')"
      ]
     },
     "execution_count": 20,
     "metadata": {},
     "output_type": "execute_result"
    }
   ],
   "source": [
    "myarray.dtype"
   ]
  },
  {
   "cell_type": "code",
   "execution_count": 31,
   "id": "149e72d5-4928-4cd0-aced-5d1f84a6324d",
   "metadata": {},
   "outputs": [
    {
     "data": {
      "text/plain": [
       "3"
      ]
     },
     "execution_count": 31,
     "metadata": {},
     "output_type": "execute_result"
    }
   ],
   "source": [
    "np.random.randint(1,10)"
   ]
  },
  {
   "cell_type": "code",
   "execution_count": 32,
   "id": "8873acc9-318c-46db-9c27-89a96d3ed2e4",
   "metadata": {},
   "outputs": [
    {
     "data": {
      "text/plain": [
       "array([912, 159, 633, 976, 961, 181, 662, 526, 632, 204, 327,  81, 657,\n",
       "       126, 102, 281, 716, 326, 755, 942, 899, 418, 191, 579, 439, 806,\n",
       "       255,  63, 562,   1, 287, 275, 469, 899, 424, 837, 948, 216, 590,\n",
       "       930, 978, 505, 770, 162, 221, 761, 823, 926, 874, 771], dtype=int32)"
      ]
     },
     "execution_count": 32,
     "metadata": {},
     "output_type": "execute_result"
    }
   ],
   "source": [
    "np.random.randint(1,1000,size=50)"
   ]
  },
  {
   "cell_type": "code",
   "execution_count": 39,
   "id": "afa7bf7d-5fac-40c4-a838-ad37b607f6e5",
   "metadata": {},
   "outputs": [
    {
     "data": {
      "text/plain": [
       "array(['h', 't', 't', 'h', 't', 't', 'h', 't', 't', 'h'], dtype='<U1')"
      ]
     },
     "execution_count": 39,
     "metadata": {},
     "output_type": "execute_result"
    }
   ],
   "source": [
    "np.random.choice(['h','t'],size=10)"
   ]
  },
  {
   "cell_type": "code",
   "execution_count": 41,
   "id": "34b86509-ef2d-4738-8f6a-347c604cb0ff",
   "metadata": {},
   "outputs": [
    {
     "data": {
      "text/plain": [
       "(5, 10)"
      ]
     },
     "execution_count": 41,
     "metadata": {},
     "output_type": "execute_result"
    }
   ],
   "source": [
    "np.ones((5,10)).shape"
   ]
  },
  {
   "cell_type": "code",
   "execution_count": 42,
   "id": "52b61c4d-51f4-41d0-9443-4896ef213fb8",
   "metadata": {},
   "outputs": [
    {
     "name": "stdout",
     "output_type": "stream",
     "text": [
      "Rowa: 5\n",
      "Column: 10\n"
     ]
    }
   ],
   "source": [
    "print(\"Rowa:\",np.ones((5,10)).shape[0])\n",
    "print(\"Column:\",np.ones((5,10)).shape[1])"
   ]
  },
  {
   "cell_type": "code",
   "execution_count": 8,
   "id": "32248b81-e72d-4caa-9ac5-2d548dc9b874",
   "metadata": {},
   "outputs": [
    {
     "data": {
      "text/plain": [
       "array([[ 1,  4,  5],\n",
       "       [ 6, 10,  9],\n",
       "       [26,  6,  8]])"
      ]
     },
     "execution_count": 8,
     "metadata": {},
     "output_type": "execute_result"
    }
   ],
   "source": [
    "list=[[1,4,5],[6,10,9],[26,6,8]]\n",
    "myaray1=np.array(list)\n",
    "myaray1"
   ]
  },
  {
   "cell_type": "code",
   "execution_count": 9,
   "id": "e20275f6-cca0-42fd-a974-780c28799aab",
   "metadata": {},
   "outputs": [
    {
     "data": {
      "text/plain": [
       "(3, 3)"
      ]
     },
     "execution_count": 9,
     "metadata": {},
     "output_type": "execute_result"
    }
   ],
   "source": [
    "myaray1.shape"
   ]
  },
  {
   "cell_type": "code",
   "execution_count": 10,
   "id": "6fc1580f-b6df-4b7f-99db-04a83049b1d5",
   "metadata": {},
   "outputs": [
    {
     "data": {
      "text/plain": [
       "np.int64(10)"
      ]
     },
     "execution_count": 10,
     "metadata": {},
     "output_type": "execute_result"
    }
   ],
   "source": [
    "myaray1[1][1]"
   ]
  },
  {
   "cell_type": "code",
   "execution_count": 12,
   "id": "34f4bc3f-c64e-4877-8e9e-39f0bd6c3609",
   "metadata": {},
   "outputs": [
    {
     "data": {
      "text/plain": [
       "np.int64(10)"
      ]
     },
     "execution_count": 12,
     "metadata": {},
     "output_type": "execute_result"
    }
   ],
   "source": [
    "myaray1[1,1]"
   ]
  },
  {
   "cell_type": "code",
   "execution_count": 13,
   "id": "ef42bb64-4c54-4cce-be7e-65ab527fcf08",
   "metadata": {},
   "outputs": [
    {
     "data": {
      "text/plain": [
       "array([[ 1,  4,  5],\n",
       "       [ 6, 10,  9]])"
      ]
     },
     "execution_count": 13,
     "metadata": {},
     "output_type": "execute_result"
    }
   ],
   "source": [
    "myaray1[0:2]       #Slicing"
   ]
  },
  {
   "cell_type": "code",
   "execution_count": 14,
   "id": "d2184db8-46f2-4f30-b1d9-f3c4d222e81e",
   "metadata": {},
   "outputs": [
    {
     "data": {
      "text/plain": [
       "array([[ 4,  5],\n",
       "       [10,  9]])"
      ]
     },
     "execution_count": 14,
     "metadata": {},
     "output_type": "execute_result"
    }
   ],
   "source": [
    "myaray1[0:2,1:3]"
   ]
  },
  {
   "cell_type": "code",
   "execution_count": 15,
   "id": "13a55824-54af-492f-b030-ce849faa42f7",
   "metadata": {},
   "outputs": [
    {
     "data": {
      "text/plain": [
       "array([[ 4,  5],\n",
       "       [10,  9]])"
      ]
     },
     "execution_count": 15,
     "metadata": {},
     "output_type": "execute_result"
    }
   ],
   "source": [
    "myaray1[:2,1:]"
   ]
  },
  {
   "cell_type": "code",
   "execution_count": 18,
   "id": "1c63309f-d955-4693-b3b8-c3e13a5da304",
   "metadata": {},
   "outputs": [
    {
     "data": {
      "text/plain": [
       "array([[ 1,  4,  5],\n",
       "       [ 6, 11,  9],\n",
       "       [26,  6,  8]])"
      ]
     },
     "execution_count": 18,
     "metadata": {},
     "output_type": "execute_result"
    }
   ],
   "source": [
    "myaray1[1,1]=11    #change number for index\n",
    "myaray1"
   ]
  },
  {
   "cell_type": "code",
   "execution_count": 19,
   "id": "dafbd3d3-73d6-44ea-9f16-1f65c01e9370",
   "metadata": {},
   "outputs": [
    {
     "data": {
      "text/plain": [
       "11"
      ]
     },
     "execution_count": 19,
     "metadata": {},
     "output_type": "execute_result"
    }
   ],
   "source": [
    "myaray1.item(1,1)"
   ]
  },
  {
   "cell_type": "code",
   "execution_count": 20,
   "id": "3c64b733-3660-4573-adf7-b8c360763a86",
   "metadata": {},
   "outputs": [],
   "source": [
    "#get specific index"
   ]
  },
  {
   "cell_type": "code",
   "execution_count": 35,
   "id": "0e607fb4-63da-4657-ba1a-d4620bd44f7f",
   "metadata": {},
   "outputs": [
    {
     "data": {
      "text/plain": [
       "array([1, 7, 3])"
      ]
     },
     "execution_count": 35,
     "metadata": {},
     "output_type": "execute_result"
    }
   ],
   "source": [
    "myarr1=np.array([1,4,6,7,8,3,6,9])\n",
    "np.take(myarr1,[0,3,5])"
   ]
  },
  {
   "cell_type": "code",
   "execution_count": 36,
   "id": "d416e2b5-0026-4add-bd9b-a896f94fc10d",
   "metadata": {},
   "outputs": [
    {
     "data": {
      "text/plain": [
       "array([1, 4, 6, 7, 8, 3, 6, 9])"
      ]
     },
     "execution_count": 36,
     "metadata": {},
     "output_type": "execute_result"
    }
   ],
   "source": [
    "#np.put(myarr1,[0,3,5],[0,0,0])\n",
    "myarr1"
   ]
  },
  {
   "cell_type": "code",
   "execution_count": 38,
   "id": "b8c47a53-6629-4349-94da-a1a7773d6ab4",
   "metadata": {},
   "outputs": [
    {
     "data": {
      "text/plain": [
       "np.int64(6)"
      ]
     },
     "execution_count": 38,
     "metadata": {},
     "output_type": "execute_result"
    }
   ],
   "source": [
    "myarr1[-2]"
   ]
  },
  {
   "cell_type": "code",
   "execution_count": 39,
   "id": "77fcaf90-a12b-4279-b74f-29ed726b2977",
   "metadata": {},
   "outputs": [
    {
     "data": {
      "text/plain": [
       "array([1, 4, 6, 7, 8, 3])"
      ]
     },
     "execution_count": 39,
     "metadata": {},
     "output_type": "execute_result"
    }
   ],
   "source": [
    "myarr1[0:-2]"
   ]
  },
  {
   "cell_type": "code",
   "execution_count": 40,
   "id": "edfb1c3f-2bcd-4d85-b362-1c8338b9214b",
   "metadata": {},
   "outputs": [
    {
     "data": {
      "text/plain": [
       "array([4, 6, 7, 8, 3, 6])"
      ]
     },
     "execution_count": 40,
     "metadata": {},
     "output_type": "execute_result"
    }
   ],
   "source": [
    "myarr1[1:-1]        #Reverse"
   ]
  },
  {
   "cell_type": "code",
   "execution_count": 44,
   "id": "57ddac5e-e3c5-4650-8c92-4c3767acdd50",
   "metadata": {},
   "outputs": [
    {
     "data": {
      "text/plain": [
       "array([4, 6, 8, 6])"
      ]
     },
     "execution_count": 44,
     "metadata": {},
     "output_type": "execute_result"
    }
   ],
   "source": [
    "myarr1[myarr1%2== 0 ]      #Conditional"
   ]
  },
  {
   "cell_type": "code",
   "execution_count": 46,
   "id": "e7ca8ca8-118c-489b-b29d-fda39cb61b57",
   "metadata": {},
   "outputs": [
    {
     "data": {
      "text/plain": [
       "array([6, 8, 6])"
      ]
     },
     "execution_count": 46,
     "metadata": {},
     "output_type": "execute_result"
    }
   ],
   "source": [
    "myarr1[(myarr1%2==0) & (myarr1>5)]      "
   ]
  },
  {
   "cell_type": "code",
   "execution_count": 65,
   "id": "9190c6b4-819f-4a1f-b473-c8554adaefcc",
   "metadata": {},
   "outputs": [
    {
     "data": {
      "text/plain": [
       "array(['F', 'M', 'M', 'F', 'F', 'F', 'M', 'F', 'F', 'M', 'M', 'F', 'M',\n",
       "       'M', 'M', 'M', 'F', 'M', 'M', 'M', 'F', 'F', 'M', 'F', 'M', 'F',\n",
       "       'F', 'F', 'F', 'F', 'M', 'M', 'M', 'M', 'M', 'F', 'F', 'M', 'F',\n",
       "       'F', 'M', 'M', 'M', 'F', 'M', 'F', 'F', 'M', 'F', 'F', 'M', 'F',\n",
       "       'F', 'M', 'F', 'F', 'M', 'M', 'M', 'M', 'F', 'M', 'M', 'M', 'M',\n",
       "       'F', 'M', 'F', 'F', 'M', 'F', 'M', 'F', 'F', 'M', 'M', 'F', 'M',\n",
       "       'F', 'M', 'F', 'F', 'M', 'F', 'M', 'F', 'F', 'F', 'F', 'M', 'M',\n",
       "       'M', 'M', 'M', 'F', 'M', 'F', 'M', 'F', 'F', 'F', 'F', 'M', 'M',\n",
       "       'M', 'M', 'F', 'F', 'M', 'F', 'M', 'F', 'F', 'M', 'F', 'F', 'M',\n",
       "       'F', 'M', 'F', 'F', 'M', 'F', 'M', 'M', 'F', 'F', 'M', 'F', 'M',\n",
       "       'F', 'M', 'F', 'M', 'F', 'M', 'F', 'F', 'F', 'M', 'M', 'M', 'F',\n",
       "       'M', 'M', 'M', 'M', 'F', 'M', 'M', 'F', 'F', 'M', 'M', 'F', 'F',\n",
       "       'M', 'M', 'F', 'M', 'M', 'M', 'M', 'F', 'M', 'M', 'F', 'F', 'M',\n",
       "       'F', 'F', 'M', 'M', 'M', 'F', 'M', 'F', 'F', 'M', 'F', 'M', 'F',\n",
       "       'M', 'F', 'M', 'M', 'F', 'F', 'F', 'M', 'F', 'F', 'M', 'M', 'F',\n",
       "       'M', 'F', 'M', 'M', 'F', 'M', 'F', 'F', 'M', 'F', 'M', 'M', 'F',\n",
       "       'M', 'F', 'M', 'F', 'M', 'F', 'M', 'M', 'M', 'F', 'F', 'F', 'F',\n",
       "       'F', 'M', 'M', 'F', 'F', 'F', 'F', 'F', 'M', 'F', 'F', 'M', 'F',\n",
       "       'F', 'M', 'M', 'F', 'F', 'M', 'M', 'F', 'M', 'F', 'F', 'M', 'M',\n",
       "       'M', 'M', 'M', 'M', 'F', 'M', 'F', 'M', 'M', 'F', 'M', 'F', 'F',\n",
       "       'M', 'F', 'M', 'M', 'F', 'M', 'M', 'F', 'M', 'F', 'F', 'F', 'M',\n",
       "       'M', 'F', 'M', 'M', 'M', 'M', 'M', 'F', 'F', 'M', 'M', 'M', 'M',\n",
       "       'M', 'F', 'M', 'M', 'M', 'M', 'M', 'F', 'F', 'F', 'M', 'M', 'M',\n",
       "       'M', 'M', 'F', 'M', 'F', 'F', 'F', 'F', 'M', 'M', 'M', 'F', 'F',\n",
       "       'M', 'M', 'F', 'F', 'M', 'F', 'F', 'F', 'F', 'M', 'F', 'M', 'F',\n",
       "       'M', 'F', 'M', 'F', 'M', 'F', 'F', 'F', 'M', 'F', 'F', 'F', 'M',\n",
       "       'F', 'F', 'M', 'M', 'M', 'M', 'F', 'F', 'M', 'F', 'M', 'F', 'M',\n",
       "       'M', 'M', 'F', 'M', 'M', 'F', 'M', 'F', 'M', 'M', 'F', 'M', 'M',\n",
       "       'F', 'M', 'M', 'M', 'F', 'F', 'M', 'M', 'M', 'F', 'M', 'F', 'F',\n",
       "       'F', 'M', 'F', 'M', 'F', 'M', 'M', 'M', 'F', 'F', 'F', 'F', 'F',\n",
       "       'F', 'M', 'F', 'M', 'F', 'M', 'F', 'F', 'M', 'M', 'M', 'F', 'M',\n",
       "       'F', 'F', 'F', 'F', 'F', 'M', 'M', 'F', 'M', 'M', 'M', 'M', 'M',\n",
       "       'F', 'F', 'M', 'M', 'F', 'F', 'M', 'F', 'M', 'F', 'M', 'F', 'M',\n",
       "       'M', 'F', 'M', 'F', 'M', 'M', 'M', 'M', 'F', 'M', 'F', 'M', 'M',\n",
       "       'F', 'F', 'F', 'M', 'F', 'F', 'F', 'M', 'F', 'F', 'F', 'F', 'M',\n",
       "       'M', 'M', 'M', 'F', 'F', 'F', 'F', 'M', 'M', 'M', 'M', 'M', 'F',\n",
       "       'M', 'M', 'F', 'F', 'M', 'M', 'M', 'F', 'M', 'F', 'M', 'M', 'M',\n",
       "       'M', 'M', 'F', 'M', 'M', 'F', 'F', 'M', 'M', 'M', 'M', 'F', 'F',\n",
       "       'F', 'F', 'F', 'M', 'F', 'M'], dtype='<U1')"
      ]
     },
     "execution_count": 65,
     "metadata": {},
     "output_type": "execute_result"
    }
   ],
   "source": [
    "gender_data=np.random.choice((\"M\",\"F\"),size=500)\n",
    "gender_data"
   ]
  },
  {
   "cell_type": "code",
   "execution_count": 60,
   "id": "e8832f01-cf35-4390-ae40-ab13059a4b90",
   "metadata": {},
   "outputs": [
    {
     "data": {
      "text/plain": [
       "array(['F', 'M'], dtype='<U1')"
      ]
     },
     "execution_count": 60,
     "metadata": {},
     "output_type": "execute_result"
    }
   ],
   "source": [
    "np.unique(gender_data)  #Unique slice"
   ]
  },
  {
   "cell_type": "markdown",
   "id": "3aa7edbd-ac12-4093-bd6c-7443f4397e9f",
   "metadata": {},
   "source": [
    "#Reshapping Array____"
   ]
  },
  {
   "cell_type": "code",
   "execution_count": 61,
   "id": "e5699938-5421-4b33-beaa-98874c5bdbea",
   "metadata": {},
   "outputs": [
    {
     "data": {
      "text/plain": [
       "\u001b[31mDocstring:\u001b[39m\n",
       "a.reshape(shape, /, *, order='C', copy=None)\n",
       "\n",
       "Returns an array containing the same data with a new shape.\n",
       "\n",
       "Refer to `numpy.reshape` for full documentation.\n",
       "\n",
       "See Also\n",
       "--------\n",
       "numpy.reshape : equivalent function\n",
       "\n",
       "Notes\n",
       "-----\n",
       "Unlike the free function `numpy.reshape`, this method on `ndarray` allows\n",
       "the elements of the shape parameter to be passed in as separate arguments.\n",
       "For example, ``a.reshape(10, 11)`` is equivalent to\n",
       "``a.reshape((10, 11))``.\n",
       "\u001b[31mType:\u001b[39m      builtin_function_or_method"
      ]
     },
     "metadata": {},
     "output_type": "display_data"
    }
   ],
   "source": [
    "gender_data.reshape?"
   ]
  },
  {
   "cell_type": "code",
   "execution_count": 62,
   "id": "1210ff30-874a-47af-837c-dd9c4c116a80",
   "metadata": {},
   "outputs": [],
   "source": [
    "#gender_data.reshape((50,10))"
   ]
  },
  {
   "cell_type": "code",
   "execution_count": 63,
   "id": "2ca67a6d-49cb-4811-a82e-dcf7e46a9b17",
   "metadata": {},
   "outputs": [],
   "source": [
    "#gender_data.reshape((10,10,5))"
   ]
  },
  {
   "cell_type": "code",
   "execution_count": 64,
   "id": "f6d880b1-c0ec-486a-9e18-b0a6053e37ce",
   "metadata": {},
   "outputs": [
    {
     "data": {
      "text/plain": [
       "array([['M', 'F', 'M', 'F', 'M', 'M', 'F', 'M', 'M', 'M'],\n",
       "       ['M', 'F', 'F', 'F', 'F', 'F', 'M', 'F', 'M', 'F'],\n",
       "       ['M', 'M', 'M', 'M', 'M', 'F', 'F', 'M', 'M', 'F'],\n",
       "       ['M', 'F', 'F', 'M', 'F', 'M', 'M', 'M', 'M', 'F'],\n",
       "       ['M', 'M', 'M', 'F', 'F', 'M', 'F', 'F', 'F', 'F'],\n",
       "       ['M', 'F', 'F', 'F', 'F', 'F', 'M', 'M', 'M', 'M'],\n",
       "       ['F', 'M', 'M', 'M', 'M', 'F', 'M', 'M', 'M', 'F'],\n",
       "       ['F', 'F', 'M', 'M', 'F', 'M', 'F', 'F', 'M', 'M'],\n",
       "       ['M', 'M', 'F', 'F', 'M', 'M', 'M', 'F', 'F', 'M'],\n",
       "       ['M', 'M', 'F', 'M', 'M', 'M', 'M', 'F', 'F', 'F']], dtype='<U1')"
      ]
     },
     "execution_count": 64,
     "metadata": {},
     "output_type": "execute_result"
    }
   ],
   "source": [
    "gender_data.resize((10,10))\n",
    "gender_data"
   ]
  },
  {
   "cell_type": "code",
   "execution_count": 68,
   "id": "a1dbb1cb-5e06-4ad7-bda1-a8dfd1e5ad72",
   "metadata": {},
   "outputs": [
    {
     "data": {
      "text/plain": [
       "array([[8, 8, 4],\n",
       "       [2, 4, 2],\n",
       "       [4, 1, 5]], dtype=int32)"
      ]
     },
     "execution_count": 68,
     "metadata": {},
     "output_type": "execute_result"
    }
   ],
   "source": [
    "myarr3=np.random.randint(1,10,size=(3,3))\n",
    "myarr3"
   ]
  },
  {
   "cell_type": "code",
   "execution_count": 73,
   "id": "b00219b9-7c14-4ca7-8d3e-bfbbba3201d9",
   "metadata": {},
   "outputs": [
    {
     "data": {
      "text/plain": [
       "array([[8, 2, 4],\n",
       "       [8, 4, 1],\n",
       "       [4, 2, 5]], dtype=int32)"
      ]
     },
     "execution_count": 73,
     "metadata": {},
     "output_type": "execute_result"
    }
   ],
   "source": [
    "myarr3.transpose()"
   ]
  },
  {
   "cell_type": "code",
   "execution_count": 76,
   "id": "fd622839-9bc6-4f13-9ffb-39d592597b7a",
   "metadata": {},
   "outputs": [],
   "source": [
    "#myarr3.transpose?"
   ]
  },
  {
   "cell_type": "code",
   "execution_count": 78,
   "id": "c1fe3fdb-01a9-4b90-a18f-46756876a985",
   "metadata": {},
   "outputs": [
    {
     "data": {
      "text/plain": [
       "array([[8, 8, 4],\n",
       "       [2, 4, 2],\n",
       "       [4, 1, 5]], dtype=int32)"
      ]
     },
     "execution_count": 78,
     "metadata": {},
     "output_type": "execute_result"
    }
   ],
   "source": [
    "myarr3.transpose((0,1))"
   ]
  },
  {
   "cell_type": "code",
   "execution_count": 80,
   "id": "a30b8c1d-0fd9-4f41-9421-15e8e99b49b8",
   "metadata": {},
   "outputs": [
    {
     "data": {
      "text/plain": [
       "array([[8, 2, 4],\n",
       "       [8, 4, 1],\n",
       "       [4, 2, 5]], dtype=int32)"
      ]
     },
     "execution_count": 80,
     "metadata": {},
     "output_type": "execute_result"
    }
   ],
   "source": [
    "myarr3.swapaxes(0,1)"
   ]
  },
  {
   "cell_type": "code",
   "execution_count": 81,
   "id": "cdd20135-aa48-4dda-8f89-7364ba4ea009",
   "metadata": {},
   "outputs": [
    {
     "data": {
      "text/plain": [
       "array([[8, 2, 4],\n",
       "       [8, 4, 1],\n",
       "       [4, 2, 5]], dtype=int32)"
      ]
     },
     "execution_count": 81,
     "metadata": {},
     "output_type": "execute_result"
    }
   ],
   "source": [
    "myarr3.swapaxes(1,0)"
   ]
  },
  {
   "cell_type": "code",
   "execution_count": 85,
   "id": "9bba6a98-9afc-416e-9f9c-f915d987b71a",
   "metadata": {},
   "outputs": [
    {
     "data": {
      "text/plain": [
       "array([8, 8, 4, 2, 4, 2, 4, 1, 5], dtype=int32)"
      ]
     },
     "execution_count": 85,
     "metadata": {},
     "output_type": "execute_result"
    }
   ],
   "source": [
    "myarr3.flatten()"
   ]
  },
  {
   "cell_type": "code",
   "execution_count": 87,
   "id": "d4ae9385-7e08-4efe-87c0-b2696ea5628a",
   "metadata": {},
   "outputs": [
    {
     "data": {
      "text/plain": [
       "array([8, 2, 4, 8, 4, 1, 4, 2, 5], dtype=int32)"
      ]
     },
     "execution_count": 87,
     "metadata": {},
     "output_type": "execute_result"
    }
   ],
   "source": [
    "myarr3.flatten(order=\"f\")    #by row"
   ]
  },
  {
   "cell_type": "code",
   "execution_count": 89,
   "id": "15161d99-7b7c-40fd-95a2-5fe7a3be2037",
   "metadata": {},
   "outputs": [
    {
     "data": {
      "text/plain": [
       "array([[4, 8, 8],\n",
       "       [2, 2, 4],\n",
       "       [1, 4, 5]], dtype=int32)"
      ]
     },
     "execution_count": 89,
     "metadata": {},
     "output_type": "execute_result"
    }
   ],
   "source": [
    "myarr3.sort()\n",
    "myarr3"
   ]
  },
  {
   "cell_type": "code",
   "execution_count": 90,
   "id": "be2702d0-6101-47b7-a50e-eb494ce22d50",
   "metadata": {},
   "outputs": [
    {
     "data": {
      "text/plain": [
       "array([[1, 2, 4],\n",
       "       [2, 4, 5],\n",
       "       [4, 8, 8]], dtype=int32)"
      ]
     },
     "execution_count": 90,
     "metadata": {},
     "output_type": "execute_result"
    }
   ],
   "source": [
    "myarr3.sort(axis=0)\n",
    "myarr3                    #0 by row"
   ]
  },
  {
   "cell_type": "code",
   "execution_count": 91,
   "id": "2f028ec9-bf88-4258-abe8-a36d4a03a3d7",
   "metadata": {},
   "outputs": [
    {
     "data": {
      "text/plain": [
       "array([[1, 2, 4],\n",
       "       [2, 4, 5],\n",
       "       [4, 8, 8]], dtype=int32)"
      ]
     },
     "execution_count": 91,
     "metadata": {},
     "output_type": "execute_result"
    }
   ],
   "source": [
    "myarr3.sort(axis=1)      #1 by column      \n",
    "myarr3"
   ]
  },
  {
   "cell_type": "code",
   "execution_count": 97,
   "id": "f324b019-b064-42fd-9cde-c91f622bcbfd",
   "metadata": {},
   "outputs": [
    {
     "name": "stdout",
     "output_type": "stream",
     "text": [
      "[[1 2 3]\n",
      " [4 5 6]\n",
      " [7 8 9]]\n",
      "------\n",
      "[[11 12 13]\n",
      " [14 15 16]\n",
      " [17 18 19]]\n"
     ]
    },
    {
     "data": {
      "text/plain": [
       "array([[ 1,  2,  3],\n",
       "       [ 4,  5,  6],\n",
       "       [ 7,  8,  9],\n",
       "       [11, 12, 13],\n",
       "       [14, 15, 16],\n",
       "       [17, 18, 19]])"
      ]
     },
     "execution_count": 97,
     "metadata": {},
     "output_type": "execute_result"
    }
   ],
   "source": [
    "my_new_arr_1=np.arange(1,10).reshape((3,3))\n",
    "my_new_arr_2=np.arange(11,20).reshape((3,3))\n",
    "print(my_new_arr_1)\n",
    "print(\"------\")\n",
    "print(my_new_arr_2)\n",
    "np.vstack((my_new_arr_1,my_new_arr_2))"
   ]
  },
  {
   "cell_type": "code",
   "execution_count": 98,
   "id": "6673d667-d0b5-4a79-bff2-5d1c2dbc0e0e",
   "metadata": {},
   "outputs": [
    {
     "data": {
      "text/plain": [
       "array([[ 1,  2,  3, 11, 12, 13],\n",
       "       [ 4,  5,  6, 14, 15, 16],\n",
       "       [ 7,  8,  9, 17, 18, 19]])"
      ]
     },
     "execution_count": 98,
     "metadata": {},
     "output_type": "execute_result"
    }
   ],
   "source": [
    "np.hstack((my_new_arr_1,my_new_arr_2))"
   ]
  },
  {
   "cell_type": "code",
   "execution_count": 111,
   "id": "021507e7-8175-49de-8e87-f66e07d2372e",
   "metadata": {},
   "outputs": [
    {
     "name": "stdout",
     "output_type": "stream",
     "text": [
      "[[9 9 7 5 4 5 5 1 5 1 9 4 1 1 0 6 1 2 0 3]\n",
      " [3 5 4 8 9 2 0 0 5 3 7 3 8 1 6 0 2 8 3 3]]\n"
     ]
    },
    {
     "data": {
      "text/plain": [
       "[array([[9, 9, 7, 5, 4, 5, 5],\n",
       "        [3, 5, 4, 8, 9, 2, 0]], dtype=int32),\n",
       " array([[1, 5, 1, 9, 4, 1, 1, 0],\n",
       "        [0, 5, 3, 7, 3, 8, 1, 6]], dtype=int32),\n",
       " array([[6, 1, 2, 0, 3],\n",
       "        [0, 2, 8, 3, 3]], dtype=int32)]"
      ]
     },
     "execution_count": 111,
     "metadata": {},
     "output_type": "execute_result"
    }
   ],
   "source": [
    "ss_arr_5=np.random.randint(10,size=(2,20))\n",
    "print(ss_arr_5)\n",
    "np.hsplit(ss_arr_5,(7,15))"
   ]
  },
  {
   "cell_type": "code",
   "execution_count": 117,
   "id": "e655b00c-5cf0-4875-88fc-249c85fef783",
   "metadata": {},
   "outputs": [
    {
     "name": "stdout",
     "output_type": "stream",
     "text": [
      "[[2 4]\n",
      " [4 2]\n",
      " [4 2]\n",
      " [0 3]\n",
      " [7 5]\n",
      " [0 7]\n",
      " [0 0]\n",
      " [6 5]\n",
      " [6 7]\n",
      " [7 9]]\n"
     ]
    },
    {
     "data": {
      "text/plain": [
       "[array([[2, 4],\n",
       "        [4, 2]], dtype=int32),\n",
       " array([[4, 2],\n",
       "        [0, 3],\n",
       "        [7, 5]], dtype=int32),\n",
       " array([[0, 7],\n",
       "        [0, 0],\n",
       "        [6, 5],\n",
       "        [6, 7],\n",
       "        [7, 9]], dtype=int32)]"
      ]
     },
     "execution_count": 117,
     "metadata": {},
     "output_type": "execute_result"
    }
   ],
   "source": [
    "ss_arr_6=np.random.randint(10,size=(10,2))\n",
    "print(ss_arr_6)\n",
    "np.vsplit(ss_arr_6,(2,5))"
   ]
  },
  {
   "cell_type": "markdown",
   "id": "d39e0b00-b948-42f0-98b7-22993630692f",
   "metadata": {},
   "source": [
    "Copy"
   ]
  },
  {
   "cell_type": "code",
   "execution_count": 21,
   "id": "b9379f2e-50a6-4726-a184-b51ddbd1db04",
   "metadata": {},
   "outputs": [
    {
     "data": {
      "text/plain": [
       "array([[64, 24, 21],\n",
       "       [ 8, 83, 10],\n",
       "       [ 2, 32, 86]], dtype=int32)"
      ]
     },
     "execution_count": 21,
     "metadata": {},
     "output_type": "execute_result"
    }
   ],
   "source": [
    "my_arr1=np.random.randint(100,size=(3,3))\n",
    "my_arr1"
   ]
  },
  {
   "cell_type": "code",
   "execution_count": 22,
   "id": "276210d9-3272-461e-9314-32ffc6b99f1c",
   "metadata": {},
   "outputs": [
    {
     "name": "stdout",
     "output_type": "stream",
     "text": [
      "[[64 24 21]\n",
      " [ 8 83 10]\n",
      " [ 2 32 86]]\n"
     ]
    }
   ],
   "source": [
    "copy_my_arr1=my_arr1\n",
    "#copy_my_arr1.sort()\n",
    "#print(copy_my_arr1)\n",
    "print(my_arr1)"
   ]
  },
  {
   "cell_type": "code",
   "execution_count": 23,
   "id": "3171f688-e502-4990-802d-325e1b10f003",
   "metadata": {},
   "outputs": [
    {
     "name": "stdout",
     "output_type": "stream",
     "text": [
      "[[64 24 21]\n",
      " [ 8 83 10]\n",
      " [ 2 32 86]]\n"
     ]
    }
   ],
   "source": [
    "#view_my_arr1=my_arr1.view()\n",
    "#view_my_arr1.sort()\n",
    "#print(view_my_arr1)\n",
    "print(my_arr1)"
   ]
  },
  {
   "cell_type": "code",
   "execution_count": 24,
   "id": "a0492c18-1a7f-4fb7-a3f6-ccfcecb821ae",
   "metadata": {},
   "outputs": [
    {
     "name": "stdout",
     "output_type": "stream",
     "text": [
      "[[21 24 64]\n",
      " [ 8 10 83]\n",
      " [ 2 32 86]]\n",
      "[[64 24 21]\n",
      " [ 8 83 10]\n",
      " [ 2 32 86]]\n"
     ]
    }
   ],
   "source": [
    "copy_my_arr1=my_arr1.copy()\n",
    "copy_my_arr1.sort()\n",
    "print(copy_my_arr1)\n",
    "print(my_arr1)"
   ]
  },
  {
   "cell_type": "markdown",
   "id": "62b52050-0639-4a7e-983b-8ad6e0379227",
   "metadata": {},
   "source": [
    "<h>Basic Math<h>"
   ]
  },
  {
   "cell_type": "code",
   "execution_count": 35,
   "id": "e80ca398-61f5-436b-b885-020a7095dd8f",
   "metadata": {},
   "outputs": [
    {
     "data": {
      "text/plain": [
       "array([ 4, 12,  5, 13, 17,  6, 11])"
      ]
     },
     "execution_count": 35,
     "metadata": {},
     "output_type": "execute_result"
    }
   ],
   "source": [
    "list1=np.array([1,5,3,7,8,0,3])\n",
    "list2=np.array([3,7,2,6,9,6,8])\n",
    "list3=list1 + list2                      \n",
    "list3"
   ]
  },
  {
   "cell_type": "code",
   "execution_count": 36,
   "id": "ba30a3b0-bdaa-420c-9597-1435a5cabe09",
   "metadata": {},
   "outputs": [],
   "source": [
    "#list1.sum()        #sum=sum all list\n",
    "#print(list2.sum())\n",
    "#print(list2.cumsum())"
   ]
  },
  {
   "cell_type": "code",
   "execution_count": 41,
   "id": "8870aa92-616f-4a48-b575-fd324ed5c06f",
   "metadata": {},
   "outputs": [
    {
     "name": "stdout",
     "output_type": "stream",
     "text": [
      "0\n",
      "8\n"
     ]
    }
   ],
   "source": [
    "print(list1.min())\n",
    "print(list1.max())"
   ]
  },
  {
   "cell_type": "code",
   "execution_count": 42,
   "id": "f7b16880-93d2-4604-a887-f2825452806e",
   "metadata": {},
   "outputs": [
    {
     "name": "stdout",
     "output_type": "stream",
     "text": [
      "4\n"
     ]
    }
   ],
   "source": [
    "print(list1.argmax())"
   ]
  },
  {
   "cell_type": "code",
   "execution_count": 44,
   "id": "64fa38ab-451c-4ea2-8c19-bd949c9cc132",
   "metadata": {},
   "outputs": [
    {
     "data": {
      "text/plain": [
       "array([ 4, 12,  5, 13, 17,  6, 11])"
      ]
     },
     "execution_count": 44,
     "metadata": {},
     "output_type": "execute_result"
    }
   ],
   "source": [
    "np.add(list1,list2)       #remainder=%"
   ]
  },
  {
   "cell_type": "code",
   "execution_count": 46,
   "id": "dbf6b4b5-4214-42ef-8141-832eec957806",
   "metadata": {},
   "outputs": [
    {
     "name": "stdout",
     "output_type": "stream",
     "text": [
      "[3 7 2 6 9 6 8]\n"
     ]
    },
    {
     "data": {
      "text/plain": [
       "array([ 9, 49,  4, 36, 81, 36, 64])"
      ]
     },
     "execution_count": 46,
     "metadata": {},
     "output_type": "execute_result"
    }
   ],
   "source": [
    "print(list2)\n",
    "np.power(list2,2)"
   ]
  },
  {
   "cell_type": "code",
   "execution_count": 49,
   "id": "a946fcb8-a622-4565-947a-4bfb00b22577",
   "metadata": {},
   "outputs": [
    {
     "name": "stdout",
     "output_type": "stream",
     "text": [
      "[3 7 2 6 9 6 8]\n"
     ]
    }
   ],
   "source": [
    "my_arr2_square=np.power(list2,2)          #astype=changing type\n",
    "print(np.sqrt(my_arr2_square).astype(int))"
   ]
  },
  {
   "cell_type": "code",
   "execution_count": 51,
   "id": "c02f4bbb-4f47-46bc-b95e-4ab25711c047",
   "metadata": {},
   "outputs": [
    {
     "data": {
      "text/plain": [
       "array([10,  9,  8,  7,  6,  5,  4,  3,  2])"
      ]
     },
     "execution_count": 51,
     "metadata": {},
     "output_type": "execute_result"
    }
   ],
   "source": [
    "#absolute= - into +\n",
    "np.absolute(np.arange(-10,-1))"
   ]
  },
  {
   "cell_type": "code",
   "execution_count": 53,
   "id": "a94663e5-a4d7-4c50-a00f-e081ed9e757e",
   "metadata": {},
   "outputs": [
    {
     "data": {
      "text/plain": [
       "np.int64(3)"
      ]
     },
     "execution_count": 53,
     "metadata": {},
     "output_type": "execute_result"
    }
   ],
   "source": [
    "np.gcd.reduce([9,12,15])"
   ]
  },
  {
   "cell_type": "code",
   "execution_count": 55,
   "id": "fd3105b3-2ac5-4ef6-9368-b66613c8cb51",
   "metadata": {},
   "outputs": [
    {
     "data": {
      "text/plain": [
       "np.int64(180)"
      ]
     },
     "execution_count": 55,
     "metadata": {},
     "output_type": "execute_result"
    }
   ],
   "source": [
    "np.lcm.reduce([9,12,15])"
   ]
  },
  {
   "cell_type": "code",
   "execution_count": 58,
   "id": "bf0174e7-9721-4bc5-a2a4-2513d6ddcca7",
   "metadata": {},
   "outputs": [
    {
     "data": {
      "text/plain": [
       "array([1., 2.])"
      ]
     },
     "execution_count": 58,
     "metadata": {},
     "output_type": "execute_result"
    }
   ],
   "source": [
    "np.floor([1.2,2.7]) #round down"
   ]
  },
  {
   "cell_type": "code",
   "execution_count": 59,
   "id": "80f72558-a33a-4459-b37c-ad12901f6661",
   "metadata": {},
   "outputs": [
    {
     "data": {
      "text/plain": [
       "array([2., 3.])"
      ]
     },
     "execution_count": 59,
     "metadata": {},
     "output_type": "execute_result"
    }
   ],
   "source": [
    "np.ceil([1.2,2.5])  #round up"
   ]
  },
  {
   "cell_type": "code",
   "execution_count": 60,
   "id": "70568bb3-3b1b-4521-95bf-c20b5d3e080d",
   "metadata": {},
   "outputs": [
    {
     "data": {
      "text/plain": [
       "array([ 9, 49,  4, 36, 81, 36, 64])"
      ]
     },
     "execution_count": 60,
     "metadata": {},
     "output_type": "execute_result"
    }
   ],
   "source": [
    "list2**2  #power or"
   ]
  },
  {
   "cell_type": "code",
   "execution_count": 70,
   "id": "bbd85cff-9d18-43f9-b50a-0ec7f4f52ebf",
   "metadata": {
    "scrolled": true
   },
   "outputs": [
    {
     "name": "stdout",
     "output_type": "stream",
     "text": [
      "[3 7 2 6 9 6 8]\n"
     ]
    },
    {
     "data": {
      "text/plain": [
       "np.int64(4)"
      ]
     },
     "execution_count": 70,
     "metadata": {},
     "output_type": "execute_result"
    }
   ],
   "source": [
    "print(list2)\n",
    "list2.argmax(axis=0)"
   ]
  },
  {
   "cell_type": "code",
   "execution_count": 113,
   "id": "c7584236-9813-4fcd-aaec-dee764915478",
   "metadata": {},
   "outputs": [
    {
     "name": "stdout",
     "output_type": "stream",
     "text": [
      "Maths:max marks:50\n",
      "Science:max marks:70\n",
      "English:max marks:80\n",
      "Urdu:max marks:80\n",
      "Shindi:max marks:90\n",
      "student no:1\n",
      "Max marks:80 in subject:Urdu\n",
      "_________\n",
      "student no:2\n",
      "Max marks:80 in subject:English\n",
      "_________\n",
      "student no:3\n",
      "Max marks:90 in subject:Shindi\n",
      "_________\n",
      "student no:4\n",
      "Max marks:80 in subject:English\n",
      "_________\n",
      "student no:5\n",
      "Max marks:80 in subject:Shindi\n",
      "_________\n"
     ]
    }
   ],
   "source": [
    "studentdata=[[\"Maths\",\"Science\",\"English\",\"Urdu\",\"Shindi\"],\n",
    "             [50,60,70,80,40],\n",
    "             [30,70,80,40,60],\n",
    "             [20,40,60,80,90],\n",
    "             [30,60,80,50,40],\n",
    "             [40,40,30,60,80]]\n",
    "subjects=studentdata.pop(0)\n",
    "studentdata=np.array(studentdata)\n",
    "max_subject=studentdata.argmax(axis=0)\n",
    "max_student=studentdata.argmax(axis=1)\n",
    "#print(max_student,max_subject)\n",
    "for i in range(0,len(subjects)):\n",
    "    print(f\"{subjects[i]}:max marks:{studentdata[max_subject[i],i]}\")\n",
    "for loc,student in enumerate(studentdata):\n",
    "    print(f\"student no:{loc+1}\\nMax marks:{student[max_student[loc]]} in subject:{subjects[max_student[loc]]}\")\n",
    "    print(\"_________\")\n",
    "    \n",
    "    "
   ]
  },
  {
   "cell_type": "code",
   "execution_count": 5,
   "id": "36954739-81b6-4063-aa6e-53a7346e60a8",
   "metadata": {},
   "outputs": [
    {
     "name": "stdout",
     "output_type": "stream",
     "text": [
      "[[85 70 40 90 60]\n",
      " [70 75 40 90 60]\n",
      " [80 70 95 90 60]\n",
      " [80 70 50 85 60]\n",
      " [80 75 40 90 60]]\n",
      "[3 3 2 3 3]\n",
      "Maths:max marks:85\n",
      "Urdu:max marks:75\n",
      "Sindhi:max marks:95\n",
      "Chemistry:max marks:90\n",
      "Physics:max marks:60\n",
      "student no:1\n",
      "Max marks:90 in subject:Chemistry\n",
      "_________\n",
      "student no:2\n",
      "Max marks:90 in subject:Chemistry\n",
      "_________\n",
      "student no:3\n",
      "Max marks:95 in subject:Sindhi\n",
      "_________\n",
      "student no:4\n",
      "Max marks:85 in subject:Chemistry\n",
      "_________\n",
      "student no:5\n",
      "Max marks:90 in subject:Chemistry\n",
      "_________\n",
      "[395 360 265 445 300]\n",
      "Total Highest Marks score:445=[80 70 50 85 60] in student 4\n"
     ]
    }
   ],
   "source": [
    "student_data={\"std-1\":{\"Maths\":85,\"Urdu\":70,\"Sindhi\":40,\"Chemistry\":90,\"Physics\":60},\n",
    "              \"std-2\":{\"Maths\":70,\"Urdu\":75,\"Sindhi\":40,\"Chemistry\":90,\"Physics\":60},\n",
    "              \"std-3\":{\"Maths\":80,\"Urdu\":70,\"Sindhi\":95,\"Chemistry\":90,\"Physics\":60},\n",
    "              \"std-4\":{\"Maths\":80,\"Urdu\":70,\"Sindhi\":50,\"Chemistry\":85,\"Physics\":60},\n",
    "              \"std-5\":{\"Maths\":80,\"Urdu\":75,\"Sindhi\":40,\"Chemistry\":90,\"Physics\":60}}\n",
    "students=list(student_data.keys())\n",
    "subjects=list(next(iter(student_data.values())).keys())\n",
    "marks=np.array([list(s.values())for s in student_data.values()])\n",
    "print(marks)\n",
    "max_subject=marks.argmax(axis=0)\n",
    "min_subject=marks.argmin(axis=0)\n",
    "max_student=marks.argmax(axis=1)\n",
    "min_student=marks.argmin(axis=1)\n",
    "print(max_student)\n",
    "for i in range(0,len(subjects)):\n",
    "    print(f\"{subjects[i]}:max marks:{marks[max_subject[i],i]}\")\n",
    "for loc,student in enumerate(marks):\n",
    "    print(f\"student no:{loc+1}\\nMax marks:{student[max_student[loc]]} in subject:{subjects[max_student[loc]]}\")\n",
    "    print(\"_________\")\n",
    "sum_row=np.sum(marks,axis=0)\n",
    "print(sum_row)\n",
    "sums=sum_row.argmax()\n",
    "total=sum_row.max()\n",
    "print(f\"Total Highest Marks score:{total}={marks[sums]} in student 4\")"
   ]
  },
  {
   "cell_type": "code",
   "execution_count": 3,
   "id": "f6740faa-f6bd-41c2-9578-46dda9174225",
   "metadata": {},
   "outputs": [
    {
     "name": "stdout",
     "output_type": "stream",
     "text": [
      "Max temperature in City A:32C\n",
      "Day with high temperature in Day 5\n",
      "Generally Warmer is City A:Total temp:203C\n"
     ]
    }
   ],
   "source": [
    "temps=np.array([[30,32,31,29,28,27,26],\n",
    "               [22,21,23,24,25,26,24],\n",
    "               [15,17,16,18,19,20,21]])\n",
    "max_city=temps.max()\n",
    "print(f\"Max temperature in City A:{max_city}C\")\n",
    "max_day=temps.sum(axis=0)\n",
    "day=max_day.argmax()\n",
    "print(f\"Day with high temperature in Day {day}\")\n",
    "city=temps.sum(axis=1)\n",
    "at_city=city.max()\n",
    "print(f\"Generally Warmer is City A:Total temp:{at_city}C\")"
   ]
  },
  {
   "cell_type": "code",
   "execution_count": 4,
   "id": "347c9ca9-6e83-41fd-948c-b4f427dcd3b2",
   "metadata": {},
   "outputs": [],
   "source": [
    "#NEW WORK\n",
    "#1.Dot Product\n",
    "#2. Determinant\n",
    "#3.Inverse\n",
    "#4.Inner Matrix\n",
    "#5.Power"
   ]
  },
  {
   "cell_type": "code",
   "execution_count": 5,
   "id": "a04568b1-a3d3-4c52-953e-b0f4bbfcc1e0",
   "metadata": {},
   "outputs": [
    {
     "data": {
      "text/plain": [
       "array([[14, 22],\n",
       "       [30, 48]])"
      ]
     },
     "execution_count": 5,
     "metadata": {},
     "output_type": "execute_result"
    }
   ],
   "source": [
    "my_arr1=np.array([[1,2],[3,4]])              #Dot product   row by column\n",
    "my_arr2=np.array([[2,4],[6,9]])\n",
    "np.linalg.multi_dot([my_arr1,my_arr2])"
   ]
  },
  {
   "cell_type": "code",
   "execution_count": 8,
   "id": "ee24df37-91f6-4758-b324-602dc374aabd",
   "metadata": {},
   "outputs": [
    {
     "data": {
      "text/plain": [
       "np.float64(-2.0000000000000004)"
      ]
     },
     "execution_count": 8,
     "metadata": {},
     "output_type": "execute_result"
    }
   ],
   "source": [
    "np.linalg.det(my_arr1)                      #Determinant"
   ]
  },
  {
   "cell_type": "code",
   "execution_count": 9,
   "id": "626e0b76-ad78-4695-9d58-c408b4727007",
   "metadata": {},
   "outputs": [
    {
     "data": {
      "text/plain": [
       "array([[-1.5       ,  0.66666667],\n",
       "       [ 1.        , -0.33333333]])"
      ]
     },
     "execution_count": 9,
     "metadata": {},
     "output_type": "execute_result"
    }
   ],
   "source": [
    "np.linalg.inv(my_arr2)                      #Inverse"
   ]
  },
  {
   "cell_type": "code",
   "execution_count": 10,
   "id": "ff1a883f-2ea2-4ba6-bc1f-266525b66153",
   "metadata": {},
   "outputs": [
    {
     "data": {
      "text/plain": [
       "array([[10, 24],\n",
       "       [22, 54]])"
      ]
     },
     "execution_count": 10,
     "metadata": {},
     "output_type": "execute_result"
    }
   ],
   "source": [
    "np.inner(my_arr1,my_arr2)                 #Inner   row by row                 "
   ]
  },
  {
   "cell_type": "code",
   "execution_count": 11,
   "id": "bf01e870-5165-4f46-942a-7e7e8c1820c5",
   "metadata": {},
   "outputs": [
    {
     "data": {
      "text/plain": [
       "array([[ 1,  4],\n",
       "       [ 9, 16]])"
      ]
     },
     "execution_count": 11,
     "metadata": {},
     "output_type": "execute_result"
    }
   ],
   "source": [
    "np.pow(my_arr1,2)                       #Power"
   ]
  },
  {
   "cell_type": "code",
   "execution_count": 13,
   "id": "1f3e5e50-6264-481e-adc7-f19abaef8a7d",
   "metadata": {},
   "outputs": [],
   "source": [
    "#Work\n",
    "#Arthmetic Mean\n",
    "#Geometrical Mean"
   ]
  },
  {
   "cell_type": "code",
   "execution_count": 53,
   "id": "ac57f24a-cf77-4f74-854e-b3618ed92ecb",
   "metadata": {},
   "outputs": [],
   "source": [
    "profit=np.array([-0.10,0.20,0.80,-0.30,-0.40,-0.20,0.30,0.60,-0.10,0.20])"
   ]
  },
  {
   "cell_type": "code",
   "execution_count": 54,
   "id": "62fb2b1f-5632-422e-92ce-15309a73579d",
   "metadata": {},
   "outputs": [
    {
     "name": "stderr",
     "output_type": "stream",
     "text": [
      "C:\\Users\\H S COMPUTER S HYD\\AppData\\Local\\Temp\\ipykernel_4784\\1463819382.py:1: RuntimeWarning: invalid value encountered in power\n",
      "  np.pow(profit.prod(),1/len(profit))\n"
     ]
    },
    {
     "data": {
      "text/plain": [
       "np.float64(nan)"
      ]
     },
     "execution_count": 54,
     "metadata": {},
     "output_type": "execute_result"
    }
   ],
   "source": [
    "np.pow(profit.prod(),1/len(profit))"
   ]
  },
  {
   "cell_type": "code",
   "execution_count": 49,
   "id": "1bb0e5e6-0b57-4c38-9b30-07913a6799dc",
   "metadata": {},
   "outputs": [],
   "source": [
    "#(2500+(2500*))"
   ]
  },
  {
   "cell_type": "code",
   "execution_count": 9,
   "id": "50dc8081-6ce9-4713-be07-1df6bfec791c",
   "metadata": {},
   "outputs": [
    {
     "ename": "NameError",
     "evalue": "name 'profit' is not defined",
     "output_type": "error",
     "traceback": [
      "\u001b[31m---------------------------------------------------------------------------\u001b[39m",
      "\u001b[31mNameError\u001b[39m                                 Traceback (most recent call last)",
      "\u001b[36mCell\u001b[39m\u001b[36m \u001b[39m\u001b[32mIn[9]\u001b[39m\u001b[32m, line 1\u001b[39m\n\u001b[32m----> \u001b[39m\u001b[32m1\u001b[39m factor=\u001b[43mprofit\u001b[49m + \u001b[32m1\u001b[39m\n\u001b[32m      2\u001b[39m pof=factor.prod()\n\u001b[32m      3\u001b[39m amount=\u001b[32m9000\u001b[39m*pof\n",
      "\u001b[31mNameError\u001b[39m: name 'profit' is not defined"
     ]
    }
   ],
   "source": [
    "factor=profit + 1\n",
    "pof=factor.prod()\n",
    "amount=9000*pof\n",
    "print(amount)\n",
    "print(f'A Mean:{profit.mean():2f}')\n",
    "geom=np.pow(factor.prod(),1/len(factor))-1\n",
    "print(f\"G Mean:{geom}\")"
   ]
  },
  {
   "cell_type": "code",
   "execution_count": 58,
   "id": "ab4b69e5-0460-49d1-9d82-5388c8edfceb",
   "metadata": {},
   "outputs": [
    {
     "data": {
      "text/plain": [
       "12600.0"
      ]
     },
     "execution_count": 58,
     "metadata": {},
     "output_type": "execute_result"
    }
   ],
   "source": [
    "9000+(9000*0.04)*10"
   ]
  },
  {
   "cell_type": "code",
   "execution_count": 5,
   "id": "2c4559b6-81c3-4e22-8bc2-7e00e5007ddc",
   "metadata": {},
   "outputs": [],
   "source": [
    "#NEW WORK\n",
    "#np.where all empty values index in data set"
   ]
  },
  {
   "cell_type": "code",
   "execution_count": 1,
   "id": "cb1fbc47-d3c3-44bb-b309-6ecb3a6eb240",
   "metadata": {},
   "outputs": [],
   "source": [
    "import numpy as np\n",
    "from numpy import genfromtxt"
   ]
  },
  {
   "cell_type": "code",
   "execution_count": 3,
   "id": "9a46703b-8efa-4e1a-bbbc-409d0835d014",
   "metadata": {},
   "outputs": [],
   "source": [
    "data=genfromtxt(r\"E:\\python\\p1(class).csv\",delimiter=\",\",dtype=\"str\")"
   ]
  },
  {
   "cell_type": "code",
   "execution_count": 4,
   "id": "4e0958cf-fb76-4551-aa4e-3d12a875e43d",
   "metadata": {},
   "outputs": [
    {
     "data": {
      "text/plain": [
       "array([['Year', 'Profit Percentage', 'Additional Investment',\n",
       "        'Total Amount'],\n",
       "       ['1', '25%', '0', '6250'],\n",
       "       ['2', '-30%', '0', '4375'],\n",
       "       ['3', '22%', '0', '5337.5'],\n",
       "       ['4', '28%', '0', '6832'],\n",
       "       ['5', '25%', '2000', '10840'],\n",
       "       ['6', '5%', '0', '11382'],\n",
       "       ['7', '-25%', '0', '8536.5'],\n",
       "       ['8', '30%', '0', '11097.45'],\n",
       "       ['9', '-22%', '0', '8656.01'],\n",
       "       ['10', '28%', '0', '11079.69']], dtype='<U21')"
      ]
     },
     "execution_count": 4,
     "metadata": {},
     "output_type": "execute_result"
    }
   ],
   "source": [
    "data"
   ]
  },
  {
   "cell_type": "code",
   "execution_count": 8,
   "id": "9c9c9b64-63ee-4293-bb3c-f1e42080e5d1",
   "metadata": {},
   "outputs": [],
   "source": [
    "data=np.delete(data,0,axis=0)"
   ]
  },
  {
   "cell_type": "code",
   "execution_count": 9,
   "id": "6aecf0c6-6d63-49f6-a57f-ef2969b1083a",
   "metadata": {},
   "outputs": [
    {
     "data": {
      "text/plain": [
       "array([['1', '25%', '0', '6250'],\n",
       "       ['2', '-30%', '0', '4375'],\n",
       "       ['3', '22%', '0', '5337.5'],\n",
       "       ['4', '28%', '0', '6832'],\n",
       "       ['5', '25%', '2000', '10840'],\n",
       "       ['6', '5%', '0', '11382'],\n",
       "       ['7', '-25%', '0', '8536.5'],\n",
       "       ['8', '30%', '0', '11097.45'],\n",
       "       ['9', '-22%', '0', '8656.01'],\n",
       "       ['10', '28%', '0', '11079.69']], dtype='<U21')"
      ]
     },
     "execution_count": 9,
     "metadata": {},
     "output_type": "execute_result"
    }
   ],
   "source": [
    "data"
   ]
  },
  {
   "cell_type": "code",
   "execution_count": 45,
   "id": "33955d6b-7597-4ee0-a658-eeac16737044",
   "metadata": {},
   "outputs": [
    {
     "name": "stdout",
     "output_type": "stream",
     "text": [
      "[ 25 -30  22  28  25   5 -25  30 -22  28]\n"
     ]
    }
   ],
   "source": [
    "percentage=data[:,1]\n",
    "integer=np.array([int(val.strip(\"%\"))for val in percentage])\n",
    "print(integer)"
   ]
  },
  {
   "cell_type": "code",
   "execution_count": 50,
   "id": "e80d0707-04f3-41ce-872f-d4f7e97bb7d2",
   "metadata": {},
   "outputs": [
    {
     "data": {
      "text/plain": [
       "array([ 0.25, -0.3 ,  0.22,  0.28,  0.25,  0.05, -0.25,  0.3 , -0.22,\n",
       "        0.28])"
      ]
     },
     "execution_count": 50,
     "metadata": {},
     "output_type": "execute_result"
    }
   ],
   "source": [
    "profit=integer/100\n",
    "profit"
   ]
  },
  {
   "cell_type": "code",
   "execution_count": 48,
   "id": "67ee42d2-5728-475b-a931-9a86ffe7cdb9",
   "metadata": {},
   "outputs": [
    {
     "data": {
      "text/plain": [
       "np.float64(0.05730098145198537)"
      ]
     },
     "execution_count": 48,
     "metadata": {},
     "output_type": "execute_result"
    }
   ],
   "source": [
    "initial=9000\n",
    "factor=profit+1\n",
    "gmean=np.pow(factor.prod(),1/len(factor))-1\n",
    "gmean"
   ]
  },
  {
   "cell_type": "code",
   "execution_count": 51,
   "id": "df6f0021-2ff5-455a-a38e-081443b291da",
   "metadata": {},
   "outputs": [],
   "source": [
    "data=genfromtxt(r\"E:\\python\\p1(class).csv\",delimiter=\",\",dtype=\"str\")"
   ]
  },
  {
   "cell_type": "code",
   "execution_count": 53,
   "id": "2a5fb9a6-b464-42e6-96be-b46e6e60f23b",
   "metadata": {},
   "outputs": [],
   "source": [
    "columns=data[0]\n",
    "data=np.delete(data,0,axis=0)"
   ]
  },
  {
   "cell_type": "code",
   "execution_count": 54,
   "id": "9e15d7c7-d38e-468b-8d72-9048fc35435d",
   "metadata": {},
   "outputs": [
    {
     "data": {
      "text/plain": [
       "array([['1', '25%', '0', '6250'],\n",
       "       ['2', '-30%', '0', '4375'],\n",
       "       ['3', '22%', '0', '5337.5'],\n",
       "       ['4', '28%', '0', '6832'],\n",
       "       ['5', '25%', '2000', '10840'],\n",
       "       ['6', '5%', '0', '11382'],\n",
       "       ['7', '-25%', '0', '8536.5'],\n",
       "       ['8', '30%', '0', '11097.45'],\n",
       "       ['9', '-22%', '0', '8656.01'],\n",
       "       ['10', '28%', '0', '11079.69']], dtype='<U21')"
      ]
     },
     "execution_count": 54,
     "metadata": {},
     "output_type": "execute_result"
    }
   ],
   "source": [
    "data"
   ]
  },
  {
   "cell_type": "code",
   "execution_count": 79,
   "id": "dda2401c-8d29-4474-bfd9-4e7bc35fa093",
   "metadata": {},
   "outputs": [
    {
     "name": "stdout",
     "output_type": "stream",
     "text": [
      "A Mean:8.6\n",
      "G Mean:0.05730098145198537\n"
     ]
    },
    {
     "data": {
      "text/plain": [
       "np.float64(11284.11648)"
      ]
     },
     "execution_count": 79,
     "metadata": {},
     "output_type": "execute_result"
    }
   ],
   "source": [
    "profit=np.array([pro.replace(\"%\",'')for pro in data[:,1]]).astype(\"float\")\n",
    "initial=5000\n",
    "additional=data[:,2].astype(\"float\")\n",
    "profits=profit/100\n",
    "factor=(profits)+1\n",
    "print(f\"A Mean:{np.mean(profit)}\")\n",
    "print(f\"G Mean:{np.pow(factor.prod(),1/len(factor))-1}\")\n",
    "total_amount=initial\n",
    "for a,p in zip(additional,profits):\n",
    "    total_amount+=a\n",
    "    total_amount*=p+1\n",
    "total_amount"
   ]
  },
  {
   "cell_type": "code",
   "execution_count": null,
   "id": "46b8cdd0-6fbd-473d-a5b2-1c4293bb866f",
   "metadata": {},
   "outputs": [],
   "source": []
  }
 ],
 "metadata": {
  "kernelspec": {
   "display_name": "Python 3 (ipykernel)",
   "language": "python",
   "name": "python3"
  },
  "language_info": {
   "codemirror_mode": {
    "name": "ipython",
    "version": 3
   },
   "file_extension": ".py",
   "mimetype": "text/x-python",
   "name": "python",
   "nbconvert_exporter": "python",
   "pygments_lexer": "ipython3",
   "version": "3.13.3"
  }
 },
 "nbformat": 4,
 "nbformat_minor": 5
}
