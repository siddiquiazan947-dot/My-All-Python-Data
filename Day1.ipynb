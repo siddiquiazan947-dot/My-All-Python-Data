{
 "cells": [
  {
   "cell_type": "code",
   "execution_count": null,
   "id": "56c8ee9d-5dcd-40d4-908e-9549ea961b20",
   "metadata": {},
   "outputs": [],
   "source": [
    "a=[[[1,2,3],[4,5,6]],[[7,8,9],[10,11,12]]]"
   ]
  },
  {
   "cell_type": "code",
   "execution_count": null,
   "id": "b8d2c85b-7a0d-4647-bef0-d1b51375ec66",
   "metadata": {},
   "outputs": [],
   "source": [
    "a[0][1][0]"
   ]
  },
  {
   "cell_type": "code",
   "execution_count": null,
   "id": "eef5fb87-0ae1-4555-921e-7d44f2df7180",
   "metadata": {},
   "outputs": [],
   "source": [
    "a[1][1][2]"
   ]
  },
  {
   "cell_type": "code",
   "execution_count": null,
   "id": "7c22f73b-ea77-410c-b880-e39afd789b69",
   "metadata": {},
   "outputs": [],
   "source": [
    "list=[1,2,3,4,5,6,7,8,9]"
   ]
  },
  {
   "cell_type": "code",
   "execution_count": null,
   "id": "42d918cf-d293-4b9b-b5cd-ecb42822d8af",
   "metadata": {},
   "outputs": [],
   "source": [
    "list.append(10)"
   ]
  },
  {
   "cell_type": "code",
   "execution_count": null,
   "id": "33c15fbc-d4cd-4c24-9267-4ba63d8dfab8",
   "metadata": {},
   "outputs": [],
   "source": [
    "list"
   ]
  },
  {
   "cell_type": "code",
   "execution_count": null,
   "id": "384fc159-742b-43c6-8ed5-1fb59216aa51",
   "metadata": {},
   "outputs": [],
   "source": [
    "list.insert(0,0)"
   ]
  },
  {
   "cell_type": "code",
   "execution_count": null,
   "id": "f965e560-e9a3-4949-a06c-beaa9daeee5e",
   "metadata": {},
   "outputs": [],
   "source": [
    "list"
   ]
  },
  {
   "cell_type": "code",
   "execution_count": null,
   "id": "b48acb25-ed19-4c68-88ec-afff4755646b",
   "metadata": {},
   "outputs": [],
   "source": [
    "print(len(list))"
   ]
  },
  {
   "cell_type": "code",
   "execution_count": null,
   "id": "177a7a9c-296d-4068-a6ed-f139427a248b",
   "metadata": {},
   "outputs": [],
   "source": [
    "print(sum(list))"
   ]
  },
  {
   "cell_type": "code",
   "execution_count": null,
   "id": "afa8ddb8-caa7-43e9-bd41-405f2e7df1a0",
   "metadata": {},
   "outputs": [],
   "source": [
    "list.pop()"
   ]
  },
  {
   "cell_type": "code",
   "execution_count": null,
   "id": "f0c9678b-991c-4332-9371-b2e4aeefe82e",
   "metadata": {},
   "outputs": [],
   "source": [
    "list"
   ]
  },
  {
   "cell_type": "code",
   "execution_count": null,
   "id": "62255322-be1a-4882-b5da-a1a94f618ccf",
   "metadata": {},
   "outputs": [],
   "source": [
    "list.remove[1]"
   ]
  },
  {
   "cell_type": "code",
   "execution_count": null,
   "id": "743937f0-c21a-4a8c-8d9f-e1788b512d01",
   "metadata": {},
   "outputs": [],
   "source": [
    "list"
   ]
  },
  {
   "cell_type": "code",
   "execution_count": null,
   "id": "34f44333-e642-4f85-b7e7-13ed35f522d9",
   "metadata": {},
   "outputs": [],
   "source": [
    "#LIST TASKS"
   ]
  },
  {
   "cell_type": "code",
   "execution_count": null,
   "id": "ef723026-3c45-4cc9-9929-bc7a25e56fb2",
   "metadata": {},
   "outputs": [],
   "source": [
    "a=[1,2,3,4,5,]\n",
    "a.append(6)"
   ]
  },
  {
   "cell_type": "code",
   "execution_count": null,
   "id": "fda9e870-bac1-4dcd-a3d5-73a75fbecc4a",
   "metadata": {},
   "outputs": [],
   "source": [
    "a"
   ]
  },
  {
   "cell_type": "code",
   "execution_count": null,
   "id": "d060fbfd-db16-481f-ae5e-50d6188d0a94",
   "metadata": {},
   "outputs": [],
   "source": [
    "#2"
   ]
  },
  {
   "cell_type": "code",
   "execution_count": null,
   "id": "fd356b02-b2d6-4d7a-83b8-f7bd7db22135",
   "metadata": {},
   "outputs": [],
   "source": [
    "b=[1,2,3]\n",
    "a[1]"
   ]
  },
  {
   "cell_type": "code",
   "execution_count": null,
   "id": "f8ee1a9a-870f-4108-9bed-d48e6eac41e7",
   "metadata": {},
   "outputs": [],
   "source": [
    "#3"
   ]
  },
  {
   "cell_type": "code",
   "execution_count": 106,
   "id": "e5ff74b8-d0c5-4e12-ab7c-507dbd7aaba3",
   "metadata": {},
   "outputs": [],
   "source": [
    "c=[10,20,30]\n",
    "c.remove(20) or c.insert(1,25)"
   ]
  },
  {
   "cell_type": "code",
   "execution_count": 107,
   "id": "3b52d264-a7bb-45bd-9599-ea3ee2920e24",
   "metadata": {},
   "outputs": [
    {
     "data": {
      "text/plain": [
       "[10, 25, 30]"
      ]
     },
     "execution_count": 107,
     "metadata": {},
     "output_type": "execute_result"
    }
   ],
   "source": [
    "c"
   ]
  },
  {
   "cell_type": "code",
   "execution_count": null,
   "id": "7d88ce4c-524a-4b75-b89e-7afa1d653ae3",
   "metadata": {},
   "outputs": [],
   "source": [
    "#4"
   ]
  },
  {
   "cell_type": "code",
   "execution_count": null,
   "id": "8d561719-4ddb-4de4-b320-bbff29ee8db4",
   "metadata": {},
   "outputs": [],
   "source": [
    "d=[50,100,150]\n",
    "if(\"100 in d\"):\n",
    "    print(\"found\")\n",
    "else:\n",
    "    print(\"not found\")"
   ]
  },
  {
   "cell_type": "code",
   "execution_count": null,
   "id": "49a73d8b-364f-4863-b6f4-d94ca13b2898",
   "metadata": {},
   "outputs": [],
   "source": [
    "#TUPLE TASK"
   ]
  },
  {
   "cell_type": "code",
   "execution_count": null,
   "id": "1cb1f720-536f-4f45-9028-52a02229ac7a",
   "metadata": {},
   "outputs": [],
   "source": [
    "#1"
   ]
  },
  {
   "cell_type": "code",
   "execution_count": null,
   "id": "48eecb02-428a-454f-8ceb-ebbdbcc6de10",
   "metadata": {},
   "outputs": [],
   "source": [
    "a=(\"pakistan\",\"china\",\"india\")"
   ]
  },
  {
   "cell_type": "code",
   "execution_count": null,
   "id": "f33cd8e8-06a8-4564-b2b9-6b8f521cc4c4",
   "metadata": {},
   "outputs": [],
   "source": [
    "a"
   ]
  },
  {
   "cell_type": "code",
   "execution_count": null,
   "id": "249bcf4e-9019-4366-b6e8-cad81bad6401",
   "metadata": {},
   "outputs": [],
   "source": [
    "#2"
   ]
  },
  {
   "cell_type": "code",
   "execution_count": null,
   "id": "647362af-4f69-4edb-a1ae-76b7fb3f5f93",
   "metadata": {},
   "outputs": [],
   "source": [
    "b=(5,10,15)\n",
    "b[2]"
   ]
  },
  {
   "cell_type": "code",
   "execution_count": null,
   "id": "d4dbf891-30b6-4a23-abcf-84a086361e29",
   "metadata": {},
   "outputs": [],
   "source": [
    "#3"
   ]
  },
  {
   "cell_type": "code",
   "execution_count": null,
   "id": "e14d5d22-a25f-4d2c-ab8d-7f67135cfabc",
   "metadata": {},
   "outputs": [],
   "source": [
    "c=(1,2,3,4,5)\n",
    "c[:3]"
   ]
  },
  {
   "cell_type": "code",
   "execution_count": null,
   "id": "e08357f6-edf5-4f36-995c-aedaa1d645b0",
   "metadata": {},
   "outputs": [],
   "source": [
    "#4"
   ]
  },
  {
   "cell_type": "code",
   "execution_count": null,
   "id": "a0a5decd-26a9-4a54-8e72-09cd22cd1ff1",
   "metadata": {},
   "outputs": [],
   "source": [
    "d=(1,2,3,2,4)\n",
    "d.count(2)"
   ]
  },
  {
   "cell_type": "code",
   "execution_count": null,
   "id": "36089ba8-218a-45c4-a7dc-d89a0236b5d6",
   "metadata": {},
   "outputs": [],
   "source": [
    "#SET TASK"
   ]
  },
  {
   "cell_type": "code",
   "execution_count": null,
   "id": "a1a4ef02-e966-4382-ada1-39f27ec93252",
   "metadata": {},
   "outputs": [],
   "source": [
    "#1"
   ]
  },
  {
   "cell_type": "code",
   "execution_count": null,
   "id": "5ec8ea5e-2c18-498f-b0d0-1e297e41bcc8",
   "metadata": {},
   "outputs": [],
   "source": [
    "a={\"red\",\"blue\",\"green\"}"
   ]
  },
  {
   "cell_type": "code",
   "execution_count": null,
   "id": "69b9f1de-aff9-4a60-b20b-370795f33bbe",
   "metadata": {},
   "outputs": [],
   "source": [
    "a"
   ]
  },
  {
   "cell_type": "code",
   "execution_count": null,
   "id": "62fc57d9-b705-4f97-b54b-36454bed070e",
   "metadata": {},
   "outputs": [],
   "source": [
    "#2"
   ]
  },
  {
   "cell_type": "code",
   "execution_count": 3,
   "id": "865a31c4-9960-4d6b-bdb0-8efdda906c2d",
   "metadata": {},
   "outputs": [],
   "source": [
    "b={1,2}\n",
    "b.add(3)"
   ]
  },
  {
   "cell_type": "code",
   "execution_count": 4,
   "id": "f589ba80-9f45-4e21-a8c0-4ffe1d616803",
   "metadata": {},
   "outputs": [
    {
     "data": {
      "text/plain": [
       "{1, 2, 3}"
      ]
     },
     "execution_count": 4,
     "metadata": {},
     "output_type": "execute_result"
    }
   ],
   "source": [
    "b"
   ]
  },
  {
   "cell_type": "code",
   "execution_count": null,
   "id": "a4527b1d-202f-43b6-b405-80e65d41a489",
   "metadata": {},
   "outputs": [],
   "source": [
    "#3"
   ]
  },
  {
   "cell_type": "code",
   "execution_count": null,
   "id": "4efddb9e-122d-42b3-af3b-fe94e426ed2f",
   "metadata": {},
   "outputs": [],
   "source": [
    "c={\"banana\",\"apple\",\"grapes\"}\n",
    "if(\"apple\" in c):\n",
    "    print(\"Exist\")\n",
    "else:\n",
    "    print(\"not found\")"
   ]
  },
  {
   "cell_type": "code",
   "execution_count": null,
   "id": "6898e5b9-f286-437c-80c1-cc1dca51eea4",
   "metadata": {},
   "outputs": [],
   "source": [
    "#4"
   ]
  },
  {
   "cell_type": "code",
   "execution_count": null,
   "id": "94c93bd7-7fac-4245-9f49-d26721d10fb1",
   "metadata": {},
   "outputs": [],
   "source": [
    "a={1,2,3}\n",
    "b={3,4,5}\n",
    "a-b"
   ]
  },
  {
   "cell_type": "code",
   "execution_count": 5,
   "id": "2be0b3ac-41fe-471d-9f73-a24996db4ffd",
   "metadata": {},
   "outputs": [],
   "source": [
    "#NEXT DAY WORK"
   ]
  },
  {
   "cell_type": "code",
   "execution_count": 16,
   "id": "651091e8-eec3-4a43-a764-1582add9de81",
   "metadata": {},
   "outputs": [],
   "source": [
    "a={\n",
    "'name':'Azan',\n",
    "\"age\":16,\n",
    "}"
   ]
  },
  {
   "cell_type": "code",
   "execution_count": 17,
   "id": "f121f379-25f1-40c1-af06-8a5e9bb7f234",
   "metadata": {},
   "outputs": [
    {
     "data": {
      "text/plain": [
       "'Azan'"
      ]
     },
     "execution_count": 17,
     "metadata": {},
     "output_type": "execute_result"
    }
   ],
   "source": [
    "a['name']"
   ]
  },
  {
   "cell_type": "code",
   "execution_count": 18,
   "id": "ad8c2e00-5275-4ec2-a15c-52e6a19f8e5f",
   "metadata": {},
   "outputs": [],
   "source": [
    "a[\"age\"]=16"
   ]
  },
  {
   "cell_type": "code",
   "execution_count": 19,
   "id": "e9afde3c-9ee0-4243-a3d1-b6b3dd41b39c",
   "metadata": {},
   "outputs": [
    {
     "data": {
      "text/plain": [
       "{'name': 'Azan', 'age': 16}"
      ]
     },
     "execution_count": 19,
     "metadata": {},
     "output_type": "execute_result"
    }
   ],
   "source": [
    "a"
   ]
  },
  {
   "cell_type": "code",
   "execution_count": 20,
   "id": "bfa8f0a8-38df-436c-a935-726f307dccd8",
   "metadata": {},
   "outputs": [],
   "source": [
    "a[\"gender\"]=\"male\""
   ]
  },
  {
   "cell_type": "code",
   "execution_count": 21,
   "id": "7c10e22c-fc32-4d6f-bbec-dd71e07c64eb",
   "metadata": {},
   "outputs": [
    {
     "data": {
      "text/plain": [
       "{'name': 'Azan', 'age': 16, 'gender': 'male'}"
      ]
     },
     "execution_count": 21,
     "metadata": {},
     "output_type": "execute_result"
    }
   ],
   "source": [
    "a"
   ]
  },
  {
   "cell_type": "code",
   "execution_count": 22,
   "id": "41737d2f-654f-4aa4-8d92-ea9eeb412a22",
   "metadata": {},
   "outputs": [
    {
     "data": {
      "text/plain": [
       "16"
      ]
     },
     "execution_count": 22,
     "metadata": {},
     "output_type": "execute_result"
    }
   ],
   "source": [
    "a.pop(\"age\")"
   ]
  },
  {
   "cell_type": "code",
   "execution_count": 23,
   "id": "f24042e8-e76e-482a-a097-fa7a7c82f1ad",
   "metadata": {},
   "outputs": [
    {
     "data": {
      "text/plain": [
       "{'name': 'Azan', 'gender': 'male'}"
      ]
     },
     "execution_count": 23,
     "metadata": {},
     "output_type": "execute_result"
    }
   ],
   "source": [
    "a"
   ]
  },
  {
   "cell_type": "code",
   "execution_count": 24,
   "id": "fd491619-a719-415e-b787-ad35816bdd75",
   "metadata": {},
   "outputs": [
    {
     "data": {
      "text/plain": [
       "('gender', 'male')"
      ]
     },
     "execution_count": 24,
     "metadata": {},
     "output_type": "execute_result"
    }
   ],
   "source": [
    "a.popitem()"
   ]
  },
  {
   "cell_type": "code",
   "execution_count": 26,
   "id": "b54e1239-0625-4428-8ed5-49a057f00be0",
   "metadata": {},
   "outputs": [],
   "source": [
    "a={\n",
    "'name':'Azan',\n",
    "\"age\":16,\n",
    "}"
   ]
  },
  {
   "cell_type": "code",
   "execution_count": 27,
   "id": "bf8b94d0-8d94-4ec9-a8b8-3ca68fb4736d",
   "metadata": {},
   "outputs": [
    {
     "data": {
      "text/plain": [
       "dict_keys(['name', 'age'])"
      ]
     },
     "execution_count": 27,
     "metadata": {},
     "output_type": "execute_result"
    }
   ],
   "source": [
    "a.keys()"
   ]
  },
  {
   "cell_type": "code",
   "execution_count": 28,
   "id": "dd14bb08-6892-4782-9ffd-b62890d2abd4",
   "metadata": {},
   "outputs": [
    {
     "data": {
      "text/plain": [
       "dict_values(['Azan', 16])"
      ]
     },
     "execution_count": 28,
     "metadata": {},
     "output_type": "execute_result"
    }
   ],
   "source": [
    "a.values()"
   ]
  },
  {
   "cell_type": "code",
   "execution_count": 33,
   "id": "fea48099-c55d-4949-872a-2597ca51a469",
   "metadata": {},
   "outputs": [],
   "source": [
    "a={\"name\":{\"AZAN\",\"Siddiqui\"},\"age\":{15,16},}"
   ]
  },
  {
   "cell_type": "code",
   "execution_count": 34,
   "id": "834e28e0-121a-4985-8c6b-f2ccf873847a",
   "metadata": {},
   "outputs": [
    {
     "data": {
      "text/plain": [
       "{'AZAN', 'Siddiqui'}"
      ]
     },
     "execution_count": 34,
     "metadata": {},
     "output_type": "execute_result"
    }
   ],
   "source": [
    "a[\"name\"]"
   ]
  },
  {
   "cell_type": "code",
   "execution_count": 35,
   "id": "94f9bcf0-a554-4833-9fea-b579197e28a2",
   "metadata": {},
   "outputs": [
    {
     "name": "stdout",
     "output_type": "stream",
     "text": [
      "Siddiqui\n",
      "AZAN\n"
     ]
    }
   ],
   "source": [
    "for x in a[\"name\"]:\n",
    "    print(x)                    #using loop"
   ]
  },
  {
   "cell_type": "code",
   "execution_count": 36,
   "id": "5bf9ed62-d4ac-4991-a36a-cb88d8568ae0",
   "metadata": {},
   "outputs": [],
   "source": [
    "#string"
   ]
  },
  {
   "cell_type": "code",
   "execution_count": 42,
   "id": "932f53d2-9d02-490b-a758-c83603928ea1",
   "metadata": {},
   "outputs": [],
   "source": [
    "a=\"azan Siddiqui\""
   ]
  },
  {
   "cell_type": "code",
   "execution_count": 43,
   "id": "c1611c60-fb02-410e-a987-f9ae7d860180",
   "metadata": {},
   "outputs": [
    {
     "data": {
      "text/plain": [
       "'a'"
      ]
     },
     "execution_count": 43,
     "metadata": {},
     "output_type": "execute_result"
    }
   ],
   "source": [
    "a[0]"
   ]
  },
  {
   "cell_type": "code",
   "execution_count": 44,
   "id": "8b67a4f1-d269-4cc7-82c0-61a378ea1cd3",
   "metadata": {},
   "outputs": [
    {
     "data": {
      "text/plain": [
       "'azan S'"
      ]
     },
     "execution_count": 44,
     "metadata": {},
     "output_type": "execute_result"
    }
   ],
   "source": [
    "a[0:6]                          #Slicing"
   ]
  },
  {
   "cell_type": "code",
   "execution_count": 45,
   "id": "b0ca58b8-c045-4637-abd3-ca0afcee39b7",
   "metadata": {},
   "outputs": [
    {
     "data": {
      "text/plain": [
       "'AZAN SIDDIQUI'"
      ]
     },
     "execution_count": 45,
     "metadata": {},
     "output_type": "execute_result"
    }
   ],
   "source": [
    "a.upper()"
   ]
  },
  {
   "cell_type": "code",
   "execution_count": 46,
   "id": "fbd06405-40ba-4250-b90d-d63b0012f775",
   "metadata": {},
   "outputs": [
    {
     "data": {
      "text/plain": [
       "'azan siddiqui'"
      ]
     },
     "execution_count": 46,
     "metadata": {},
     "output_type": "execute_result"
    }
   ],
   "source": [
    "a.lower()"
   ]
  },
  {
   "cell_type": "code",
   "execution_count": 47,
   "id": "237dd209-3b0c-4e12-9894-544f3fcdb961",
   "metadata": {},
   "outputs": [],
   "source": [
    "#LOOPS"
   ]
  },
  {
   "cell_type": "code",
   "execution_count": 48,
   "id": "59f971cd-4f90-47e0-a44e-4c105972412a",
   "metadata": {},
   "outputs": [
    {
     "name": "stdout",
     "output_type": "stream",
     "text": [
      "1\n",
      "2\n",
      "3\n",
      "4\n",
      "5\n",
      "6\n",
      "7\n",
      "8\n",
      "9\n",
      "10\n"
     ]
    }
   ],
   "source": [
    "for x in range(1,11):     #x-1\n",
    "    print(x)"
   ]
  },
  {
   "cell_type": "code",
   "execution_count": 7,
   "id": "6bdcd7e2-f1b3-4cd1-8a94-5ec4c160c2f3",
   "metadata": {},
   "outputs": [
    {
     "name": "stdout",
     "output_type": "stream",
     "text": [
      "1 is odd number\n",
      "2 is ever number\n",
      "5 is odd number\n",
      "14 is ever number\n",
      "8 is ever number\n",
      "79 is odd number\n"
     ]
    }
   ],
   "source": [
    "a=[1,2,5,14,8,79]\n",
    "for x in range(len(a)):\n",
    "    if(a[x]%2==0):\n",
    "        print(a[x],\"is ever number\")\n",
    "    else:\n",
    "        print(a[x],\"is odd number\")"
   ]
  },
  {
   "cell_type": "code",
   "execution_count": 52,
   "id": "b697399a-9a5f-441e-8981-1add438dc0ac",
   "metadata": {},
   "outputs": [
    {
     "name": "stdout",
     "output_type": "stream",
     "text": [
      "2\n",
      "4\n",
      "6\n",
      "8\n",
      "10\n",
      "12\n",
      "14\n",
      "16\n",
      "18\n",
      "20\n"
     ]
    }
   ],
   "source": [
    "for x in range(2,21,2):        #x-1\n",
    "    print(x)"
   ]
  },
  {
   "cell_type": "code",
   "execution_count": 64,
   "id": "3fe11df3-ebc1-4bf7-b584-03f09526e72a",
   "metadata": {},
   "outputs": [
    {
     "name": "stdin",
     "output_type": "stream",
     "text": [
      "enter any number 4\n"
     ]
    },
    {
     "name": "stdout",
     "output_type": "stream",
     "text": [
      "2\n",
      "4\n",
      "6\n",
      "8\n",
      "10\n",
      "12\n",
      "14\n",
      "16\n",
      "18\n",
      "20\n"
     ]
    }
   ],
   "source": [
    "a=int(input(\"enter any number\"))\n",
    "for x in range(1,11):\n",
    "    print(x*)\n",
    "    \n",
    "\n",
    "            "
   ]
  },
  {
   "cell_type": "code",
   "execution_count": 18,
   "id": "33e40128-83d4-4e35-8f76-e5d5f87f8e7d",
   "metadata": {},
   "outputs": [
    {
     "name": "stdout",
     "output_type": "stream",
     "text": [
      "10 is less than 50\n",
      "20 is less than 50\n",
      "30 is less than 50\n",
      "40 is less than 50\n",
      "50 is less than 50\n",
      "60 is grater than 50\n",
      "70 is grater than 50\n",
      "80 is grater than 50\n",
      "90 is grater than 50\n",
      "100 is grater than 50\n"
     ]
    }
   ],
   "source": [
    "a=[10,20,30,40,50,60,70,80,90,100]\n",
    "for x in range(len(a)):\n",
    "    if(a[x]>50):\n",
    "        print(a[x],\"is grater than 50\")\n",
    "    else:\n",
    "        print(a[x],\"is less than 50\")\n",
    "\n",
    "    \n"
   ]
  },
  {
   "cell_type": "code",
   "execution_count": 32,
   "id": "225fdfca-db81-499d-9e42-e81be4835bdc",
   "metadata": {},
   "outputs": [
    {
     "name": "stdout",
     "output_type": "stream",
     "text": [
      "1 is positive\n",
      "2 is positive\n",
      "-1 is negative\n",
      "3 is positive\n",
      "-2 is negative\n"
     ]
    }
   ],
   "source": [
    "a=[1,2,-1,3,-2]\n",
    "for x in range(len(a)):\n",
    "    if(a[x]>0):\n",
    "        print(a[x],\"is positive\")\n",
    "    else:\n",
    "        print(a[x],\"is negative\")"
   ]
  },
  {
   "cell_type": "code",
   "execution_count": 33,
   "id": "10a7f94d-1474-4bc0-9eec-b958e16459ad",
   "metadata": {},
   "outputs": [
    {
     "name": "stdout",
     "output_type": "stream",
     "text": [
      "2\n",
      "4\n",
      "6\n",
      "12\n",
      "18\n",
      "19\n",
      "25\n",
      "8\n",
      "30\n"
     ]
    }
   ],
   "source": [
    "a=(2,4,6,12,18,19,25,8,30)\n",
    "for x in range(len(a)):\n",
    "    if(a[x]>18,a.count(x)):\n",
    "        print(a[x])\n",
    "    else:\n",
    "        pass"
   ]
  },
  {
   "cell_type": "code",
   "execution_count": 34,
   "id": "2b464b47-005b-4de9-b562-19912e9dd52b",
   "metadata": {},
   "outputs": [],
   "source": [
    "#NEW\n",
    "\n"
   ]
  },
  {
   "cell_type": "code",
   "execution_count": 35,
   "id": "bfdca117-b0a2-4f04-8648-6216ac0e50e4",
   "metadata": {},
   "outputs": [
    {
     "name": "stdout",
     "output_type": "stream",
     "text": [
      "1\n",
      "2\n",
      "3\n",
      "4\n",
      "5\n",
      "6\n",
      "7\n",
      "8\n",
      "9\n",
      "10\n"
     ]
    }
   ],
   "source": [
    "for loop in range(1,11):\n",
    "    print(loop)\n"
   ]
  },
  {
   "cell_type": "code",
   "execution_count": 37,
   "id": "1200cc26-701e-4963-ba59-dcfe058025ce",
   "metadata": {},
   "outputs": [
    {
     "name": "stdout",
     "output_type": "stream",
     "text": [
      "2\n",
      "4\n",
      "6\n",
      "8\n",
      "10\n",
      "12\n",
      "14\n",
      "16\n",
      "18\n",
      "20\n"
     ]
    }
   ],
   "source": [
    "for x in range(1,11):\n",
    "    print(2*x)\n"
   ]
  },
  {
   "cell_type": "code",
   "execution_count": 38,
   "id": "2a243faf-7eb2-47a5-a328-72d369193b33",
   "metadata": {},
   "outputs": [
    {
     "name": "stdout",
     "output_type": "stream",
     "text": [
      "1\n",
      "3\n",
      "5\n",
      "7\n",
      "9\n"
     ]
    }
   ],
   "source": [
    "for x in range(1,11,2):\n",
    "    print(x)\n"
   ]
  },
  {
   "cell_type": "code",
   "execution_count": 41,
   "id": "4dd3b5f9-c9e3-4d94-8e9e-646d8e57603d",
   "metadata": {},
   "outputs": [
    {
     "name": "stdout",
     "output_type": "stream",
     "text": [
      "2\n",
      "4\n",
      "6\n",
      "8\n",
      "10\n",
      "12\n",
      "14\n",
      "16\n",
      "18\n",
      "20\n"
     ]
    }
   ],
   "source": [
    "for x in range(2,21,2):\n",
    "    print(x)"
   ]
  },
  {
   "cell_type": "code",
   "execution_count": 45,
   "id": "c3b80e97-b469-40b7-835d-6c69b0607cb5",
   "metadata": {},
   "outputs": [
    {
     "name": "stdout",
     "output_type": "stream",
     "text": [
      "20\n",
      "18\n",
      "16\n",
      "14\n",
      "12\n",
      "10\n",
      "8\n",
      "6\n",
      "4\n",
      "2\n"
     ]
    }
   ],
   "source": [
    "for x in range(20,1,-2):\n",
    "    print(x)"
   ]
  },
  {
   "cell_type": "code",
   "execution_count": 51,
   "id": "dba5c92a-c837-4653-9154-a59b25c8e153",
   "metadata": {},
   "outputs": [
    {
     "name": "stdout",
     "output_type": "stream",
     "text": [
      "*\n",
      "**\n",
      "***\n",
      "****\n",
      "*****\n"
     ]
    }
   ],
   "source": [
    "for x in range(5):\n",
    "    print(\"*\"*(x+1))"
   ]
  },
  {
   "cell_type": "code",
   "execution_count": 49,
   "id": "6000525f-4812-449c-bac8-4129f0b4f374",
   "metadata": {},
   "outputs": [
    {
     "name": "stdout",
     "output_type": "stream",
     "text": [
      "\n",
      "*\n",
      "**\n",
      "***\n",
      "****\n",
      "*****\n"
     ]
    }
   ],
   "source": [
    "for x in range(6):\n",
    "    print(\"*\"*(x))"
   ]
  },
  {
   "cell_type": "code",
   "execution_count": 65,
   "id": "cece00c7-dd23-4dda-af9d-933ce87b140b",
   "metadata": {},
   "outputs": [
    {
     "name": "stdout",
     "output_type": "stream",
     "text": [
      "*****\n",
      "****\n",
      "***\n",
      "**\n",
      "*\n"
     ]
    }
   ],
   "source": [
    "for x in range(5,0,-1):\n",
    "    print(\"*\"*(x))"
   ]
  },
  {
   "cell_type": "code",
   "execution_count": 66,
   "id": "049ed73f-5e24-44e1-97e6-9adb7db8d3c9",
   "metadata": {},
   "outputs": [
    {
     "name": "stdin",
     "output_type": "stream",
     "text": [
      " 5\n"
     ]
    },
    {
     "name": "stdout",
     "output_type": "stream",
     "text": [
      "*****\n",
      "*****\n",
      "*****\n",
      "*****\n",
      "*****\n"
     ]
    }
   ],
   "source": [
    "rows=int(input())\n",
    "for x in range(rows):\n",
    "    print(\"*\"*rows)"
   ]
  },
  {
   "cell_type": "code",
   "execution_count": 67,
   "id": "cb5179c4-cc90-4c09-b4b4-35f62b0e8cf3",
   "metadata": {},
   "outputs": [
    {
     "name": "stdout",
     "output_type": "stream",
     "text": [
      "*****\n",
      "*****\n",
      "*****\n",
      "*****\n",
      "*****\n"
     ]
    }
   ],
   "source": [
    "for x in range(1,6):\n",
    "    print(\"*\"*5)"
   ]
  },
  {
   "cell_type": "code",
   "execution_count": 89,
   "id": "e1b7e67b-a423-40c9-a73d-5d31d924ca5d",
   "metadata": {},
   "outputs": [
    {
     "name": "stdout",
     "output_type": "stream",
     "text": [
      "      * \n",
      "     * * \n",
      "    * * * \n",
      "   * * * * \n",
      "  * * * * * \n"
     ]
    }
   ],
   "source": [
    "for x in range(5):\n",
    "    print(\" \"*(5-x),\"* \" * (x+1))"
   ]
  },
  {
   "cell_type": "code",
   "execution_count": 104,
   "id": "0d398331-ce7b-4640-8217-54893c986295",
   "metadata": {},
   "outputs": [
    {
     "name": "stdin",
     "output_type": "stream",
     "text": [
      " 6\n"
     ]
    },
    {
     "name": "stdout",
     "output_type": "stream",
     "text": [
      "       * \n",
      "      * * \n",
      "     * * * \n",
      "    * * * * \n",
      "   * * * * * \n",
      "  * * * * * * \n",
      "  * * * * * *\n",
      "   * * * * *\n",
      "    * * * *\n",
      "     * * *\n",
      "      * *\n",
      "       *\n"
     ]
    }
   ],
   "source": [
    "rows=int(input())\n",
    "for x in range(rows):\n",
    "    print(\" \"*(rows-x),\"* \" * (x+1))\n",
    "for y in range(rows,0,-1):\n",
    "    print(\" \"*(rows-y),\" *\" * (y))"
   ]
  },
  {
   "cell_type": "code",
   "execution_count": 105,
   "id": "52a2a62b-0bde-41e0-8404-49600710d9b4",
   "metadata": {},
   "outputs": [],
   "source": [
    "#loop with list"
   ]
  },
  {
   "cell_type": "code",
   "execution_count": 113,
   "id": "7a1b76ba-8863-41f2-8307-58d2010f0bb1",
   "metadata": {},
   "outputs": [
    {
     "name": "stdout",
     "output_type": "stream",
     "text": [
      "1 0\n",
      "2 1\n",
      "3 2\n",
      "4 3\n",
      "5 4\n",
      "6 5\n",
      "7 6\n",
      "8 7\n",
      "9 8\n",
      "10 9\n"
     ]
    }
   ],
   "source": [
    "a=[1,2,3,4,5,6,7,8,9,10]\n",
    "for x in range(len(a)):\n",
    "    print(a[x],x)"
   ]
  },
  {
   "cell_type": "markdown",
   "id": "eb93df94-97b3-4837-9e5f-b2eca419d378",
   "metadata": {},
   "source": [
    "a={1,2,3,4,5,6,7,8,9,10}\n",
    "for x in a:                          #from Sets\n",
    "    print(x)"
   ]
  },
  {
   "cell_type": "code",
   "execution_count": 1,
   "id": "baf09980-5051-45c9-9b47-9eb897be4cd9",
   "metadata": {},
   "outputs": [
    {
     "name": "stdout",
     "output_type": "stream",
     "text": [
      "azan\n",
      "siddiqui\n"
     ]
    }
   ],
   "source": [
    "a={\"name\":[\"azan\",\"siddiqui\"],\"age\":[15,16]}\n",
    "for x in range(len(a)):\n",
    "    print(a[\"name\"][x])\n",
    "   "
   ]
  },
  {
   "cell_type": "code",
   "execution_count": 127,
   "id": "8bb23738-f631-4f65-a9dd-91ad5c2f274c",
   "metadata": {},
   "outputs": [],
   "source": [
    "#Task"
   ]
  },
  {
   "cell_type": "code",
   "execution_count": 132,
   "id": "6e7e83aa-f579-49ba-a147-dca0f14827e4",
   "metadata": {},
   "outputs": [
    {
     "name": "stdout",
     "output_type": "stream",
     "text": [
      "found\n"
     ]
    }
   ],
   "source": [
    "a=(\"azan\",\"java\",\"python\")\n",
    "for x in range(len(a)):\n",
    "    if(\"python\"==a[x]):\n",
    "        print(\"found\")\n",
    "        break\n",
    "else:\n",
    "    print(\"not found\")"
   ]
  },
  {
   "cell_type": "code",
   "execution_count": 134,
   "id": "4622fe1d-d371-4c30-9c3a-b693b8792c97",
   "metadata": {},
   "outputs": [
    {
     "name": "stdout",
     "output_type": "stream",
     "text": [
      "[15, 30, 60, 45]\n"
     ]
    }
   ],
   "source": [
    "a=[12,13,14,23,25,15,20,30,60,45]\n",
    "b=[]\n",
    "for x in range(len(a)):\n",
    "    if(a[x]%3==0 and a[x]%5==0):\n",
    "        b.append(a[x])\n",
    "print(b)"
   ]
  },
  {
   "cell_type": "code",
   "execution_count": 135,
   "id": "8e500283-bbf6-4d9f-be11-fab89d21223d",
   "metadata": {},
   "outputs": [
    {
     "name": "stdout",
     "output_type": "stream",
     "text": [
      "10 is less than 50\n",
      "20 is less than 50\n",
      "30 is less than 50\n",
      "40 is less than 50\n",
      "50 is less than 50\n",
      "60 is grater than 50\n",
      "70 is grater than 50\n",
      "80 is grater than 50\n",
      "90 is grater than 50\n",
      "100 is grater than 50\n"
     ]
    }
   ],
   "source": [
    "a=[10,20,30,40,50,60,70,80,90,100]\n",
    "for x in range(len(a)):\n",
    "    if(a[x]>50):\n",
    "        print(a[x],\"is grater than 50\")\n",
    "    else:\n",
    "        print(a[x],\"is less than 50\")\n"
   ]
  },
  {
   "cell_type": "code",
   "execution_count": 139,
   "id": "52bf9a9f-0546-4dae-b0c6-312451131638",
   "metadata": {},
   "outputs": [
    {
     "name": "stdout",
     "output_type": "stream",
     "text": [
      "[1, 0, 2, -2]\n",
      "[1, 0, 2, 0]\n"
     ]
    }
   ],
   "source": [
    "a=[1,-1,2,-2]\n",
    "for x in range(len(a)):\n",
    "    if(a[x]<0):\n",
    "        a[x]=0\n",
    "        print(a)\n",
    "        \n",
    "    "
   ]
  },
  {
   "cell_type": "code",
   "execution_count": 151,
   "id": "0cf1d0e7-b9ea-44a9-9180-acecf55ff718",
   "metadata": {},
   "outputs": [
    {
     "name": "stdout",
     "output_type": "stream",
     "text": [
      "18\n",
      "20\n",
      "22\n",
      "24\n",
      "26\n",
      "28\n",
      "30\n"
     ]
    }
   ],
   "source": [
    "a=(2,4,6,8,10,12,14,16,18,20,22,24,26,28,30)\n",
    "for x in range(len(a)):\n",
    "    if(a[x]==18 or a[x]>18):\n",
    "        a.count(a[x])\n",
    "        print(a[x])\n"
   ]
  },
  {
   "cell_type": "code",
   "execution_count": 10,
   "id": "d92c4808-078f-4585-845c-e4cfec08e0f8",
   "metadata": {},
   "outputs": [
    {
     "name": "stdout",
     "output_type": "stream",
     "text": [
      "kaif\n"
     ]
    }
   ],
   "source": [
    "a=[\"azan\",\"ali\",\"azan\",\"kaif\",\"azan\",\"ali\"]\n",
    "for x in range(len(a)):                             \n",
    "    if(a.count(a[x])==1):\n",
    "        print(a[x])\n",
    "        "
   ]
  },
  {
   "cell_type": "code",
   "execution_count": 12,
   "id": "f27309c8-cbcb-41d0-a32c-165cf1bec842",
   "metadata": {},
   "outputs": [
    {
     "name": "stdin",
     "output_type": "stream",
     "text": [
      " ali is a brave boy\n"
     ]
    },
    {
     "name": "stdout",
     "output_type": "stream",
     "text": [
      "7\n"
     ]
    }
   ],
   "source": [
    "a=input()\n",
    "count=0\n",
    "for x in a:\n",
    "    if(\"a\"==x or \"e\"==x or \"i\"==x or \"o\"==x or \"u\"==x):\n",
    "        count+=1\n",
    "    else:\n",
    "        pass\n",
    "print(count)\n"
   ]
  },
  {
   "cell_type": "code",
   "execution_count": 14,
   "id": "474657c8-85d5-41b3-b89f-f8c321ec1f32",
   "metadata": {},
   "outputs": [
    {
     "name": "stdout",
     "output_type": "stream",
     "text": [
      "0\n",
      "1\n",
      "2\n",
      "3\n",
      "4\n",
      "5\n",
      "6\n",
      "7\n",
      "8\n",
      "9\n",
      "0\n",
      "1\n",
      "2\n",
      "3\n",
      "4\n",
      "5\n",
      "6\n",
      "7\n",
      "8\n",
      "9\n",
      "0\n",
      "1\n",
      "2\n",
      "3\n",
      "4\n",
      "5\n",
      "6\n",
      "7\n",
      "8\n",
      "9\n",
      "0\n",
      "1\n",
      "2\n",
      "3\n",
      "4\n",
      "5\n",
      "6\n",
      "7\n",
      "8\n",
      "9\n",
      "0\n",
      "1\n",
      "2\n",
      "3\n",
      "4\n",
      "5\n",
      "6\n",
      "7\n",
      "8\n",
      "9\n"
     ]
    }
   ],
   "source": [
    "for x in range(5):\n",
    "    for y in range(10):\n",
    "        print(y)"
   ]
  },
  {
   "cell_type": "code",
   "execution_count": 17,
   "id": "6fff68a7-da10-4819-9c3f-62a8c1f9236c",
   "metadata": {},
   "outputs": [
    {
     "name": "stdout",
     "output_type": "stream",
     "text": [
      "\n",
      "2 4 6 8 10 12 14 16 18 20 \n",
      "3 6 9 12 15 18 21 24 27 30 \n",
      "4 8 12 16 20 24 28 32 36 40 \n",
      "5 10 15 20 25 30 35 40 45 50 \n",
      "6 12 18 24 30 36 42 48 54 60 \n",
      "7 14 21 28 35 42 49 56 63 70 \n",
      "8 16 24 32 40 48 56 64 72 80 \n",
      "9 18 27 36 45 54 63 72 81 90 \n",
      "10 20 30 40 50 60 70 80 90 100 "
     ]
    }
   ],
   "source": [
    "for x in range(2,11):\n",
    "    print()\n",
    "    for y in range(1,11):\n",
    "        print(x*y,end=\" \")"
   ]
  },
  {
   "cell_type": "code",
   "execution_count": 24,
   "id": "3f507448-6a19-4c71-92d3-0acf06f1e41b",
   "metadata": {},
   "outputs": [
    {
     "name": "stdout",
     "output_type": "stream",
     "text": [
      "\n",
      "* \n",
      "* * \n",
      "* * * \n",
      "* * * * \n",
      "* * * * * "
     ]
    }
   ],
   "source": [
    "for x in range(1,6):\n",
    "    print()\n",
    "    for y in range(x):\n",
    "        print(\"*\", end=\" \")"
   ]
  },
  {
   "cell_type": "code",
   "execution_count": 25,
   "id": "4bb74691-9e1f-458d-945b-f55281557110",
   "metadata": {},
   "outputs": [
    {
     "name": "stdout",
     "output_type": "stream",
     "text": [
      "\n",
      "* * * * * * \n",
      "* * * * * \n",
      "* * * * \n",
      "* * * \n",
      "* * \n",
      "* "
     ]
    }
   ],
   "source": [
    "for x in range(6,0,-1):\n",
    "    print()\n",
    "    for y in range(x):\n",
    "        print(\"*\", end=\" \")"
   ]
  },
  {
   "cell_type": "code",
   "execution_count": 32,
   "id": "d0b7d62f-e876-402c-a4dd-d3f84363db63",
   "metadata": {},
   "outputs": [
    {
     "name": "stdout",
     "output_type": "stream",
     "text": [
      "   *\n",
      "    *   *\n",
      "     *    *   *\n",
      "      *     *    *   *\n",
      "       *      *     *    *   *\n"
     ]
    }
   ],
   "source": [
    "for x in range(1,6):\n",
    "    for y in range(x):\n",
    "        print(\" \"*(x-y),\" *\",end=\"\")\n",
    "    print()"
   ]
  },
  {
   "cell_type": "code",
   "execution_count": 33,
   "id": "987e9b73-50bb-4f50-8c84-80eea4d9bf6d",
   "metadata": {},
   "outputs": [
    {
     "name": "stdout",
     "output_type": "stream",
     "text": [
      "1\n",
      "2\n",
      "3\n",
      "4\n",
      "5\n",
      "6\n",
      "7\n",
      "8\n",
      "9\n"
     ]
    }
   ],
   "source": [
    "a=[[1,2,3],[4,5,6,7,8,9]]\n",
    "for x in range(len(a)):\n",
    "    for y in range(len(a[x])):\n",
    "        print(a[x][y])\n",
    "        "
   ]
  },
  {
   "cell_type": "code",
   "execution_count": 35,
   "id": "6dab83e7-97b4-4c46-811e-61613d666436",
   "metadata": {},
   "outputs": [
    {
     "name": "stdout",
     "output_type": "stream",
     "text": [
      "1 2 3 4 5 6 7 8 9 "
     ]
    }
   ],
   "source": [
    "a=[[1,2,3],[4,5,6,7,8,9]]\n",
    "for x in range(len(a)):\n",
    "    for y in range(len(a[x])):\n",
    "        print(a[x][y],end=\" \")\n",
    "        "
   ]
  },
  {
   "cell_type": "code",
   "execution_count": 36,
   "id": "18500c0c-1ebb-42ee-8d1b-ca3a0e0200ec",
   "metadata": {},
   "outputs": [
    {
     "name": "stdout",
     "output_type": "stream",
     "text": [
      "1\n",
      "odd number 1\n",
      "2\n",
      "even number 2\n",
      "3\n",
      "odd number 3\n",
      "4\n",
      "even number 4\n",
      "5\n",
      "odd number 5\n",
      "6\n",
      "even number 6\n",
      "7\n",
      "odd number 7\n",
      "8\n",
      "even number 8\n",
      "9\n",
      "odd number 9\n"
     ]
    }
   ],
   "source": [
    "a=[[1,2,3],[4,5,6,7,8,9]]\n",
    "for x in range(len(a)):\n",
    "    for y in range(len(a[x])):\n",
    "        print(a[x][y])\n",
    "        if(a[x][y]%2==0):\n",
    "            print(\"even number\",a[x][y])\n",
    "        else:\n",
    "            print(\"odd number\",a[x][y])"
   ]
  },
  {
   "cell_type": "code",
   "execution_count": 61,
   "id": "4db4b86a-deca-472d-be91-ec9593fc6ee8",
   "metadata": {},
   "outputs": [
    {
     "name": "stdout",
     "output_type": "stream",
     "text": [
      "[1, 2, 3]\n",
      "[1, 2, 3]\n",
      "[1, 2, 3]\n",
      "[4, 5, 6, 7, 8, 9]\n",
      "[4, 5, 6, 7, 8, 9]\n",
      "[4, 5, 6, 7, 8, 9]\n",
      "[4, 5, 6, 7, 8, 9]\n",
      "[4, 5, 6, 7, 8, 9]\n",
      "[4, 5, 6, 7, 8, 9]\n",
      "[1, 2, 3]\n",
      "[1, 2, 3]\n",
      "[1, 2, 3]\n",
      "[4, 5, 6, 7, 8, 9]\n",
      "[4, 5, 6, 7, 8, 9]\n",
      "[4, 5, 6, 7, 8, 9]\n",
      "[4, 5, 6, 7, 8, 9]\n",
      "[4, 5, 6, 7, 8, 9]\n",
      "[4, 5, 6, 7, 8, 9]\n"
     ]
    }
   ],
   "source": [
    "a=[[[1,2,3],[4,5,6,7,8,9]],[[1,2,3],[4,5,6,7,8,9]]]\n",
    "for x in range(len(a)):\n",
    "    for y in range(len(a[x])):\n",
    "        for z in range(len(a[x][y])):\n",
    "            print(a[x][y])\n",
    "        "
   ]
  },
  {
   "cell_type": "code",
   "execution_count": null,
   "id": "f44c9171-bfce-4dbe-bc15-8dff648f58dd",
   "metadata": {},
   "outputs": [],
   "source": [
    "a=[[1,3,5],[7,9,11,15],[20,30,60]]\n",
    "b=[]\n",
    "for x in range(len(a)):\n",
    "    for y in range(len(a[x])):\n",
    "        if(a[x][y]%3==0 and a[x][y]%5==0):\n",
    "            b.append(a[x][y])\n",
    "print(b)"
   ]
  },
  {
   "cell_type": "code",
   "execution_count": 3,
   "id": "dce77804-9ba9-492e-a639-7dfdd22ac2f9",
   "metadata": {},
   "outputs": [
    {
     "name": "stdin",
     "output_type": "stream",
     "text": [
      "guess your number: 2\n"
     ]
    },
    {
     "name": "stdout",
     "output_type": "stream",
     "text": [
      "try again\n"
     ]
    },
    {
     "name": "stdin",
     "output_type": "stream",
     "text": [
      "guess your number: 3\n"
     ]
    },
    {
     "name": "stdout",
     "output_type": "stream",
     "text": [
      "try again\n"
     ]
    },
    {
     "name": "stdin",
     "output_type": "stream",
     "text": [
      "guess your number: 4\n"
     ]
    },
    {
     "name": "stdout",
     "output_type": "stream",
     "text": [
      "you lost the game\n",
      "the real number is 12\n"
     ]
    }
   ],
   "source": [
    "number=12\n",
    "count=0\n",
    "while True:\n",
    "    user=int(input(\"guess your number:\"))\n",
    "    if(user==number):\n",
    "        print(\"you won\")\n",
    "        break\n",
    "    else:\n",
    "        count+=1\n",
    "        if(count==3):\n",
    "            print(\"you lost the game\")\n",
    "            print(\"the real number is\",number)\n",
    "            break\n",
    "        else:\n",
    "            print(\"try again\")"
   ]
  },
  {
   "cell_type": "markdown",
   "id": "e0b540df-59c7-4022-879c-a7f96765879d",
   "metadata": {},
   "source": [
    "email=123\n",
    "password=1981\n",
    "count=0\n",
    "while True:\n",
    "    Email=int(input(\"enter your correct email:\"))\n",
    "    if(email==Email):\n",
    "        print(\"correct email\")\n",
    "        Password=int(input(\"enter your correct password:\"))\n",
    "        if(password==Password):\n",
    "            print(\"correct password\")\n",
    "            break\n",
    "        else:\n",
    "            count+=1\n",
    "            if(count==3):\n",
    "                print(\"try again later\")\n",
    "                break\n",
    "            else:\n",
    "                print(\"try again\")\n",
    "                break"
   ]
  },
  {
   "cell_type": "markdown",
   "id": "888536d4-4d5b-46e4-b40e-afeeb19dd93e",
   "metadata": {
    "jp-MarkdownHeadingCollapsed": true
   },
   "source": [
    "email=123\n",
    "password=12\n",
    "count=0\n",
    "while True:\n",
    "    Email=int(input(\"enter your correct email:\"))\n",
    "    if(email==Email):\n",
    "        print(\"correct email\")\n",
    "        break\n",
    "    else:\n",
    "        print(\"try again\")\n",
    "        count+=1\n",
    "        if(count==3):\n",
    "            print(\"wrong\")\n",
    "            break\n",
    "        Password=int(input(\"enter your correct password:\"))\n",
    "        if(password==Password):\n",
    "            print(\"correct password\")\n",
    "            break\n",
    "        else:\n",
    "            print(\"try again\")\n",
    "            count+=1\n",
    "            if(count==3):\n",
    "                print(\"wrong\")\n",
    "                break\n",
    "            else:\n",
    "                print(\"try again later\")\n",
    "                break\n",
    "        \n",
    "            "
   ]
  },
  {
   "cell_type": "markdown",
   "id": "48a4f2d6-928c-43cd-a676-0264a6590afe",
   "metadata": {
    "jp-MarkdownHeadingCollapsed": true
   },
   "source": [
    "email=123\n",
    "password=12\n",
    "count=0\n",
    "while True:\n",
    "    Email=int(input(\"enter your correct email:\"))\n",
    "    if(email==Email):\n",
    "        print(\"correct email\")\n",
    "        break\n",
    "    else:\n",
    "        print(\"try again\")\n",
    "        count+=1\n",
    "        if(count==3):\n",
    "            print(\"wrong\")\n",
    "            break\n",
    "        Password=int(input(\"enter your correct password:\"))\n",
    "        if(password==Password):\n",
    "            print(\"correct password\")\n",
    "            break\n",
    "        else:\n",
    "            print(\"try again\")\n",
    "            count+=1\n",
    "            if(count==3):\n",
    "                print(\"wrong\")\n",
    "                break\n",
    "            else:\n",
    "                print(\"try again later\")\n",
    "                break\n",
    "        \n",
    "            "
   ]
  },
  {
   "cell_type": "code",
   "execution_count": 7,
   "id": "2eac9e1b-c709-4292-9bb8-7ff59425d3c1",
   "metadata": {},
   "outputs": [
    {
     "name": "stdin",
     "output_type": "stream",
     "text": [
      "enter your correct email: 123\n"
     ]
    },
    {
     "name": "stdout",
     "output_type": "stream",
     "text": [
      "correct email\n"
     ]
    }
   ],
   "source": [
    "email=123\n",
    "password=12\n",
    "count=0\n",
    "while True:\n",
    "    Email=int(input(\"enter your correct email:\"))\n",
    "    if(email==Email):\n",
    "        print(\"correct email\")\n",
    "        break\n",
    "    else:\n",
    "        print(\"try again\")\n",
    "        count+=1\n",
    "        if(count==3):\n",
    "            print(\"wrong\")\n",
    "            break\n",
    "            Password=int(input(\"enter your correct password:\"))\n",
    "            if(password==Password):\n",
    "                print(\"correct password\")\n",
    "                break\n",
    "            else:\n",
    "                print(\"try again\")\n",
    "                count+=1\n",
    "                if(count==3):\n",
    "                    print(\"wrong\")\n",
    "                    break\n",
    "                else:\n",
    "                    print(\"try again later\")\n",
    "                    break"
   ]
  },
  {
   "cell_type": "code",
   "execution_count": 11,
   "id": "a14a9d7b-7307-4ac7-bd47-36b97466bff1",
   "metadata": {},
   "outputs": [],
   "source": [
    "# New sir work"
   ]
  },
  {
   "cell_type": "code",
   "execution_count": 14,
   "id": "73492f8e-9fe6-4792-8abf-655c4f53338d",
   "metadata": {},
   "outputs": [
    {
     "name": "stdin",
     "output_type": "stream",
     "text": [
      "enter your number 56\n"
     ]
    },
    {
     "name": "stdout",
     "output_type": "stream",
     "text": [
      "number is even\n"
     ]
    },
    {
     "name": "stdin",
     "output_type": "stream",
     "text": [
      "did you continue yes/no!! g\n"
     ]
    },
    {
     "name": "stdout",
     "output_type": "stream",
     "text": [
      "wrong\n"
     ]
    }
   ],
   "source": [
    "user=()\n",
    "count=0\n",
    "while True:\n",
    "    user=int(input(\"enter your number\"))\n",
    "    if(user%2==0):\n",
    "        print(\"number is even\")\n",
    "    else:\n",
    "        print(\"number is odd\")\n",
    "    user1=input(\"did you continue yes/no!!\")\n",
    "    if(user1==\"no\"):\n",
    "        break\n",
    "    elif(user1==\"yes\"):\n",
    "        continue\n",
    "    else:\n",
    "        print(\"wrong\")\n",
    "        break"
   ]
  },
  {
   "cell_type": "code",
   "execution_count": 50,
   "id": "28743970-6380-4967-88d8-8c908abbed29",
   "metadata": {},
   "outputs": [
    {
     "name": "stdin",
     "output_type": "stream",
     "text": [
      "enter your number 2\n"
     ]
    },
    {
     "name": "stdout",
     "output_type": "stream",
     "text": [
      "number is even\n"
     ]
    },
    {
     "name": "stdin",
     "output_type": "stream",
     "text": [
      "do you want to continue y/n!! er\n"
     ]
    },
    {
     "name": "stdout",
     "output_type": "stream",
     "text": [
      "invalid input!!\n"
     ]
    },
    {
     "name": "stdin",
     "output_type": "stream",
     "text": [
      "do you want to continue y/n!! y\n",
      "enter your number 3\n"
     ]
    },
    {
     "name": "stdout",
     "output_type": "stream",
     "text": [
      "number is odd\n"
     ]
    },
    {
     "name": "stdin",
     "output_type": "stream",
     "text": [
      "do you want to continue y/n!! n\n"
     ]
    }
   ],
   "source": [
    "user=()\n",
    "while True:\n",
    "    user=int(input(\"enter your number\"))\n",
    "    if(user%2==0):\n",
    "        print(\"number is even\")\n",
    "    else:\n",
    "        print(\"number is odd\")\n",
    "    Exit=False\n",
    "    while True:\n",
    "        choice=input(\"do you want to continue y/n!!\")\n",
    "        if(choice==\"y\"):\n",
    "            break\n",
    "        elif choice==\"n\":\n",
    "            Exit=True\n",
    "            break\n",
    "        else:\n",
    "            print(\"invalid input!!\")\n",
    "    if(Exit):\n",
    "        break\n",
    "    "
   ]
  },
  {
   "cell_type": "code",
   "execution_count": null,
   "id": "a73bf0b7-9c93-4a19-bfee-6e60392d71ad",
   "metadata": {},
   "outputs": [],
   "source": []
  },
  {
   "cell_type": "code",
   "execution_count": null,
   "id": "c0b68e8b-15d2-43c6-b8e8-d81fe09aa961",
   "metadata": {},
   "outputs": [],
   "source": []
  }
 ],
 "metadata": {
  "kernelspec": {
   "display_name": "Python 3 (ipykernel)",
   "language": "python",
   "name": "python3"
  },
  "language_info": {
   "codemirror_mode": {
    "name": "ipython",
    "version": 3
   },
   "file_extension": ".py",
   "mimetype": "text/x-python",
   "name": "python",
   "nbconvert_exporter": "python",
   "pygments_lexer": "ipython3",
   "version": "3.13.3"
  }
 },
 "nbformat": 4,
 "nbformat_minor": 5
}
