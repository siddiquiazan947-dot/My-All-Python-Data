{
 "cells": [
  {
   "cell_type": "code",
   "execution_count": 3,
   "id": "b2f70515-f304-4f3d-89ba-cfdc509e055f",
   "metadata": {},
   "outputs": [
    {
     "name": "stdout",
     "output_type": "stream",
     "text": [
      "5\n",
      "8\n",
      "18\n"
     ]
    }
   ],
   "source": [
    "class Calculator:\n",
    "    A=1\n",
    "    B=2\n",
    "    def __init__(self,v1,v2):\n",
    "        self.A=v1\n",
    "        self.B=v2\n",
    "        \n",
    "    def add(self):\n",
    "        print(self.A+self.B)\n",
    "        \n",
    "c1=Calculator(2,3)\n",
    "c2=Calculator(3,5)\n",
    "c3=Calculator(9,9)\n",
    "\n",
    "\n",
    "c1.add()\n",
    "c2.add()\n",
    "c3.add()"
   ]
  },
  {
   "cell_type": "code",
   "execution_count": 13,
   "id": "8065ab21-ea4d-4342-a9a7-2500014097e9",
   "metadata": {},
   "outputs": [],
   "source": [
    "import math"
   ]
  },
  {
   "cell_type": "code",
   "execution_count": 17,
   "id": "d673bb4a-05b6-447f-9579-ebcca91d1fb4",
   "metadata": {},
   "outputs": [
    {
     "data": {
      "text/plain": [
       "3.0"
      ]
     },
     "execution_count": 17,
     "metadata": {},
     "output_type": "execute_result"
    }
   ],
   "source": [
    "math.pow(3,1)"
   ]
  },
  {
   "cell_type": "code",
   "execution_count": 29,
   "id": "b46e25a7-7a7d-4504-a9a4-dde266a51cf8",
   "metadata": {},
   "outputs": [],
   "source": [
    "class calculator:\n",
    "    user_name=None\n",
    "    def __init__(self,name=None):\n",
    "        self.user_name=name\n",
    "    def add(self,x,y):\n",
    "        return x+y\n",
    "    def sub(self,x,y):\n",
    "        return x-y\n",
    "    def mul(self,x,y):\n",
    "        return x*y\n",
    "    def div(self,x,y):\n",
    "        return x/y"
   ]
  },
  {
   "cell_type": "code",
   "execution_count": 34,
   "id": "8968b444-4c39-42d1-9e5b-e06212ffc224",
   "metadata": {},
   "outputs": [
    {
     "name": "stdout",
     "output_type": "stream",
     "text": [
      "8\n",
      "azan\n"
     ]
    }
   ],
   "source": [
    "obj1=calculator(\"azan\")\n",
    "print(obj1.add(2,6))\n",
    "print(obj1.user_name)"
   ]
  },
  {
   "cell_type": "code",
   "execution_count": 74,
   "id": "95a4c5d4-7fed-4f7d-82e2-d080f82e5d1f",
   "metadata": {},
   "outputs": [],
   "source": [
    "#Inharitance\n",
    "class animal:\n",
    "    legs=None\n",
    "    eys=None\n",
    "    tail=None\n",
    "    ears=None\n",
    "    colour=None\n",
    "    def voice(self):\n",
    "        print(\"-------\")\n",
    "    def walk(self):\n",
    "        print(\"Animal is walking--\")\n",
    "    def get_legs(self):\n",
    "        return self.legs\n",
    "    def get_ears(self):\n",
    "        return self.legs\n",
    "    def set_legs(self,legs):\n",
    "        self.legs=legs\n",
    "    def set_ears(self,ears):\n",
    "        self.ears=ears\n",
    "class dog(animal):\n",
    "    def __init__(self,legs,eyes,tail,ear,colour):\n",
    "        self.legs=legs\n",
    "        self.eys=eyes\n",
    "        self.tail=tail\n",
    "        self.ears=ear\n",
    "        self.colour=colour\n",
    "    def voice(self):\n",
    "       print(\"dog is barking---\")"
   ]
  },
  {
   "cell_type": "code",
   "execution_count": 75,
   "id": "cded9142-7c2f-4ee0-aea0-f1209f820443",
   "metadata": {},
   "outputs": [
    {
     "name": "stdout",
     "output_type": "stream",
     "text": [
      "None\n",
      "4\n",
      "dog is barking---\n"
     ]
    }
   ],
   "source": [
    "objectanimal=animal()\n",
    "objectdog=dog(4,2,2,1,\"white\")\n",
    "print(objectanimal.legs)\n",
    "objectdog.set_ears(5)\n",
    "print(objectdog.legs)\n",
    "objectdog.voice()\n"
   ]
  },
  {
   "cell_type": "code",
   "execution_count": 85,
   "id": "b2299e8c-c481-460c-ab11-6b1a7e5a95ce",
   "metadata": {},
   "outputs": [],
   "source": [
    "#Task\n",
    "class human:\n",
    "    hands=None\n",
    "    legs=None\n",
    "    eyes=None\n",
    "    nose=None\n",
    "    ears=None\n",
    "    def voice(self):\n",
    "        print(\"------\")\n",
    "    def walk(self):\n",
    "        print(\"------\")\n",
    "#get\n",
    "    def get_hands(self):\n",
    "        return self.hands\n",
    "    def get_legs(self):\n",
    "        return self.legs\n",
    "    def get_eyes(self):\n",
    "        return self.eyes\n",
    "    def get_nose(self):\n",
    "        return self.nose\n",
    "    def get_ears(self):\n",
    "        return self.ears\n",
    "#Set\n",
    "    def set_hands(self,hands):\n",
    "        self.hands=hands\n",
    "    def set_legs(self,legs):\n",
    "        self.legs=legs\n",
    "    def set_eyes(self,eyes):\n",
    "        self.eyes=eyes\n",
    "    def set_nose(self,nose):\n",
    "        self.nose=nose\n",
    "    def set_ears(self,ears):\n",
    "        self.ears=ears\n",
    "class men(human):\n",
    "    def __init__(self,hand,leg,eye,nose,ear):\n",
    "        self.hands=hand\n",
    "        self.legs=leg\n",
    "        self.eyes=eye\n",
    "        self.nose=nose\n",
    "        self.ears=ear\n",
    "    def voice(self):\n",
    "        print(\"Mens voice are thik--\")\n",
    "    def walk(self):\n",
    "        print(\"Men walks with his legs\")\n",
    "class women(human):\n",
    "    def __init__(self,hand,leg,eye,nose,ear):\n",
    "        self.hands=hand\n",
    "        self.legs=leg\n",
    "        self.eyes=eye\n",
    "        self.nose=nose\n",
    "        self.ears=ear\n",
    "    def voice(self):\n",
    "        print(\"women voice are thin--\")\n",
    "    def walk(self):\n",
    "        print(\"Men walks with his legs\")\n",
    "class child(human):\n",
    "    def __init__(self,hand,leg,eye,nose,ear):\n",
    "        self.hands=hand\n",
    "        self.legs=leg\n",
    "        self.eyes=eye\n",
    "        self.nose=nose\n",
    "        self.ears=ear\n",
    "    def voice(self):\n",
    "        print(\"child has no voice\")\n",
    "    def walk(self):\n",
    "        print(\"Men walks with his legs\")"
   ]
  },
  {
   "cell_type": "code",
   "execution_count": 101,
   "id": "7bda067b-020f-4e2c-9026-efb5b74c8a8b",
   "metadata": {},
   "outputs": [
    {
     "name": "stdout",
     "output_type": "stream",
     "text": [
      "2\n",
      "1\n",
      "Mens voice are thik--\n",
      "2\n",
      "2\n",
      "women voice are thin--\n"
     ]
    }
   ],
   "source": [
    "objecthuman=human()\n",
    "objectmen=men(2,2,2,1,2)\n",
    "print(objectmen.hands)\n",
    "objectmen.get_nose()\n",
    "print(objectmen.nose)\n",
    "objectmen.voice()\n",
    "objectwomen=women(2,2,2,1,2)\n",
    "print(objectwomen.hands)\n",
    "objectwomen.set_nose(2)\n",
    "print(objectwomen.nose)\n",
    "objectwomen.voice()"
   ]
  },
  {
   "cell_type": "code",
   "execution_count": 22,
   "id": "677bad8d-4967-4093-801b-5978e714ed0f",
   "metadata": {},
   "outputs": [],
   "source": [
    "class student:\n",
    "    Name=None\n",
    "    Roll=None\n",
    "    class_name=None\n",
    "    def __init__(self,Name,Roll,CN):\n",
    "        self.Name=Name\n",
    "        self.Roll=Roll\n",
    "        self.class_name=CN\n",
    "class university:\n",
    "    students=[]\n",
    "    def add_student(self,student):\n",
    "        self.students.append(student)\n",
    "    def remove_student(self,roll):\n",
    "        for index,stud in enumerate(self.students):\n",
    "            if(stud.Roll==roll):\n",
    "                self.students.pop(index)\n",
    "    def display(self):\n",
    "        for stud in self.students:\n",
    "            print(f\"Name:{stud.Name}\\nRoll:{stud.Roll}\")\n",
    "            print(\"-------\")"
   ]
  },
  {
   "cell_type": "code",
   "execution_count": 26,
   "id": "9b05429b-515a-4b1d-9b9d-8df0108f52a6",
   "metadata": {},
   "outputs": [
    {
     "name": "stdout",
     "output_type": "stream",
     "text": [
      "Name:Azan\n",
      "Roll:0001\n",
      "-------\n",
      "Name:ali\n",
      "Roll:0002\n",
      "-------\n",
      "Name:Azan\n",
      "Roll:0001\n",
      "-------\n",
      "Name:Azan\n",
      "Roll:0001\n",
      "-------\n",
      "Name:Azan\n",
      "Roll:0001\n",
      "-------\n",
      "Name:ali\n",
      "Roll:0002\n",
      "-------\n"
     ]
    }
   ],
   "source": [
    "stud1=student(\"Azan\",\"0001\",\"SMIT\")\n",
    "stud2=student(\"ali\",\"0002\",\"SMIT\")\n",
    "my_uni=university()\n",
    "my_uni.add_student(stud1)\n",
    "my_uni.add_student(stud2)\n",
    "my_uni.display()"
   ]
  },
  {
   "cell_type": "code",
   "execution_count": 27,
   "id": "f2d1557d-5454-4b88-87db-58c4bb1da1dd",
   "metadata": {},
   "outputs": [],
   "source": [
    "class person:\n",
    "    Name=None\n",
    "    Age=None\n",
    "class Studend2(person):\n",
    "    Roll=None\n",
    "    Grade=None\n",
    "    def __init__(self,Name,Age,Roll,Grade):\n",
    "        self.Name=Name\n",
    "        self.Age=Age\n",
    "        self.Roll=Roll\n",
    "        self.Grade=Grade"
   ]
  },
  {
   "cell_type": "code",
   "execution_count": 98,
   "id": "17171251-995e-4d8d-89d9-4607131f7549",
   "metadata": {},
   "outputs": [
    {
     "name": "stdout",
     "output_type": "stream",
     "text": [
      "A1\n"
     ]
    }
   ],
   "source": [
    "p=Studend2(\"Azan\",16,1,\"A1\")\n",
    "print(p.Grade)"
   ]
  },
  {
   "cell_type": "code",
   "execution_count": 35,
   "id": "eda6ca6e-af15-46c1-a3b1-68fc0b6ffee7",
   "metadata": {},
   "outputs": [],
   "source": [
    "class person:\n",
    "    Name=None\n",
    "    Age=None\n",
    "    def __init__(self,Name,Age):\n",
    "        self.Name=Name\n",
    "        self.Age=Age\n",
    "class Studend2(person):              #SUPER FUNCTION\n",
    "    Roll=None\n",
    "    Grade=None\n",
    "    def __init__(self,Name,Age,Roll,Grade):\n",
    "        super().__init__(\"Name\",\"Age\")\n",
    "        self.Roll=Roll\n",
    "        self.Grade=Grade"
   ]
  },
  {
   "cell_type": "code",
   "execution_count": 99,
   "id": "cb947726-36f6-4e16-ba74-85ef9f8b84fb",
   "metadata": {},
   "outputs": [
    {
     "name": "stdout",
     "output_type": "stream",
     "text": [
      "A1\n"
     ]
    }
   ],
   "source": [
    "obj=Studend2(\"Azan\",16,1,\"A1\")\n",
    "obj1=Studend2(\"Azan\",16,1,\"A1\")\n",
    "print(obj1.Grade)"
   ]
  },
  {
   "cell_type": "code",
   "execution_count": 90,
   "id": "d24d9c0d-4567-4dc3-bb7e-38ea6562fc2c",
   "metadata": {},
   "outputs": [],
   "source": [
    "class student:\n",
    "    Name=None\n",
    "    Roll=None\n",
    "    class_name=None\n",
    "    def __init__(self,Name,Roll,CN):\n",
    "        self.Name=Name\n",
    "        self.Roll=Roll\n",
    "        self.class_name=CN\n",
    "class university:\n",
    "    students=[]\n",
    "    def __len__(self):\n",
    "        return len(self.students)\n",
    "    def add_student(self,student):\n",
    "        self.students.append(student)\n",
    "    def remove_student(self,roll):\n",
    "        for index,stud in enumerate(self.students):\n",
    "            if(stud.Roll==roll):\n",
    "                self.students.pop(index)\n",
    "    def display(self):\n",
    "        for stud in self.students:\n",
    "            print(f\"Name:{stud.Name}\\nRoll:{stud.Roll}\")\n",
    "            print(\"-------\")"
   ]
  },
  {
   "cell_type": "code",
   "execution_count": 91,
   "id": "3edaeab7-6da8-438e-badc-d17604d81881",
   "metadata": {},
   "outputs": [
    {
     "name": "stdout",
     "output_type": "stream",
     "text": [
      "Name:Azan\n",
      "Roll:0001\n",
      "-------\n",
      "Name:ali\n",
      "Roll:0002\n",
      "-------\n",
      "Name:kaif\n",
      "Roll:0003\n",
      "-------\n",
      "3\n"
     ]
    }
   ],
   "source": [
    "stud1=student(\"Azan\",\"0001\",\"SMIT\")\n",
    "stud2=student(\"ali\",\"0002\",\"SMIT\")\n",
    "stud3=student(\"kaif\",\"0003\",\"SMIT\")\n",
    "my_uni=university()\n",
    "my_uni.add_student(stud1)\n",
    "my_uni.add_student(stud2)\n",
    "my_uni.add_student(stud3)\n",
    "my_uni.display()\n",
    "print(len(my_uni))"
   ]
  },
  {
   "cell_type": "markdown",
   "id": "a6c60be4-2ef7-4f1f-8f07-3fd9a6574410",
   "metadata": {},
   "source": [
    "stud1=student(\"Azan\",\"0001\",\"SMIT\")\n",
    "stud2=student(\"ali\",999,\"SMIT\")\n",
    "stud3=student(\"kaif\",44,\"SMIT\")\n",
    "my_uni=university()\n",
    "my_uni.add_student(stud1)\n",
    "my_uni.add_student(stud2)\n",
    "my_uni.add_student(stud3)\n",
    "my_uni.display()\n",
    "print(str(stud1))"
   ]
  },
  {
   "cell_type": "code",
   "execution_count": 78,
   "id": "3bdb0922-c475-4e7c-926c-14dbae7c50fd",
   "metadata": {},
   "outputs": [],
   "source": [
    "class bank:\n",
    "    amount=None\n",
    "    holder_name=None\n",
    "    def __init__(self,amount,name):          #ADD,SUBTRACT\n",
    "        self.amount=amount\n",
    "        self.holder_name=name\n",
    "    def __repr__(self):\n",
    "        return f\"Account Title:{self.holder_name}\\nAccount Balance:{self.amount}\"\n",
    "    def __sub__(self,other):\n",
    "        self.amount-=other\n",
    "        print(\"Transaction Complete\")\n",
    "    def __add__(self,other):\n",
    "        self.amount+=other\n",
    "        print(\"Transaction Complete\")"
   ]
  },
  {
   "cell_type": "code",
   "execution_count": 81,
   "id": "f529411b-d51e-4118-9967-cc1513e53b6d",
   "metadata": {},
   "outputs": [
    {
     "name": "stdout",
     "output_type": "stream",
     "text": [
      "Transaction Complete\n",
      "None\n",
      "1000\n",
      "Transaction Complete\n",
      "None\n",
      "10000\n"
     ]
    }
   ],
   "source": [
    "myaccount=bank(10000,\"Azan\")\n",
    "print(myaccount-9000)\n",
    "print(myaccount.amount)\n",
    "print(myaccount+9000)\n",
    "print(myaccount.amount)"
   ]
  },
  {
   "cell_type": "code",
   "execution_count": 24,
   "id": "756b05e0-2326-4403-9abe-2246321a8643",
   "metadata": {},
   "outputs": [],
   "source": [
    "class mobile:\n",
    "    Name=None\n",
    "    Price=None\n",
    "    def __init__(self,Name,Price):\n",
    "        self.Name=Name\n",
    "        self.Price=Price\n",
    "    def __repr__(self):\n",
    "        return f\"Mobile Name:{self.Name}\\nPrice:{self.Price}\"\n",
    "    def __str__(self):\n",
    "        return f\"{self.Name}\"\n",
    "    def __int__(self):\n",
    "        return f\"({self.Price})\""
   ]
  },
  {
   "cell_type": "code",
   "execution_count": 25,
   "id": "c6ec9d92-0b7d-40f5-b236-f7f6f6c9190a",
   "metadata": {},
   "outputs": [
    {
     "name": "stdout",
     "output_type": "stream",
     "text": [
      "Infinix\n",
      "Mobile Name:Infinix\n",
      "Price:25000\n"
     ]
    }
   ],
   "source": [
    "My_Mobile=mobile(\"Infinix\",25000)\n",
    "print(str(My_Mobile))\n",
    "print(repr(My_Mobile))"
   ]
  },
  {
   "cell_type": "code",
   "execution_count": 9,
   "id": "34cc72fa-c74b-46ce-9eee-3f65f0547042",
   "metadata": {},
   "outputs": [],
   "source": [
    "#NEW WORK __________________\n",
    "def display_massege(Massege):\n",
    "    print(\"HELLO\")\n",
    "    print(Massege)\n",
    "    print(\"byee\")"
   ]
  },
  {
   "cell_type": "code",
   "execution_count": 10,
   "id": "f8cc7406-6fa7-436c-bdc4-2eb631e02f2a",
   "metadata": {},
   "outputs": [
    {
     "name": "stdout",
     "output_type": "stream",
     "text": [
      "HELLO\n",
      "Hi\n",
      "byee\n"
     ]
    }
   ],
   "source": [
    "display_massege(\"Hi\")"
   ]
  },
  {
   "cell_type": "code",
   "execution_count": 19,
   "id": "bd8d923e-c7a8-4215-bc11-5d16d5cf595c",
   "metadata": {},
   "outputs": [],
   "source": [
    "def my_decorator(func):\n",
    "    def wrapper():\n",
    "        print(\"HELLO\")\n",
    "        func()\n",
    "        print(\"byee\")              #Wrapper\n",
    "    return wrapper"
   ]
  },
  {
   "cell_type": "code",
   "execution_count": 20,
   "id": "135935e5-468f-46ac-9e54-69e50a97b13d",
   "metadata": {},
   "outputs": [
    {
     "name": "stdout",
     "output_type": "stream",
     "text": [
      "HELLO\n",
      "Azan\n",
      "byee\n"
     ]
    }
   ],
   "source": [
    "def display_message():\n",
    "    print(\"Azan\")\n",
    "decorated_message=my_decorator(display_message)\n",
    "decorated_message()"
   ]
  },
  {
   "cell_type": "code",
   "execution_count": 30,
   "id": "7dcbb6f0-9f72-4154-a7d2-ba44e6681da1",
   "metadata": {},
   "outputs": [],
   "source": [
    "def my_Decorator(function):\n",
    "    def wrapper(*arg,**kuargs):\n",
    "        print(\"welcome to SMIT--\")\n",
    "        result=function(*arg,**kuargs)\n",
    "        print(\"Thank You\")\n",
    "        return result                         #*arg all arguments\n",
    "    return wrapper                            #\n",
    "@my_Decorator\n",
    "def display_name(name):\n",
    "    print(name)"
   ]
  },
  {
   "cell_type": "code",
   "execution_count": 31,
   "id": "376e1532-496a-4230-9b6b-fa7b95a0aa50",
   "metadata": {},
   "outputs": [
    {
     "name": "stdout",
     "output_type": "stream",
     "text": [
      "welcome to SMIT--\n",
      "Azan\n",
      "Thank You\n"
     ]
    }
   ],
   "source": [
    "display_name(\"Azan\")"
   ]
  },
  {
   "cell_type": "code",
   "execution_count": 50,
   "id": "5ae51112-b586-4311-a4d4-8e0a9d06a0e0",
   "metadata": {},
   "outputs": [],
   "source": [
    "def my_Decorator(function):\n",
    "    def wrapper(*arg,**kuargs):\n",
    "        print(\"welcome to SMIT--\")\n",
    "        print(*arg)\n",
    "        print(*kuargs)\n",
    "        print(\"Thank You\") \n",
    "    return wrapper                            \n",
    "@my_Decorator\n",
    "def display_name(name,fname):\n",
    "    print(\"HELLO\")"
   ]
  },
  {
   "cell_type": "code",
   "execution_count": 52,
   "id": "f9ba8d5b-ddf2-4579-940a-d32b46739d53",
   "metadata": {},
   "outputs": [
    {
     "name": "stdout",
     "output_type": "stream",
     "text": [
      "welcome to SMIT--\n",
      "Azan Rizwan\n",
      "\n",
      "Thank You\n"
     ]
    }
   ],
   "source": [
    "display_name(\"Azan\",\"Rizwan\")"
   ]
  },
  {
   "cell_type": "code",
   "execution_count": 64,
   "id": "e3354b73-66e1-4044-bae2-3971a158363f",
   "metadata": {},
   "outputs": [],
   "source": [
    "class account:\n",
    "    name=None\n",
    "    ammount=None\n",
    "    def __init__(self,name,ammount):\n",
    "        self.name=name\n",
    "        self.ammount=ammount\n",
    "    def __repr__(self):\n",
    "        return f\"Account Holder Name:{self.name}\\nTotal Ammount:{self.ammount}\"\n",
    "    def __add__(self,other):\n",
    "        user=input(\"did you want to add y/n\")\n",
    "        if(user==y):\n",
    "            self.ammount+=other\n",
    "            print(\"Transaction Complete\")\n",
    "        else:\n",
    "            print(\"Transaction ended\")\n",
    "    "
   ]
  },
  {
   "cell_type": "code",
   "execution_count": 66,
   "id": "f027e905-e5c6-44a9-8a50-c30cf0d86a95",
   "metadata": {},
   "outputs": [
    {
     "name": "stdout",
     "output_type": "stream",
     "text": [
      "Account Holder Name:azan\n",
      "Total Ammount:1000\n"
     ]
    }
   ],
   "source": [
    "a1=account(\"azan\",1000)\n",
    "print(a1)"
   ]
  },
  {
   "cell_type": "code",
   "execution_count": 99,
   "id": "b32338fc-d647-4a07-aa1f-595f6f026c45",
   "metadata": {},
   "outputs": [
    {
     "name": "stdout",
     "output_type": "stream",
     "text": [
      "ERROR! Session/line number was not unique in database. History logging moved to new session 105\n"
     ]
    }
   ],
   "source": [
    "ammount=15000\n",
    "account_title=\"Azan\"\n",
    "def comfermation(func):\n",
    "    def wrapper(*arg,**kuargs):\n",
    "        confirm=input(f\"do you want to continue{func.__name__} transaction (y/n)\")\n",
    "        if(confirm.lower()==\"y\"):\n",
    "            result=func(*arg,**kuargs)\n",
    "            print(\"Transaction complete\")\n",
    "        else:\n",
    "            result=None\n",
    "            print(\"Transaction incomplete\")\n",
    "            print(\"Thank you\")\n",
    "    return wrapper\n",
    "@comfermation            \n",
    "def deposit(value):\n",
    "    global ammount\n",
    "    ammount+=value\n",
    "@comfermation\n",
    "def check_balance():\n",
    "    print(ammount)\n",
    "@comfermation\n",
    "def withdraw(value):\n",
    "    ammount-=value"
   ]
  },
  {
   "cell_type": "code",
   "execution_count": 100,
   "id": "4aa1b348-2415-4b0a-a6d7-905a6ce3c664",
   "metadata": {},
   "outputs": [
    {
     "name": "stdin",
     "output_type": "stream",
     "text": [
      "do you want to continuewithdraw transaction (y/n) y\n"
     ]
    },
    {
     "ename": "UnboundLocalError",
     "evalue": "cannot access local variable 'ammount' where it is not associated with a value",
     "output_type": "error",
     "traceback": [
      "\u001b[31m---------------------------------------------------------------------------\u001b[39m",
      "\u001b[31mUnboundLocalError\u001b[39m                         Traceback (most recent call last)",
      "\u001b[36mCell\u001b[39m\u001b[36m \u001b[39m\u001b[32mIn[100]\u001b[39m\u001b[32m, line 1\u001b[39m\n\u001b[32m----> \u001b[39m\u001b[32m1\u001b[39m \u001b[43mwithdraw\u001b[49m\u001b[43m(\u001b[49m\u001b[32;43m1000\u001b[39;49m\u001b[43m)\u001b[49m\n\u001b[32m      2\u001b[39m check_balance()\n",
      "\u001b[36mCell\u001b[39m\u001b[36m \u001b[39m\u001b[32mIn[99]\u001b[39m\u001b[32m, line 7\u001b[39m, in \u001b[36mcomfermation.<locals>.wrapper\u001b[39m\u001b[34m(*arg, **kuargs)\u001b[39m\n\u001b[32m      5\u001b[39m confirm=\u001b[38;5;28minput\u001b[39m(\u001b[33mf\u001b[39m\u001b[33m\"\u001b[39m\u001b[33mdo you want to continue\u001b[39m\u001b[38;5;132;01m{\u001b[39;00mfunc.\u001b[34m__name__\u001b[39m\u001b[38;5;132;01m}\u001b[39;00m\u001b[33m transaction (y/n)\u001b[39m\u001b[33m\"\u001b[39m)\n\u001b[32m      6\u001b[39m \u001b[38;5;28;01mif\u001b[39;00m(confirm.lower()==\u001b[33m\"\u001b[39m\u001b[33my\u001b[39m\u001b[33m\"\u001b[39m):\n\u001b[32m----> \u001b[39m\u001b[32m7\u001b[39m     result=\u001b[43mfunc\u001b[49m\u001b[43m(\u001b[49m\u001b[43m*\u001b[49m\u001b[43marg\u001b[49m\u001b[43m,\u001b[49m\u001b[43m*\u001b[49m\u001b[43m*\u001b[49m\u001b[43mkuargs\u001b[49m\u001b[43m)\u001b[49m\n\u001b[32m      8\u001b[39m     \u001b[38;5;28mprint\u001b[39m(\u001b[33m\"\u001b[39m\u001b[33mTransaction complete\u001b[39m\u001b[33m\"\u001b[39m)\n\u001b[32m      9\u001b[39m \u001b[38;5;28;01melse\u001b[39;00m:\n",
      "\u001b[36mCell\u001b[39m\u001b[36m \u001b[39m\u001b[32mIn[99]\u001b[39m\u001b[32m, line 23\u001b[39m, in \u001b[36mwithdraw\u001b[39m\u001b[34m(value)\u001b[39m\n\u001b[32m     21\u001b[39m \u001b[38;5;129m@comfermation\u001b[39m\n\u001b[32m     22\u001b[39m \u001b[38;5;28;01mdef\u001b[39;00m\u001b[38;5;250m \u001b[39m\u001b[34mwithdraw\u001b[39m(value):\n\u001b[32m---> \u001b[39m\u001b[32m23\u001b[39m     \u001b[43mammount\u001b[49m-=value\n",
      "\u001b[31mUnboundLocalError\u001b[39m: cannot access local variable 'ammount' where it is not associated with a value"
     ]
    }
   ],
   "source": [
    "withdraw(1000)\n",
    "check_balance()"
   ]
  },
  {
   "cell_type": "code",
   "execution_count": 1,
   "id": "b0af013b-62c5-4521-a2ab-3ed0e5231bc8",
   "metadata": {},
   "outputs": [],
   "source": [
    "#TASKS"
   ]
  },
  {
   "cell_type": "code",
   "execution_count": 2,
   "id": "40dbca28-4b31-4a76-9599-5b07e8d35de3",
   "metadata": {},
   "outputs": [],
   "source": [
    "class Book():\n",
    "    title=None\n",
    "    author=None\n",
    "    pages=None\n",
    "    def __init__(self,Title,Author,Pages):\n",
    "        self.title=Title\n",
    "        self.author=Author\n",
    "        self.pages=Pages\n",
    "    def __str__(self):\n",
    "        return f\"{self.author}\"\n",
    "    def __repr__(self):\n",
    "        return f\"Book Title:{self.title}\\nBook Author:{self.author}\\nBook Pages:{self.pages}\""
   ]
  },
  {
   "cell_type": "code",
   "execution_count": 5,
   "id": "f300bf20-0286-47f4-8c43-827fd6ac4635",
   "metadata": {},
   "outputs": [
    {
     "name": "stdout",
     "output_type": "stream",
     "text": [
      "Book Title:Maths\n",
      "Book Author:M.Azan\n",
      "Book Pages:250\n"
     ]
    }
   ],
   "source": [
    "My_book=Book(\"Maths\",\"M.Azan\",250)\n",
    "#print(str(My_book))\n",
    "print(repr(My_book))"
   ]
  },
  {
   "cell_type": "code",
   "execution_count": 16,
   "id": "aa49f7e7-68ea-42d1-899d-afe9ec294e10",
   "metadata": {},
   "outputs": [],
   "source": [
    "class Vector:\n",
    "    x=None\n",
    "    y=None\n",
    "    def __init__(self,x,y):\n",
    "        self.x=x\n",
    "        self.y=y\n",
    "    def add(self):\n",
    "        return self.x+self.y"
   ]
  },
  {
   "cell_type": "code",
   "execution_count": 17,
   "id": "e21ae533-1fd3-416a-a362-8a4c58f9e734",
   "metadata": {},
   "outputs": [
    {
     "data": {
      "text/plain": [
       "7"
      ]
     },
     "execution_count": 17,
     "metadata": {},
     "output_type": "execute_result"
    }
   ],
   "source": [
    "v1=Vector(2,5)\n",
    "v1.add()"
   ]
  },
  {
   "cell_type": "code",
   "execution_count": 34,
   "id": "ecd88f89-01b9-4c33-b1a5-9b9a4c523f4c",
   "metadata": {},
   "outputs": [],
   "source": [
    "class playlist:\n",
    "    def __init__(self,song1,song2,song3):\n",
    "        self.songs=[song1,song2,song3]\n",
    "    def __len__(self):\n",
    "        return len(self.songs)"
   ]
  },
  {
   "cell_type": "code",
   "execution_count": 35,
   "id": "02d538ae-2e58-4aaa-975e-739902f14a00",
   "metadata": {},
   "outputs": [
    {
     "name": "stdout",
     "output_type": "stream",
     "text": [
      "3\n"
     ]
    }
   ],
   "source": [
    "play=playlist(\"saki saki\",\"phonk\",\"hai tamanna hame\")\n",
    "print(len(play))"
   ]
  },
  {
   "cell_type": "code",
   "execution_count": 1,
   "id": "6941c829-2ff3-4f95-bf98-a73f357bf080",
   "metadata": {},
   "outputs": [],
   "source": [
    "class student:\n",
    "    Name=None\n",
    "    Marks=None\n",
    "    def __init__(self,Name,Marks):\n",
    "        self.Name=Name\n",
    "        self.Marks=Marks\n",
    "    def __comp__(self,other):\n",
    "        if self.Marks>80:\n",
    "        elif self.Marks<80:\n",
    "            return f\"{self.Name}:contain low marks\""
   ]
  },
  {
   "cell_type": "code",
   "execution_count": 9,
   "id": "38f6d72c-098c-4b0c-b3f6-24cf86bc74d3",
   "metadata": {},
   "outputs": [
    {
     "ename": "NameError",
     "evalue": "name 'comp' is not defined",
     "output_type": "error",
     "traceback": [
      "\u001b[31m---------------------------------------------------------------------------\u001b[39m",
      "\u001b[31mNameError\u001b[39m                                 Traceback (most recent call last)",
      "\u001b[36mCell\u001b[39m\u001b[36m \u001b[39m\u001b[32mIn[9]\u001b[39m\u001b[32m, line 3\u001b[39m\n\u001b[32m      1\u001b[39m std1=student(\u001b[33m\"\u001b[39m\u001b[33mAzan\u001b[39m\u001b[33m\"\u001b[39m,\u001b[32m82\u001b[39m)\n\u001b[32m      2\u001b[39m std2=student(\u001b[33m\"\u001b[39m\u001b[33mKaif\u001b[39m\u001b[33m\"\u001b[39m,\u001b[32m85\u001b[39m)\n\u001b[32m----> \u001b[39m\u001b[32m3\u001b[39m c1=\u001b[43mcomp\u001b[49m(std1,std2)\n",
      "\u001b[31mNameError\u001b[39m: name 'comp' is not defined"
     ]
    }
   ],
   "source": [
    "std1=student(\"Azan\",82)\n",
    "std2=student(\"Kaif\",85)"
   ]
  },
  {
   "cell_type": "code",
   "execution_count": 10,
   "id": "33499f6d-fe75-4a44-931d-468c7ea95447",
   "metadata": {},
   "outputs": [],
   "source": [
    "#LOGGER DECORATOR"
   ]
  },
  {
   "cell_type": "code",
   "execution_count": 43,
   "id": "bc050b2e-cf38-4f45-ae29-d34662092663",
   "metadata": {},
   "outputs": [],
   "source": [
    "from datetime import datetime as dt\n",
    "import functools"
   ]
  },
  {
   "cell_type": "code",
   "execution_count": 15,
   "id": "46f1259c-74aa-4901-a202-bdc13fed39d8",
   "metadata": {},
   "outputs": [
    {
     "name": "stdout",
     "output_type": "stream",
     "text": [
      "2025-08-15 01:45:15.719137\n"
     ]
    }
   ],
   "source": [
    "print(dt.now())"
   ]
  },
  {
   "cell_type": "code",
   "execution_count": 40,
   "id": "f7284bdb-588a-4c75-9f32-7133df329fbd",
   "metadata": {},
   "outputs": [
    {
     "name": "stdout",
     "output_type": "stream",
     "text": [
      "<attribute 'day' of 'datetime.date' objects>\n"
     ]
    }
   ],
   "source": [
    "print(dt.day)"
   ]
  },
  {
   "cell_type": "code",
   "execution_count": 34,
   "id": "6583ffbb-5dac-4087-bd45-25112959f497",
   "metadata": {},
   "outputs": [],
   "source": [
    "def logger(func):\n",
    "    def wrapper(*args,**kuargs):\n",
    "        print(f\"{dt.now()} Running--{func.__name__}-\")\n",
    "        result=func(*args,**kuargs)\n",
    "        print(f\"{dt.now()} Running--{func.__name__}--\")\n",
    "        return result\n",
    "    return wrapper"
   ]
  },
  {
   "cell_type": "code",
   "execution_count": 35,
   "id": "7fc24c8f-31ac-42ca-becc-e654b0a358f6",
   "metadata": {},
   "outputs": [],
   "source": [
    "@logger\n",
    "def add(a,b):\n",
    "    print(f\"function return:(a+b)\")"
   ]
  },
  {
   "cell_type": "code",
   "execution_count": 36,
   "id": "bfefe78f-f393-489f-8162-4c644912eca4",
   "metadata": {},
   "outputs": [
    {
     "name": "stdout",
     "output_type": "stream",
     "text": [
      "2025-08-15 01:58:05.812818 Running--add-\n",
      "function return:(a+b)\n",
      "2025-08-15 01:58:05.813566 Running--add--\n"
     ]
    }
   ],
   "source": [
    "add(3,4)"
   ]
  },
  {
   "cell_type": "code",
   "execution_count": 41,
   "id": "ee2c7b97-c573-4d20-95bb-304cfaeab57c",
   "metadata": {},
   "outputs": [],
   "source": [
    "class callcount:\n",
    "    def __init__(self,func):\n",
    "        self.func=func\n",
    "        self.count=o\n",
    "    def __call__(self,*args,**kuargs):\n",
    "        self.count +=1\n",
    "        return self.func(*args,**kuargs) \n",
    "def logger(func):\n",
    "    def wrapper(*args,**kuargs):\n",
    "        print(f\"{dt.now()} Running--{func.__name__}-\")\n",
    "        result=func(*args,**kuargs)\n",
    "        finished_log=print(f\"{dt.now()} Running--{func.__name__}--\")\n",
    "        return result\n",
    "    return wrapper"
   ]
  },
  {
   "cell_type": "code",
   "execution_count": 42,
   "id": "9fc76528-a1f2-450f-bbe6-bd06dbc202bf",
   "metadata": {},
   "outputs": [],
   "source": [
    "@logger\n",
    "def add(a,b):\n",
    "    print(f\"function return:(a+b)\")  "
   ]
  },
  {
   "cell_type": "code",
   "execution_count": 1,
   "id": "0d80c59e-f3ad-4dfc-bb47-30dee1d092bd",
   "metadata": {},
   "outputs": [],
   "source": [
    "class callcount:\n",
    "    def __init__(self,func):\n",
    "        self.func=func\n",
    "        self.count=o\n",
    "    def __call__(self,*args,**kuargs):\n",
    "        self.count +=1\n",
    "        return self.func(*args,**kuargs)\n",
    "        "
   ]
  },
  {
   "cell_type": "code",
   "execution_count": 2,
   "id": "087f8b6f-e822-4c6d-b39e-3ef5b7e10fbf",
   "metadata": {},
   "outputs": [],
   "source": [
    "#---------NEW WORK---------"
   ]
  },
  {
   "cell_type": "code",
   "execution_count": null,
   "id": "33587872-313b-4aad-bfc6-8d972679f4d3",
   "metadata": {},
   "outputs": [],
   "source": []
  }
 ],
 "metadata": {
  "kernelspec": {
   "display_name": "Python 3 (ipykernel)",
   "language": "python",
   "name": "python3"
  },
  "language_info": {
   "codemirror_mode": {
    "name": "ipython",
    "version": 3
   },
   "file_extension": ".py",
   "mimetype": "text/x-python",
   "name": "python",
   "nbconvert_exporter": "python",
   "pygments_lexer": "ipython3",
   "version": "3.13.3"
  }
 },
 "nbformat": 4,
 "nbformat_minor": 5
}
